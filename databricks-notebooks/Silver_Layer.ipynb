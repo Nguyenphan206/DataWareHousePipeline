{
 "cells": [
  {
   "cell_type": "code",
   "execution_count": 0,
   "metadata": {
    "application/vnd.databricks.v1+cell": {
     "cellMetadata": {
      "byteLimit": 2048000,
      "rowLimit": 10000
     },
     "inputWidgets": {},
     "nuid": "7dae95f4-6e21-4946-b711-f38bf865549e",
     "showTitle": false,
     "tableResultSettingsMap": {},
     "title": ""
    }
   },
   "outputs": [],
   "source": [
    "from pyspark.sql.functions import *\n",
    "from pyspark.sql.types import *"
   ]
  },
  {
   "cell_type": "markdown",
   "metadata": {
    "application/vnd.databricks.v1+cell": {
     "cellMetadata": {
      "byteLimit": 2048000,
      "rowLimit": 10000
     },
     "inputWidgets": {},
     "nuid": "8fb18e1f-656d-46a7-b0e5-dee6f3cdb482",
     "showTitle": false,
     "tableResultSettingsMap": {},
     "title": ""
    }
   },
   "source": [
    "## **SILVER LAYER SCRIPT**"
   ]
  },
  {
   "cell_type": "markdown",
   "metadata": {
    "application/vnd.databricks.v1+cell": {
     "cellMetadata": {
      "byteLimit": 2048000,
      "rowLimit": 10000
     },
     "inputWidgets": {},
     "nuid": "1dad4a79-67c9-496d-a31b-683c8600448c",
     "showTitle": false,
     "tableResultSettingsMap": {},
     "title": ""
    }
   },
   "source": [
    "### DATA ACCESS USING APP"
   ]
  },
  {
   "cell_type": "code",
   "execution_count": 0,
   "metadata": {
    "application/vnd.databricks.v1+cell": {
     "cellMetadata": {
      "byteLimit": 2048000,
      "rowLimit": 10000
     },
     "inputWidgets": {},
     "nuid": "348e77a6-9134-4c62-9932-544145a5a00f",
     "showTitle": false,
     "tableResultSettingsMap": {},
     "title": ""
    }
   },
   "outputs": [],
   "source": [
    "# Configure OAuth for Azure Data Lake Storage Gen2 (ADLS Gen2) access.\n",
    "# This is a secure template for publishing on GitHub.\n",
    "# Replace the placeholder values in angle brackets `<...>` with your own information.\n",
    "\n",
    "# Placeholder variables:\n",
    "# <ADLS_ACCOUNT_NAME>: Your ADLS Gen2 account name (e.g., 'awspool2')\n",
    "# <AZURE_CLIENT_ID>: The ID of your Service Principal (e.g., '36ff3ba8-...')\n",
    "# <AZURE_TENANT_ID>: The ID of your Azure Active Directory Tenant (e.g., '8e5d54d1-...')\n",
    "\n",
    "# *** SECURITY NOTE: ***\n",
    "# The Client Secret MUST be stored in a Databricks Secret Scope.\n",
    "# NEVER hard-code the Client Secret directly into your notebook.\n",
    "# <SECRET_SCOPE_NAME>: The name of the Secret Scope you created (e.g., 'azure-pipeline-scope')\n",
    "# <SECRET_KEY_NAME>: The key name for your Client Secret within the Scope (e.g., 'client-secret-key')\n",
    "\n",
    "# 1. Retrieve the Client Secret from Databricks Secret Scope\n",
    "client_secret = dbutils.secrets.get(scope=\"<SECRET_SCOPE_NAME>\", key=\"<SECRET_KEY_NAME>\")\n",
    "\n",
    "# 2. Configure Spark\n",
    "spark.conf.set(\"fs.azure.account.auth.type.<ADLS_ACCOUNT_NAME>.dfs.core.windows.net\", \"OAuth\")\n",
    "spark.conf.set(\"fs.azure.account.oauth.provider.type.<ADLS_ACCOUNT_NAME>.dfs.core.windows.net\", \"org.apache.hadoop.fs.azurebfs.oauth2.ClientCredsTokenProvider\")\n",
    "spark.conf.set(\"fs.azure.account.oauth2.client.id.<ADLS_ACCOUNT_NAME>.dfs.core.windows.net\", \"<AZURE_CLIENT_ID>\")\n",
    "spark.conf.set(\"fs.azure.account.oauth2.client.endpoint.<ADLS_ACCOUNT_NAME>.dfs.core.windows.net\", \"https://login.microsoftonline.com/<AZURE_TENANT_ID>/oauth2/token\")\n",
    "\n",
    "# 3. Use the secure Client Secret\n",
    "spark.conf.set(\"fs.azure.account.oauth2.client.secret.<ADLS_ACCOUNT_NAME>.dfs.core.windows.net\", client_secret)"
   ]
  },
  {
   "cell_type": "markdown",
   "metadata": {
    "application/vnd.databricks.v1+cell": {
     "cellMetadata": {
      "byteLimit": 2048000,
      "rowLimit": 10000
     },
     "inputWidgets": {},
     "nuid": "459f80b5-b8a8-4df7-96dc-345d4ec50df3",
     "showTitle": false,
     "tableResultSettingsMap": {},
     "title": ""
    }
   },
   "source": [
    "### DATA LOADING"
   ]
  },
  {
   "cell_type": "markdown",
   "metadata": {
    "application/vnd.databricks.v1+cell": {
     "cellMetadata": {
      "byteLimit": 2048000,
      "rowLimit": 10000
     },
     "inputWidgets": {},
     "nuid": "2d8de483-2008-4e0b-935b-bbf4600e04e3",
     "showTitle": false,
     "tableResultSettingsMap": {},
     "title": ""
    }
   },
   "source": [
    "**Reading Data**"
   ]
  },
  {
   "cell_type": "code",
   "execution_count": 0,
   "metadata": {
    "application/vnd.databricks.v1+cell": {
     "cellMetadata": {
      "byteLimit": 2048000,
      "rowLimit": 10000
     },
     "inputWidgets": {},
     "nuid": "aed44d7a-3a7d-4cc5-9782-ddc22898fb52",
     "showTitle": false,
     "tableResultSettingsMap": {},
     "title": ""
    }
   },
   "outputs": [],
   "source": [
    "df_cal = spark.read.format(\"csv\")\\\n",
    "    .option(\"header\", \"true\")\\\n",
    "    .option(\"inferSchema\", \"true\")\\\n",
    "    .load(\"abfss://bronze@awspool2.dfs.core.windows.net/AdventureWorks_Calendar\")\n",
    "\n",
    "df_cus = spark.read.format(\"csv\")\\\n",
    "    .option(\"header\", \"true\")\\\n",
    "    .option(\"inferSchema\", \"true\")\\\n",
    "    .load(\"abfss://bronze@awspool2.dfs.core.windows.net/AdventureWorks_Customers\")\n",
    "\n",
    "df_procat = spark.read.format(\"csv\")\\\n",
    "    .option(\"header\", \"true\")\\\n",
    "    .option(\"inferSchema\", \"true\")\\\n",
    "    .load(\"abfss://bronze@awspool2.dfs.core.windows.net/AdventureWorks_Product_Categories\")\n",
    "\n",
    "df_pro = spark.read.format(\"csv\")\\\n",
    "    .option(\"header\", \"true\")\\\n",
    "    .option(\"inferSchema\", \"true\")\\\n",
    "    .load(\"abfss://bronze@awspool2.dfs.core.windows.net/AdventureWorks_Products\")\n",
    "\n",
    "df_ret = spark.read.format(\"csv\")\\\n",
    "    .option(\"header\", \"true\")\\\n",
    "    .option(\"inferSchema\", \"true\")\\\n",
    "    .load(\"abfss://bronze@awspool2.dfs.core.windows.net/AdventureWorks_Returns\")\n",
    "\n",
    "df_sales = spark.read.format(\"csv\")\\\n",
    "    .option(\"header\", \"true\")\\\n",
    "    .option(\"inferSchema\", \"true\")\\\n",
    "    .load(\"abfss://bronze@awspool2.dfs.core.windows.net/AdventureWorks_Sales*\")\n",
    "\n",
    "df_ter = spark.read.format(\"csv\")\\\n",
    "    .option(\"header\", \"true\")\\\n",
    "    .option(\"inferSchema\", \"true\")\\\n",
    "    .load(\"abfss://bronze@awspool2.dfs.core.windows.net/AdventureWorks_Territories\")\n",
    "\n",
    "df_subcat = spark.read.format(\"csv\")\\\n",
    "    .option(\"header\", \"true\")\\\n",
    "    .option(\"inferSchema\", \"true\")\\\n",
    "    .load(\"abfss://bronze@awspool2.dfs.core.windows.net/Product_Subcategories\")"
   ]
  },
  {
   "cell_type": "markdown",
   "metadata": {
    "application/vnd.databricks.v1+cell": {
     "cellMetadata": {
      "byteLimit": 2048000,
      "rowLimit": 10000
     },
     "inputWidgets": {},
     "nuid": "a2250066-cab0-40a5-8ee8-17cfb4c3997a",
     "showTitle": false,
     "tableResultSettingsMap": {},
     "title": ""
    }
   },
   "source": [
    "### TRANSFORMATION"
   ]
  },
  {
   "cell_type": "markdown",
   "metadata": {
    "application/vnd.databricks.v1+cell": {
     "cellMetadata": {
      "byteLimit": 2048000,
      "rowLimit": 10000
     },
     "inputWidgets": {},
     "nuid": "6c29cf85-d343-4db4-8e7c-920428e1728c",
     "showTitle": false,
     "tableResultSettingsMap": {},
     "title": ""
    }
   },
   "source": [
    "**Calendar**"
   ]
  },
  {
   "cell_type": "code",
   "execution_count": 0,
   "metadata": {
    "application/vnd.databricks.v1+cell": {
     "cellMetadata": {
      "byteLimit": 2048000,
      "rowLimit": 10000
     },
     "inputWidgets": {},
     "nuid": "e70e2ff8-c200-4bf0-b320-091f695330e1",
     "showTitle": false,
     "tableResultSettingsMap": {
      "0": {
       "dataGridStateBlob": "{\"version\":1,\"tableState\":{\"columnPinning\":{\"left\":[\"#row_number#\"],\"right\":[]},\"columnSizing\":{},\"columnVisibility\":{}},\"settings\":{\"columns\":{}},\"syncTimestamp\":1754722368327}",
       "filterBlob": null,
       "queryPlanFiltersBlob": null,
       "tableResultIndex": 0
      }
     },
     "title": ""
    }
   },
   "outputs": [
    {
     "output_type": "display_data",
     "data": {
      "text/html": [
       "<style scoped>\n",
       "  .table-result-container {\n",
       "    max-height: 300px;\n",
       "    overflow: auto;\n",
       "  }\n",
       "  table, th, td {\n",
       "    border: 1px solid black;\n",
       "    border-collapse: collapse;\n",
       "  }\n",
       "  th, td {\n",
       "    padding: 5px;\n",
       "  }\n",
       "  th {\n",
       "    text-align: left;\n",
       "  }\n",
       "</style><div class='table-result-container'><table class='table-result'><thead style='background-color: white'><tr><th>Date</th><th>Month</th><th>Year</th></tr></thead><tbody><tr><td>2015-01-01</td><td>1</td><td>2015</td></tr><tr><td>2015-01-02</td><td>1</td><td>2015</td></tr><tr><td>2015-01-03</td><td>1</td><td>2015</td></tr><tr><td>2015-01-04</td><td>1</td><td>2015</td></tr><tr><td>2015-01-05</td><td>1</td><td>2015</td></tr><tr><td>2015-01-06</td><td>1</td><td>2015</td></tr><tr><td>2015-01-07</td><td>1</td><td>2015</td></tr><tr><td>2015-01-08</td><td>1</td><td>2015</td></tr><tr><td>2015-01-09</td><td>1</td><td>2015</td></tr><tr><td>2015-01-10</td><td>1</td><td>2015</td></tr></tbody></table></div>"
      ]
     },
     "metadata": {
      "application/vnd.databricks.v1+output": {
       "addedWidgets": {},
       "aggData": [],
       "aggError": "",
       "aggOverflow": false,
       "aggSchema": [],
       "aggSeriesLimitReached": false,
       "aggType": "",
       "arguments": {},
       "columnCustomDisplayInfos": {},
       "data": [
        [
         "2015-01-01",
         1,
         2015
        ],
        [
         "2015-01-02",
         1,
         2015
        ],
        [
         "2015-01-03",
         1,
         2015
        ],
        [
         "2015-01-04",
         1,
         2015
        ],
        [
         "2015-01-05",
         1,
         2015
        ],
        [
         "2015-01-06",
         1,
         2015
        ],
        [
         "2015-01-07",
         1,
         2015
        ],
        [
         "2015-01-08",
         1,
         2015
        ],
        [
         "2015-01-09",
         1,
         2015
        ],
        [
         "2015-01-10",
         1,
         2015
        ]
       ],
       "datasetInfos": [],
       "dbfsResultPath": null,
       "isJsonSchema": true,
       "metadata": {},
       "overflow": false,
       "plotOptions": {
        "customPlotOptions": {},
        "displayType": "table",
        "pivotAggregation": null,
        "pivotColumns": null,
        "xColumns": null,
        "yColumns": null
       },
       "removedWidgets": [],
       "schema": [
        {
         "metadata": "{\"__detected_date_formats\":\"M/d/yyyy\"}",
         "name": "Date",
         "type": "\"date\""
        },
        {
         "metadata": "{}",
         "name": "Month",
         "type": "\"integer\""
        },
        {
         "metadata": "{}",
         "name": "Year",
         "type": "\"integer\""
        }
       ],
       "type": "table"
      }
     },
     "output_type": "display_data"
    }
   ],
   "source": [
    "df_cal = df_cal.withColumn(\"Month\", month(df_cal.Date))\\\n",
    "                .withColumn(\"Year\", year(df_cal.Date))\n",
    "df_cal.limit(10).display()"
   ]
  },
  {
   "cell_type": "code",
   "execution_count": 0,
   "metadata": {
    "application/vnd.databricks.v1+cell": {
     "cellMetadata": {
      "byteLimit": 2048000,
      "rowLimit": 10000
     },
     "inputWidgets": {},
     "nuid": "c937d31c-595b-409c-8204-76ab29288c6a",
     "showTitle": false,
     "tableResultSettingsMap": {},
     "title": ""
    }
   },
   "outputs": [],
   "source": [
    "df_cal.write.format(\"parquet\")\\\n",
    "    .mode(\"append\")\\\n",
    "    .option(\"path\",\"abfss://silver@awspool2.dfs.core.windows.net/AdventureWorks_Calendar\")\\\n",
    "    .save()"
   ]
  },
  {
   "cell_type": "markdown",
   "metadata": {
    "application/vnd.databricks.v1+cell": {
     "cellMetadata": {
      "byteLimit": 2048000,
      "rowLimit": 10000
     },
     "inputWidgets": {},
     "nuid": "0db47abb-604c-4e67-b33a-a5254402f14b",
     "showTitle": false,
     "tableResultSettingsMap": {},
     "title": ""
    }
   },
   "source": [
    "**Customers**"
   ]
  },
  {
   "cell_type": "code",
   "execution_count": 0,
   "metadata": {
    "application/vnd.databricks.v1+cell": {
     "cellMetadata": {
      "byteLimit": 2048000,
      "rowLimit": 10000
     },
     "inputWidgets": {},
     "nuid": "f9fc8989-4275-4bc8-b8c2-5c4e71ce7452",
     "showTitle": false,
     "tableResultSettingsMap": {
      "0": {
       "dataGridStateBlob": "{\"version\":1,\"tableState\":{\"columnPinning\":{\"left\":[\"#row_number#\"],\"right\":[]},\"columnSizing\":{},\"columnVisibility\":{}},\"settings\":{\"columns\":{}},\"syncTimestamp\":1754734411710}",
       "filterBlob": null,
       "queryPlanFiltersBlob": null,
       "tableResultIndex": 0
      }
     },
     "title": ""
    }
   },
   "outputs": [
    {
     "output_type": "display_data",
     "data": {
      "text/html": [
       "<style scoped>\n",
       "  .table-result-container {\n",
       "    max-height: 300px;\n",
       "    overflow: auto;\n",
       "  }\n",
       "  table, th, td {\n",
       "    border: 1px solid black;\n",
       "    border-collapse: collapse;\n",
       "  }\n",
       "  th, td {\n",
       "    padding: 5px;\n",
       "  }\n",
       "  th {\n",
       "    text-align: left;\n",
       "  }\n",
       "</style><div class='table-result-container'><table class='table-result'><thead style='background-color: white'><tr><th>CustomerKey</th><th>Prefix</th><th>FirstName</th><th>LastName</th><th>BirthDate</th><th>MaritalStatus</th><th>Gender</th><th>EmailAddress</th><th>AnnualIncome</th><th>TotalChildren</th><th>EducationLevel</th><th>Occupation</th><th>HomeOwner</th></tr></thead><tbody><tr><td>11000</td><td>MR.</td><td>JON</td><td>YANG</td><td>1966-04-08</td><td>M</td><td>M</td><td>jon24@adventure-works.com</td><td>$90,000 </td><td>2</td><td>Bachelors</td><td>Professional</td><td>Y</td></tr><tr><td>11001</td><td>MR.</td><td>EUGENE</td><td>HUANG</td><td>1965-05-14</td><td>S</td><td>M</td><td>eugene10@adventure-works.com</td><td>$60,000 </td><td>3</td><td>Bachelors</td><td>Professional</td><td>N</td></tr><tr><td>11002</td><td>MR.</td><td>RUBEN</td><td>TORRES</td><td>1965-08-12</td><td>M</td><td>M</td><td>ruben35@adventure-works.com</td><td>$60,000 </td><td>3</td><td>Bachelors</td><td>Professional</td><td>Y</td></tr><tr><td>11003</td><td>MS.</td><td>CHRISTY</td><td>ZHU</td><td>1968-02-15</td><td>S</td><td>F</td><td>christy12@adventure-works.com</td><td>$70,000 </td><td>0</td><td>Bachelors</td><td>Professional</td><td>N</td></tr><tr><td>11004</td><td>MRS.</td><td>ELIZABETH</td><td>JOHNSON</td><td>1968-08-08</td><td>S</td><td>F</td><td>elizabeth5@adventure-works.com</td><td>$80,000 </td><td>5</td><td>Bachelors</td><td>Professional</td><td>Y</td></tr><tr><td>11005</td><td>MR.</td><td>JULIO</td><td>RUIZ</td><td>1965-08-05</td><td>S</td><td>M</td><td>julio1@adventure-works.com</td><td>$70,000 </td><td>0</td><td>Bachelors</td><td>Professional</td><td>Y</td></tr><tr><td>11007</td><td>MR.</td><td>MARCO</td><td>MEHTA</td><td>1964-05-09</td><td>M</td><td>M</td><td>marco14@adventure-works.com</td><td>$60,000 </td><td>3</td><td>Bachelors</td><td>Professional</td><td>Y</td></tr><tr><td>11008</td><td>MRS.</td><td>ROBIN</td><td>VERHOFF</td><td>1964-07-07</td><td>S</td><td>F</td><td>rob4@adventure-works.com</td><td>$60,000 </td><td>4</td><td>Bachelors</td><td>Professional</td><td>Y</td></tr><tr><td>11009</td><td>MR.</td><td>SHANNON</td><td>CARLSON</td><td>1964-04-01</td><td>S</td><td>M</td><td>shannon38@adventure-works.com</td><td>$70,000 </td><td>0</td><td>Bachelors</td><td>Professional</td><td>N</td></tr><tr><td>11010</td><td>MS.</td><td>JACQUELYN</td><td>SUAREZ</td><td>1964-02-06</td><td>S</td><td>F</td><td>jacquelyn20@adventure-works.com</td><td>$70,000 </td><td>0</td><td>Bachelors</td><td>Professional</td><td>N</td></tr></tbody></table></div>"
      ]
     },
     "metadata": {
      "application/vnd.databricks.v1+output": {
       "addedWidgets": {},
       "aggData": [],
       "aggError": "",
       "aggOverflow": false,
       "aggSchema": [],
       "aggSeriesLimitReached": false,
       "aggType": "",
       "arguments": {},
       "columnCustomDisplayInfos": {},
       "data": [
        [
         11000,
         "MR.",
         "JON",
         "YANG",
         "1966-04-08",
         "M",
         "M",
         "jon24@adventure-works.com",
         "$90,000 ",
         2,
         "Bachelors",
         "Professional",
         "Y"
        ],
        [
         11001,
         "MR.",
         "EUGENE",
         "HUANG",
         "1965-05-14",
         "S",
         "M",
         "eugene10@adventure-works.com",
         "$60,000 ",
         3,
         "Bachelors",
         "Professional",
         "N"
        ],
        [
         11002,
         "MR.",
         "RUBEN",
         "TORRES",
         "1965-08-12",
         "M",
         "M",
         "ruben35@adventure-works.com",
         "$60,000 ",
         3,
         "Bachelors",
         "Professional",
         "Y"
        ],
        [
         11003,
         "MS.",
         "CHRISTY",
         "ZHU",
         "1968-02-15",
         "S",
         "F",
         "christy12@adventure-works.com",
         "$70,000 ",
         0,
         "Bachelors",
         "Professional",
         "N"
        ],
        [
         11004,
         "MRS.",
         "ELIZABETH",
         "JOHNSON",
         "1968-08-08",
         "S",
         "F",
         "elizabeth5@adventure-works.com",
         "$80,000 ",
         5,
         "Bachelors",
         "Professional",
         "Y"
        ],
        [
         11005,
         "MR.",
         "JULIO",
         "RUIZ",
         "1965-08-05",
         "S",
         "M",
         "julio1@adventure-works.com",
         "$70,000 ",
         0,
         "Bachelors",
         "Professional",
         "Y"
        ],
        [
         11007,
         "MR.",
         "MARCO",
         "MEHTA",
         "1964-05-09",
         "M",
         "M",
         "marco14@adventure-works.com",
         "$60,000 ",
         3,
         "Bachelors",
         "Professional",
         "Y"
        ],
        [
         11008,
         "MRS.",
         "ROBIN",
         "VERHOFF",
         "1964-07-07",
         "S",
         "F",
         "rob4@adventure-works.com",
         "$60,000 ",
         4,
         "Bachelors",
         "Professional",
         "Y"
        ],
        [
         11009,
         "MR.",
         "SHANNON",
         "CARLSON",
         "1964-04-01",
         "S",
         "M",
         "shannon38@adventure-works.com",
         "$70,000 ",
         0,
         "Bachelors",
         "Professional",
         "N"
        ],
        [
         11010,
         "MS.",
         "JACQUELYN",
         "SUAREZ",
         "1964-02-06",
         "S",
         "F",
         "jacquelyn20@adventure-works.com",
         "$70,000 ",
         0,
         "Bachelors",
         "Professional",
         "N"
        ]
       ],
       "datasetInfos": [],
       "dbfsResultPath": null,
       "isJsonSchema": true,
       "metadata": {},
       "overflow": false,
       "plotOptions": {
        "customPlotOptions": {},
        "displayType": "table",
        "pivotAggregation": null,
        "pivotColumns": null,
        "xColumns": null,
        "yColumns": null
       },
       "removedWidgets": [],
       "schema": [
        {
         "metadata": "{}",
         "name": "CustomerKey",
         "type": "\"integer\""
        },
        {
         "metadata": "{}",
         "name": "Prefix",
         "type": "\"string\""
        },
        {
         "metadata": "{}",
         "name": "FirstName",
         "type": "\"string\""
        },
        {
         "metadata": "{}",
         "name": "LastName",
         "type": "\"string\""
        },
        {
         "metadata": "{\"__detected_date_formats\":\"M/d/yyyy\"}",
         "name": "BirthDate",
         "type": "\"date\""
        },
        {
         "metadata": "{}",
         "name": "MaritalStatus",
         "type": "\"string\""
        },
        {
         "metadata": "{}",
         "name": "Gender",
         "type": "\"string\""
        },
        {
         "metadata": "{}",
         "name": "EmailAddress",
         "type": "\"string\""
        },
        {
         "metadata": "{}",
         "name": "AnnualIncome",
         "type": "\"string\""
        },
        {
         "metadata": "{}",
         "name": "TotalChildren",
         "type": "\"integer\""
        },
        {
         "metadata": "{}",
         "name": "EducationLevel",
         "type": "\"string\""
        },
        {
         "metadata": "{}",
         "name": "Occupation",
         "type": "\"string\""
        },
        {
         "metadata": "{}",
         "name": "HomeOwner",
         "type": "\"string\""
        }
       ],
       "type": "table"
      }
     },
     "output_type": "display_data"
    }
   ],
   "source": [
    "df_cus.limit(10).display()"
   ]
  },
  {
   "cell_type": "code",
   "execution_count": 0,
   "metadata": {
    "application/vnd.databricks.v1+cell": {
     "cellMetadata": {
      "byteLimit": 2048000,
      "rowLimit": 10000
     },
     "inputWidgets": {},
     "nuid": "cea6d40a-c2eb-4917-9cb0-72f0040a592e",
     "showTitle": false,
     "tableResultSettingsMap": {},
     "title": ""
    }
   },
   "outputs": [
    {
     "output_type": "display_data",
     "data": {
      "text/html": [
       "<style scoped>\n",
       "  .table-result-container {\n",
       "    max-height: 300px;\n",
       "    overflow: auto;\n",
       "  }\n",
       "  table, th, td {\n",
       "    border: 1px solid black;\n",
       "    border-collapse: collapse;\n",
       "  }\n",
       "  th, td {\n",
       "    padding: 5px;\n",
       "  }\n",
       "  th {\n",
       "    text-align: left;\n",
       "  }\n",
       "</style><div class='table-result-container'><table class='table-result'><thead style='background-color: white'><tr><th>CustomerKey</th><th>Prefix</th><th>FirstName</th><th>LastName</th><th>BirthDate</th><th>MaritalStatus</th><th>Gender</th><th>EmailAddress</th><th>AnnualIncome</th><th>TotalChildren</th><th>EducationLevel</th><th>Occupation</th><th>HomeOwner</th><th>fullName</th></tr></thead><tbody><tr><td>11000</td><td>MR.</td><td>JON</td><td>YANG</td><td>1966-04-08</td><td>M</td><td>M</td><td>jon24@adventure-works.com</td><td>$90,000 </td><td>2</td><td>Bachelors</td><td>Professional</td><td>Y</td><td>MR. JON YANG</td></tr><tr><td>11001</td><td>MR.</td><td>EUGENE</td><td>HUANG</td><td>1965-05-14</td><td>S</td><td>M</td><td>eugene10@adventure-works.com</td><td>$60,000 </td><td>3</td><td>Bachelors</td><td>Professional</td><td>N</td><td>MR. EUGENE HUANG</td></tr><tr><td>11002</td><td>MR.</td><td>RUBEN</td><td>TORRES</td><td>1965-08-12</td><td>M</td><td>M</td><td>ruben35@adventure-works.com</td><td>$60,000 </td><td>3</td><td>Bachelors</td><td>Professional</td><td>Y</td><td>MR. RUBEN TORRES</td></tr><tr><td>11003</td><td>MS.</td><td>CHRISTY</td><td>ZHU</td><td>1968-02-15</td><td>S</td><td>F</td><td>christy12@adventure-works.com</td><td>$70,000 </td><td>0</td><td>Bachelors</td><td>Professional</td><td>N</td><td>MS. CHRISTY ZHU</td></tr><tr><td>11004</td><td>MRS.</td><td>ELIZABETH</td><td>JOHNSON</td><td>1968-08-08</td><td>S</td><td>F</td><td>elizabeth5@adventure-works.com</td><td>$80,000 </td><td>5</td><td>Bachelors</td><td>Professional</td><td>Y</td><td>MRS. ELIZABETH JOHNSON</td></tr><tr><td>11005</td><td>MR.</td><td>JULIO</td><td>RUIZ</td><td>1965-08-05</td><td>S</td><td>M</td><td>julio1@adventure-works.com</td><td>$70,000 </td><td>0</td><td>Bachelors</td><td>Professional</td><td>Y</td><td>MR. JULIO RUIZ</td></tr><tr><td>11007</td><td>MR.</td><td>MARCO</td><td>MEHTA</td><td>1964-05-09</td><td>M</td><td>M</td><td>marco14@adventure-works.com</td><td>$60,000 </td><td>3</td><td>Bachelors</td><td>Professional</td><td>Y</td><td>MR. MARCO MEHTA</td></tr><tr><td>11008</td><td>MRS.</td><td>ROBIN</td><td>VERHOFF</td><td>1964-07-07</td><td>S</td><td>F</td><td>rob4@adventure-works.com</td><td>$60,000 </td><td>4</td><td>Bachelors</td><td>Professional</td><td>Y</td><td>MRS. ROBIN VERHOFF</td></tr><tr><td>11009</td><td>MR.</td><td>SHANNON</td><td>CARLSON</td><td>1964-04-01</td><td>S</td><td>M</td><td>shannon38@adventure-works.com</td><td>$70,000 </td><td>0</td><td>Bachelors</td><td>Professional</td><td>N</td><td>MR. SHANNON CARLSON</td></tr><tr><td>11010</td><td>MS.</td><td>JACQUELYN</td><td>SUAREZ</td><td>1964-02-06</td><td>S</td><td>F</td><td>jacquelyn20@adventure-works.com</td><td>$70,000 </td><td>0</td><td>Bachelors</td><td>Professional</td><td>N</td><td>MS. JACQUELYN SUAREZ</td></tr></tbody></table></div>"
      ]
     },
     "metadata": {
      "application/vnd.databricks.v1+output": {
       "addedWidgets": {},
       "aggData": [],
       "aggError": "",
       "aggOverflow": false,
       "aggSchema": [],
       "aggSeriesLimitReached": false,
       "aggType": "",
       "arguments": {},
       "columnCustomDisplayInfos": {},
       "data": [
        [
         11000,
         "MR.",
         "JON",
         "YANG",
         "1966-04-08",
         "M",
         "M",
         "jon24@adventure-works.com",
         "$90,000 ",
         2,
         "Bachelors",
         "Professional",
         "Y",
         "MR. JON YANG"
        ],
        [
         11001,
         "MR.",
         "EUGENE",
         "HUANG",
         "1965-05-14",
         "S",
         "M",
         "eugene10@adventure-works.com",
         "$60,000 ",
         3,
         "Bachelors",
         "Professional",
         "N",
         "MR. EUGENE HUANG"
        ],
        [
         11002,
         "MR.",
         "RUBEN",
         "TORRES",
         "1965-08-12",
         "M",
         "M",
         "ruben35@adventure-works.com",
         "$60,000 ",
         3,
         "Bachelors",
         "Professional",
         "Y",
         "MR. RUBEN TORRES"
        ],
        [
         11003,
         "MS.",
         "CHRISTY",
         "ZHU",
         "1968-02-15",
         "S",
         "F",
         "christy12@adventure-works.com",
         "$70,000 ",
         0,
         "Bachelors",
         "Professional",
         "N",
         "MS. CHRISTY ZHU"
        ],
        [
         11004,
         "MRS.",
         "ELIZABETH",
         "JOHNSON",
         "1968-08-08",
         "S",
         "F",
         "elizabeth5@adventure-works.com",
         "$80,000 ",
         5,
         "Bachelors",
         "Professional",
         "Y",
         "MRS. ELIZABETH JOHNSON"
        ],
        [
         11005,
         "MR.",
         "JULIO",
         "RUIZ",
         "1965-08-05",
         "S",
         "M",
         "julio1@adventure-works.com",
         "$70,000 ",
         0,
         "Bachelors",
         "Professional",
         "Y",
         "MR. JULIO RUIZ"
        ],
        [
         11007,
         "MR.",
         "MARCO",
         "MEHTA",
         "1964-05-09",
         "M",
         "M",
         "marco14@adventure-works.com",
         "$60,000 ",
         3,
         "Bachelors",
         "Professional",
         "Y",
         "MR. MARCO MEHTA"
        ],
        [
         11008,
         "MRS.",
         "ROBIN",
         "VERHOFF",
         "1964-07-07",
         "S",
         "F",
         "rob4@adventure-works.com",
         "$60,000 ",
         4,
         "Bachelors",
         "Professional",
         "Y",
         "MRS. ROBIN VERHOFF"
        ],
        [
         11009,
         "MR.",
         "SHANNON",
         "CARLSON",
         "1964-04-01",
         "S",
         "M",
         "shannon38@adventure-works.com",
         "$70,000 ",
         0,
         "Bachelors",
         "Professional",
         "N",
         "MR. SHANNON CARLSON"
        ],
        [
         11010,
         "MS.",
         "JACQUELYN",
         "SUAREZ",
         "1964-02-06",
         "S",
         "F",
         "jacquelyn20@adventure-works.com",
         "$70,000 ",
         0,
         "Bachelors",
         "Professional",
         "N",
         "MS. JACQUELYN SUAREZ"
        ]
       ],
       "datasetInfos": [],
       "dbfsResultPath": null,
       "isJsonSchema": true,
       "metadata": {},
       "overflow": false,
       "plotOptions": {
        "customPlotOptions": {},
        "displayType": "table",
        "pivotAggregation": null,
        "pivotColumns": null,
        "xColumns": null,
        "yColumns": null
       },
       "removedWidgets": [],
       "schema": [
        {
         "metadata": "{}",
         "name": "CustomerKey",
         "type": "\"integer\""
        },
        {
         "metadata": "{}",
         "name": "Prefix",
         "type": "\"string\""
        },
        {
         "metadata": "{}",
         "name": "FirstName",
         "type": "\"string\""
        },
        {
         "metadata": "{}",
         "name": "LastName",
         "type": "\"string\""
        },
        {
         "metadata": "{\"__detected_date_formats\":\"M/d/yyyy\"}",
         "name": "BirthDate",
         "type": "\"date\""
        },
        {
         "metadata": "{}",
         "name": "MaritalStatus",
         "type": "\"string\""
        },
        {
         "metadata": "{}",
         "name": "Gender",
         "type": "\"string\""
        },
        {
         "metadata": "{}",
         "name": "EmailAddress",
         "type": "\"string\""
        },
        {
         "metadata": "{}",
         "name": "AnnualIncome",
         "type": "\"string\""
        },
        {
         "metadata": "{}",
         "name": "TotalChildren",
         "type": "\"integer\""
        },
        {
         "metadata": "{}",
         "name": "EducationLevel",
         "type": "\"string\""
        },
        {
         "metadata": "{}",
         "name": "Occupation",
         "type": "\"string\""
        },
        {
         "metadata": "{}",
         "name": "HomeOwner",
         "type": "\"string\""
        },
        {
         "metadata": "{}",
         "name": "fullName",
         "type": "\"string\""
        }
       ],
       "type": "table"
      }
     },
     "output_type": "display_data"
    }
   ],
   "source": [
    "df_cus = df_cus.withColumn(\"fullName\", concat_ws(' ',df_cus.Prefix, df_cus.FirstName, df_cus.LastName))\n",
    "df_cus.limit(10).display()\n"
   ]
  },
  {
   "cell_type": "code",
   "execution_count": 0,
   "metadata": {
    "application/vnd.databricks.v1+cell": {
     "cellMetadata": {
      "byteLimit": 2048000,
      "rowLimit": 10000
     },
     "inputWidgets": {},
     "nuid": "895fb41e-2c99-4207-bb64-b1f68730200e",
     "showTitle": false,
     "tableResultSettingsMap": {},
     "title": ""
    }
   },
   "outputs": [],
   "source": [
    "df_cus.write.format(\"parquet\")\\\n",
    "    .mode(\"append\")\\\n",
    "    .option(\"path\",\"abfss://silver@awspool2.dfs.core.windows.net/AdventureWorks_Customers\")\\\n",
    "    .save()"
   ]
  },
  {
   "cell_type": "markdown",
   "metadata": {
    "application/vnd.databricks.v1+cell": {
     "cellMetadata": {
      "byteLimit": 2048000,
      "rowLimit": 10000
     },
     "inputWidgets": {},
     "nuid": "38ca7568-3d34-4a93-b2f6-e20e6a41a970",
     "showTitle": false,
     "tableResultSettingsMap": {},
     "title": ""
    }
   },
   "source": [
    "**Sub Categories**"
   ]
  },
  {
   "cell_type": "code",
   "execution_count": 0,
   "metadata": {
    "application/vnd.databricks.v1+cell": {
     "cellMetadata": {
      "byteLimit": 2048000,
      "rowLimit": 10000
     },
     "inputWidgets": {},
     "nuid": "f8ea52c9-268b-4481-a4c0-0539557ae4bf",
     "showTitle": false,
     "tableResultSettingsMap": {},
     "title": ""
    }
   },
   "outputs": [
    {
     "output_type": "display_data",
     "data": {
      "text/html": [
       "<style scoped>\n",
       "  .table-result-container {\n",
       "    max-height: 300px;\n",
       "    overflow: auto;\n",
       "  }\n",
       "  table, th, td {\n",
       "    border: 1px solid black;\n",
       "    border-collapse: collapse;\n",
       "  }\n",
       "  th, td {\n",
       "    padding: 5px;\n",
       "  }\n",
       "  th {\n",
       "    text-align: left;\n",
       "  }\n",
       "</style><div class='table-result-container'><table class='table-result'><thead style='background-color: white'><tr><th>ProductSubcategoryKey</th><th>SubcategoryName</th><th>ProductCategoryKey</th></tr></thead><tbody><tr><td>1</td><td>Mountain Bikes</td><td>1</td></tr><tr><td>2</td><td>Road Bikes</td><td>1</td></tr><tr><td>3</td><td>Touring Bikes</td><td>1</td></tr><tr><td>4</td><td>Handlebars</td><td>2</td></tr><tr><td>5</td><td>Bottom Brackets</td><td>2</td></tr><tr><td>6</td><td>Brakes</td><td>2</td></tr><tr><td>7</td><td>Chains</td><td>2</td></tr><tr><td>8</td><td>Cranksets</td><td>2</td></tr><tr><td>9</td><td>Derailleurs</td><td>2</td></tr><tr><td>10</td><td>Forks</td><td>2</td></tr></tbody></table></div>"
      ]
     },
     "metadata": {
      "application/vnd.databricks.v1+output": {
       "addedWidgets": {},
       "aggData": [],
       "aggError": "",
       "aggOverflow": false,
       "aggSchema": [],
       "aggSeriesLimitReached": false,
       "aggType": "",
       "arguments": {},
       "columnCustomDisplayInfos": {},
       "data": [
        [
         1,
         "Mountain Bikes",
         1
        ],
        [
         2,
         "Road Bikes",
         1
        ],
        [
         3,
         "Touring Bikes",
         1
        ],
        [
         4,
         "Handlebars",
         2
        ],
        [
         5,
         "Bottom Brackets",
         2
        ],
        [
         6,
         "Brakes",
         2
        ],
        [
         7,
         "Chains",
         2
        ],
        [
         8,
         "Cranksets",
         2
        ],
        [
         9,
         "Derailleurs",
         2
        ],
        [
         10,
         "Forks",
         2
        ]
       ],
       "datasetInfos": [],
       "dbfsResultPath": null,
       "isJsonSchema": true,
       "metadata": {},
       "overflow": false,
       "plotOptions": {
        "customPlotOptions": {},
        "displayType": "table",
        "pivotAggregation": null,
        "pivotColumns": null,
        "xColumns": null,
        "yColumns": null
       },
       "removedWidgets": [],
       "schema": [
        {
         "metadata": "{}",
         "name": "ProductSubcategoryKey",
         "type": "\"integer\""
        },
        {
         "metadata": "{}",
         "name": "SubcategoryName",
         "type": "\"string\""
        },
        {
         "metadata": "{}",
         "name": "ProductCategoryKey",
         "type": "\"integer\""
        }
       ],
       "type": "table"
      }
     },
     "output_type": "display_data"
    }
   ],
   "source": [
    "df_subcat.limit(10).display()"
   ]
  },
  {
   "cell_type": "code",
   "execution_count": 0,
   "metadata": {
    "application/vnd.databricks.v1+cell": {
     "cellMetadata": {
      "byteLimit": 2048000,
      "rowLimit": 10000
     },
     "inputWidgets": {},
     "nuid": "fab02b04-1176-44c9-9c2c-ed6fc62936d9",
     "showTitle": false,
     "tableResultSettingsMap": {},
     "title": ""
    }
   },
   "outputs": [],
   "source": [
    "df_subcat.write.format(\"parquet\")\\\n",
    "    .mode(\"append\")\\\n",
    "    .option(\"path\",\"abfss://silver@awspool2.dfs.core.windows.net/AdventureWorks_SubCategories\")\\\n",
    "    .save()"
   ]
  },
  {
   "cell_type": "markdown",
   "metadata": {
    "application/vnd.databricks.v1+cell": {
     "cellMetadata": {
      "byteLimit": 2048000,
      "rowLimit": 10000
     },
     "inputWidgets": {},
     "nuid": "580866c6-a6d1-4597-80bf-25acb7ed0030",
     "showTitle": false,
     "tableResultSettingsMap": {},
     "title": ""
    }
   },
   "source": [
    "**Products**"
   ]
  },
  {
   "cell_type": "code",
   "execution_count": 0,
   "metadata": {
    "application/vnd.databricks.v1+cell": {
     "cellMetadata": {
      "byteLimit": 2048000,
      "rowLimit": 10000
     },
     "inputWidgets": {},
     "nuid": "2e8bf15c-12f7-4da4-aba0-fcdb9652bb22",
     "showTitle": false,
     "tableResultSettingsMap": {
      "0": {
       "dataGridStateBlob": "{\"version\":1,\"tableState\":{\"columnPinning\":{\"left\":[\"#row_number#\"],\"right\":[]},\"columnSizing\":{},\"columnVisibility\":{}},\"settings\":{\"columns\":{}},\"syncTimestamp\":1754735513002}",
       "filterBlob": null,
       "queryPlanFiltersBlob": null,
       "tableResultIndex": 0
      }
     },
     "title": ""
    }
   },
   "outputs": [
    {
     "output_type": "display_data",
     "data": {
      "text/html": [
       "<style scoped>\n",
       "  .table-result-container {\n",
       "    max-height: 300px;\n",
       "    overflow: auto;\n",
       "  }\n",
       "  table, th, td {\n",
       "    border: 1px solid black;\n",
       "    border-collapse: collapse;\n",
       "  }\n",
       "  th, td {\n",
       "    padding: 5px;\n",
       "  }\n",
       "  th {\n",
       "    text-align: left;\n",
       "  }\n",
       "</style><div class='table-result-container'><table class='table-result'><thead style='background-color: white'><tr><th>ProductKey</th><th>ProductSubcategoryKey</th><th>ProductSKU</th><th>ProductName</th><th>ModelName</th><th>ProductDescription</th><th>ProductColor</th><th>ProductSize</th><th>ProductStyle</th><th>ProductCost</th><th>ProductPrice</th></tr></thead><tbody><tr><td>214</td><td>31</td><td>HL-U509-R</td><td>Sport-100 Helmet, Red</td><td>Sport-100</td><td>Universal fit, well-vented, lightweight , snap-on visor.</td><td>Red</td><td>0</td><td>0</td><td>13.0863</td><td>34.99</td></tr><tr><td>215</td><td>31</td><td>HL-U509</td><td>Sport-100 Helmet, Black</td><td>Sport-100</td><td>Universal fit, well-vented, lightweight , snap-on visor.</td><td>Black</td><td>0</td><td>0</td><td>12.0278</td><td>33.6442</td></tr><tr><td>218</td><td>23</td><td>SO-B909-M</td><td>Mountain Bike Socks, M</td><td>Mountain Bike Socks</td><td>Combination of natural and synthetic fibers stays dry and provides just the right cushioning.</td><td>White</td><td>M</td><td>U</td><td>3.3963</td><td>9.5</td></tr><tr><td>219</td><td>23</td><td>SO-B909-L</td><td>Mountain Bike Socks, L</td><td>Mountain Bike Socks</td><td>Combination of natural and synthetic fibers stays dry and provides just the right cushioning.</td><td>White</td><td>L</td><td>U</td><td>3.3963</td><td>9.5</td></tr><tr><td>220</td><td>31</td><td>HL-U509-B</td><td>Sport-100 Helmet, Blue</td><td>Sport-100</td><td>Universal fit, well-vented, lightweight , snap-on visor.</td><td>Blue</td><td>0</td><td>0</td><td>12.0278</td><td>33.6442</td></tr><tr><td>223</td><td>19</td><td>CA-1098</td><td>AWC Logo Cap</td><td>Cycling Cap</td><td>Traditional style with a flip-up brim; one-size fits all.</td><td>Multi</td><td>0</td><td>U</td><td>5.7052</td><td>8.6442</td></tr><tr><td>226</td><td>21</td><td>LJ-0192-S</td><td>Long-Sleeve Logo Jersey, S</td><td>Long-Sleeve Logo Jersey</td><td>Unisex long-sleeve AWC logo microfiber cycling jersey</td><td>Multi</td><td>S</td><td>U</td><td>31.7244</td><td>48.0673</td></tr><tr><td>229</td><td>21</td><td>LJ-0192-M</td><td>Long-Sleeve Logo Jersey, M</td><td>Long-Sleeve Logo Jersey</td><td>Unisex long-sleeve AWC logo microfiber cycling jersey</td><td>Multi</td><td>M</td><td>U</td><td>31.7244</td><td>48.0673</td></tr><tr><td>232</td><td>21</td><td>LJ-0192-L</td><td>Long-Sleeve Logo Jersey, L</td><td>Long-Sleeve Logo Jersey</td><td>Unisex long-sleeve AWC logo microfiber cycling jersey</td><td>Multi</td><td>L</td><td>U</td><td>31.7244</td><td>48.0673</td></tr><tr><td>235</td><td>21</td><td>LJ-0192-X</td><td>Long-Sleeve Logo Jersey, XL</td><td>Long-Sleeve Logo Jersey</td><td>Unisex long-sleeve AWC logo microfiber cycling jersey</td><td>Multi</td><td>XL</td><td>U</td><td>31.7244</td><td>48.0673</td></tr></tbody></table></div>"
      ]
     },
     "metadata": {
      "application/vnd.databricks.v1+output": {
       "addedWidgets": {},
       "aggData": [],
       "aggError": "",
       "aggOverflow": false,
       "aggSchema": [],
       "aggSeriesLimitReached": false,
       "aggType": "",
       "arguments": {},
       "columnCustomDisplayInfos": {},
       "data": [
        [
         214,
         31,
         "HL-U509-R",
         "Sport-100 Helmet, Red",
         "Sport-100",
         "Universal fit, well-vented, lightweight , snap-on visor.",
         "Red",
         "0",
         "0",
         13.0863,
         34.99
        ],
        [
         215,
         31,
         "HL-U509",
         "Sport-100 Helmet, Black",
         "Sport-100",
         "Universal fit, well-vented, lightweight , snap-on visor.",
         "Black",
         "0",
         "0",
         12.0278,
         33.6442
        ],
        [
         218,
         23,
         "SO-B909-M",
         "Mountain Bike Socks, M",
         "Mountain Bike Socks",
         "Combination of natural and synthetic fibers stays dry and provides just the right cushioning.",
         "White",
         "M",
         "U",
         3.3963,
         9.5
        ],
        [
         219,
         23,
         "SO-B909-L",
         "Mountain Bike Socks, L",
         "Mountain Bike Socks",
         "Combination of natural and synthetic fibers stays dry and provides just the right cushioning.",
         "White",
         "L",
         "U",
         3.3963,
         9.5
        ],
        [
         220,
         31,
         "HL-U509-B",
         "Sport-100 Helmet, Blue",
         "Sport-100",
         "Universal fit, well-vented, lightweight , snap-on visor.",
         "Blue",
         "0",
         "0",
         12.0278,
         33.6442
        ],
        [
         223,
         19,
         "CA-1098",
         "AWC Logo Cap",
         "Cycling Cap",
         "Traditional style with a flip-up brim; one-size fits all.",
         "Multi",
         "0",
         "U",
         5.7052,
         8.6442
        ],
        [
         226,
         21,
         "LJ-0192-S",
         "Long-Sleeve Logo Jersey, S",
         "Long-Sleeve Logo Jersey",
         "Unisex long-sleeve AWC logo microfiber cycling jersey",
         "Multi",
         "S",
         "U",
         31.7244,
         48.0673
        ],
        [
         229,
         21,
         "LJ-0192-M",
         "Long-Sleeve Logo Jersey, M",
         "Long-Sleeve Logo Jersey",
         "Unisex long-sleeve AWC logo microfiber cycling jersey",
         "Multi",
         "M",
         "U",
         31.7244,
         48.0673
        ],
        [
         232,
         21,
         "LJ-0192-L",
         "Long-Sleeve Logo Jersey, L",
         "Long-Sleeve Logo Jersey",
         "Unisex long-sleeve AWC logo microfiber cycling jersey",
         "Multi",
         "L",
         "U",
         31.7244,
         48.0673
        ],
        [
         235,
         21,
         "LJ-0192-X",
         "Long-Sleeve Logo Jersey, XL",
         "Long-Sleeve Logo Jersey",
         "Unisex long-sleeve AWC logo microfiber cycling jersey",
         "Multi",
         "XL",
         "U",
         31.7244,
         48.0673
        ]
       ],
       "datasetInfos": [],
       "dbfsResultPath": null,
       "isJsonSchema": true,
       "metadata": {},
       "overflow": false,
       "plotOptions": {
        "customPlotOptions": {},
        "displayType": "table",
        "pivotAggregation": null,
        "pivotColumns": null,
        "xColumns": null,
        "yColumns": null
       },
       "removedWidgets": [],
       "schema": [
        {
         "metadata": "{}",
         "name": "ProductKey",
         "type": "\"integer\""
        },
        {
         "metadata": "{}",
         "name": "ProductSubcategoryKey",
         "type": "\"integer\""
        },
        {
         "metadata": "{}",
         "name": "ProductSKU",
         "type": "\"string\""
        },
        {
         "metadata": "{}",
         "name": "ProductName",
         "type": "\"string\""
        },
        {
         "metadata": "{}",
         "name": "ModelName",
         "type": "\"string\""
        },
        {
         "metadata": "{}",
         "name": "ProductDescription",
         "type": "\"string\""
        },
        {
         "metadata": "{}",
         "name": "ProductColor",
         "type": "\"string\""
        },
        {
         "metadata": "{}",
         "name": "ProductSize",
         "type": "\"string\""
        },
        {
         "metadata": "{}",
         "name": "ProductStyle",
         "type": "\"string\""
        },
        {
         "metadata": "{}",
         "name": "ProductCost",
         "type": "\"double\""
        },
        {
         "metadata": "{}",
         "name": "ProductPrice",
         "type": "\"double\""
        }
       ],
       "type": "table"
      }
     },
     "output_type": "display_data"
    }
   ],
   "source": [
    "df_pro.limit(10).display()"
   ]
  },
  {
   "cell_type": "code",
   "execution_count": 0,
   "metadata": {
    "application/vnd.databricks.v1+cell": {
     "cellMetadata": {
      "byteLimit": 2048000,
      "rowLimit": 10000
     },
     "inputWidgets": {},
     "nuid": "24501c69-f7d0-40bf-8a77-10389aa70634",
     "showTitle": false,
     "tableResultSettingsMap": {
      "0": {
       "dataGridStateBlob": "{\"version\":1,\"tableState\":{\"columnPinning\":{\"left\":[\"#row_number#\"],\"right\":[]},\"columnSizing\":{},\"columnVisibility\":{}},\"settings\":{\"columns\":{}},\"syncTimestamp\":1754735609457}",
       "filterBlob": null,
       "queryPlanFiltersBlob": null,
       "tableResultIndex": 0
      }
     },
     "title": ""
    }
   },
   "outputs": [
    {
     "output_type": "display_data",
     "data": {
      "text/html": [
       "<style scoped>\n",
       "  .table-result-container {\n",
       "    max-height: 300px;\n",
       "    overflow: auto;\n",
       "  }\n",
       "  table, th, td {\n",
       "    border: 1px solid black;\n",
       "    border-collapse: collapse;\n",
       "  }\n",
       "  th, td {\n",
       "    padding: 5px;\n",
       "  }\n",
       "  th {\n",
       "    text-align: left;\n",
       "  }\n",
       "</style><div class='table-result-container'><table class='table-result'><thead style='background-color: white'><tr><th>ProductKey</th><th>ProductSubcategoryKey</th><th>ProductSKU</th><th>ProductName</th><th>ModelName</th><th>ProductDescription</th><th>ProductColor</th><th>ProductSize</th><th>ProductStyle</th><th>ProductCost</th><th>ProductPrice</th></tr></thead><tbody><tr><td>214</td><td>31</td><td>HL</td><td>Sport-100</td><td>Sport-100</td><td>Universal fit, well-vented, lightweight , snap-on visor.</td><td>Red</td><td>0</td><td>0</td><td>13.0863</td><td>34.99</td></tr><tr><td>215</td><td>31</td><td>HL</td><td>Sport-100</td><td>Sport-100</td><td>Universal fit, well-vented, lightweight , snap-on visor.</td><td>Black</td><td>0</td><td>0</td><td>12.0278</td><td>33.6442</td></tr><tr><td>218</td><td>23</td><td>SO</td><td>Mountain</td><td>Mountain Bike Socks</td><td>Combination of natural and synthetic fibers stays dry and provides just the right cushioning.</td><td>White</td><td>M</td><td>U</td><td>3.3963</td><td>9.5</td></tr><tr><td>219</td><td>23</td><td>SO</td><td>Mountain</td><td>Mountain Bike Socks</td><td>Combination of natural and synthetic fibers stays dry and provides just the right cushioning.</td><td>White</td><td>L</td><td>U</td><td>3.3963</td><td>9.5</td></tr><tr><td>220</td><td>31</td><td>HL</td><td>Sport-100</td><td>Sport-100</td><td>Universal fit, well-vented, lightweight , snap-on visor.</td><td>Blue</td><td>0</td><td>0</td><td>12.0278</td><td>33.6442</td></tr><tr><td>223</td><td>19</td><td>CA</td><td>AWC</td><td>Cycling Cap</td><td>Traditional style with a flip-up brim; one-size fits all.</td><td>Multi</td><td>0</td><td>U</td><td>5.7052</td><td>8.6442</td></tr><tr><td>226</td><td>21</td><td>LJ</td><td>Long-Sleeve</td><td>Long-Sleeve Logo Jersey</td><td>Unisex long-sleeve AWC logo microfiber cycling jersey</td><td>Multi</td><td>S</td><td>U</td><td>31.7244</td><td>48.0673</td></tr><tr><td>229</td><td>21</td><td>LJ</td><td>Long-Sleeve</td><td>Long-Sleeve Logo Jersey</td><td>Unisex long-sleeve AWC logo microfiber cycling jersey</td><td>Multi</td><td>M</td><td>U</td><td>31.7244</td><td>48.0673</td></tr><tr><td>232</td><td>21</td><td>LJ</td><td>Long-Sleeve</td><td>Long-Sleeve Logo Jersey</td><td>Unisex long-sleeve AWC logo microfiber cycling jersey</td><td>Multi</td><td>L</td><td>U</td><td>31.7244</td><td>48.0673</td></tr><tr><td>235</td><td>21</td><td>LJ</td><td>Long-Sleeve</td><td>Long-Sleeve Logo Jersey</td><td>Unisex long-sleeve AWC logo microfiber cycling jersey</td><td>Multi</td><td>XL</td><td>U</td><td>31.7244</td><td>48.0673</td></tr></tbody></table></div>"
      ]
     },
     "metadata": {
      "application/vnd.databricks.v1+output": {
       "addedWidgets": {},
       "aggData": [],
       "aggError": "",
       "aggOverflow": false,
       "aggSchema": [],
       "aggSeriesLimitReached": false,
       "aggType": "",
       "arguments": {},
       "columnCustomDisplayInfos": {},
       "data": [
        [
         214,
         31,
         "HL",
         "Sport-100",
         "Sport-100",
         "Universal fit, well-vented, lightweight , snap-on visor.",
         "Red",
         "0",
         "0",
         13.0863,
         34.99
        ],
        [
         215,
         31,
         "HL",
         "Sport-100",
         "Sport-100",
         "Universal fit, well-vented, lightweight , snap-on visor.",
         "Black",
         "0",
         "0",
         12.0278,
         33.6442
        ],
        [
         218,
         23,
         "SO",
         "Mountain",
         "Mountain Bike Socks",
         "Combination of natural and synthetic fibers stays dry and provides just the right cushioning.",
         "White",
         "M",
         "U",
         3.3963,
         9.5
        ],
        [
         219,
         23,
         "SO",
         "Mountain",
         "Mountain Bike Socks",
         "Combination of natural and synthetic fibers stays dry and provides just the right cushioning.",
         "White",
         "L",
         "U",
         3.3963,
         9.5
        ],
        [
         220,
         31,
         "HL",
         "Sport-100",
         "Sport-100",
         "Universal fit, well-vented, lightweight , snap-on visor.",
         "Blue",
         "0",
         "0",
         12.0278,
         33.6442
        ],
        [
         223,
         19,
         "CA",
         "AWC",
         "Cycling Cap",
         "Traditional style with a flip-up brim; one-size fits all.",
         "Multi",
         "0",
         "U",
         5.7052,
         8.6442
        ],
        [
         226,
         21,
         "LJ",
         "Long-Sleeve",
         "Long-Sleeve Logo Jersey",
         "Unisex long-sleeve AWC logo microfiber cycling jersey",
         "Multi",
         "S",
         "U",
         31.7244,
         48.0673
        ],
        [
         229,
         21,
         "LJ",
         "Long-Sleeve",
         "Long-Sleeve Logo Jersey",
         "Unisex long-sleeve AWC logo microfiber cycling jersey",
         "Multi",
         "M",
         "U",
         31.7244,
         48.0673
        ],
        [
         232,
         21,
         "LJ",
         "Long-Sleeve",
         "Long-Sleeve Logo Jersey",
         "Unisex long-sleeve AWC logo microfiber cycling jersey",
         "Multi",
         "L",
         "U",
         31.7244,
         48.0673
        ],
        [
         235,
         21,
         "LJ",
         "Long-Sleeve",
         "Long-Sleeve Logo Jersey",
         "Unisex long-sleeve AWC logo microfiber cycling jersey",
         "Multi",
         "XL",
         "U",
         31.7244,
         48.0673
        ]
       ],
       "datasetInfos": [],
       "dbfsResultPath": null,
       "isJsonSchema": true,
       "metadata": {},
       "overflow": false,
       "plotOptions": {
        "customPlotOptions": {},
        "displayType": "table",
        "pivotAggregation": null,
        "pivotColumns": null,
        "xColumns": null,
        "yColumns": null
       },
       "removedWidgets": [],
       "schema": [
        {
         "metadata": "{}",
         "name": "ProductKey",
         "type": "\"integer\""
        },
        {
         "metadata": "{}",
         "name": "ProductSubcategoryKey",
         "type": "\"integer\""
        },
        {
         "metadata": "{}",
         "name": "ProductSKU",
         "type": "\"string\""
        },
        {
         "metadata": "{}",
         "name": "ProductName",
         "type": "\"string\""
        },
        {
         "metadata": "{}",
         "name": "ModelName",
         "type": "\"string\""
        },
        {
         "metadata": "{}",
         "name": "ProductDescription",
         "type": "\"string\""
        },
        {
         "metadata": "{}",
         "name": "ProductColor",
         "type": "\"string\""
        },
        {
         "metadata": "{}",
         "name": "ProductSize",
         "type": "\"string\""
        },
        {
         "metadata": "{}",
         "name": "ProductStyle",
         "type": "\"string\""
        },
        {
         "metadata": "{}",
         "name": "ProductCost",
         "type": "\"double\""
        },
        {
         "metadata": "{}",
         "name": "ProductPrice",
         "type": "\"double\""
        }
       ],
       "type": "table"
      }
     },
     "output_type": "display_data"
    }
   ],
   "source": [
    "df_pro = df_pro.withColumn(\"ProductSKU\",split(df_pro.ProductSKU,'-').getItem(0))\\\n",
    "                .withColumn(\"ProductName\",split(df_pro.ProductName,' ').getItem(0))\n",
    "df_pro.limit(10).display()"
   ]
  },
  {
   "cell_type": "code",
   "execution_count": 0,
   "metadata": {
    "application/vnd.databricks.v1+cell": {
     "cellMetadata": {
      "byteLimit": 2048000,
      "rowLimit": 10000
     },
     "inputWidgets": {},
     "nuid": "4f29ccfc-c914-4ca4-b839-d0a716da0c58",
     "showTitle": false,
     "tableResultSettingsMap": {},
     "title": ""
    }
   },
   "outputs": [],
   "source": [
    "df_pro.write.format(\"parquet\")\\\n",
    "    .mode(\"append\")\\\n",
    "    .option(\"path\",\"abfss://silver@awspool2.dfs.core.windows.net/AdventureWorks_Products\")\\\n",
    "    .save()"
   ]
  },
  {
   "cell_type": "markdown",
   "metadata": {
    "application/vnd.databricks.v1+cell": {
     "cellMetadata": {
      "byteLimit": 2048000,
      "rowLimit": 10000
     },
     "inputWidgets": {},
     "nuid": "743f98a6-0702-488d-8c28-2e6133f3abc5",
     "showTitle": false,
     "tableResultSettingsMap": {},
     "title": ""
    }
   },
   "source": [
    "**Returns**"
   ]
  },
  {
   "cell_type": "code",
   "execution_count": 0,
   "metadata": {
    "application/vnd.databricks.v1+cell": {
     "cellMetadata": {
      "byteLimit": 2048000,
      "rowLimit": 10000
     },
     "inputWidgets": {},
     "nuid": "200d5b34-9fcc-41bb-950c-59e6ee6fdfe2",
     "showTitle": false,
     "tableResultSettingsMap": {},
     "title": ""
    }
   },
   "outputs": [
    {
     "output_type": "display_data",
     "data": {
      "text/html": [
       "<style scoped>\n",
       "  .table-result-container {\n",
       "    max-height: 300px;\n",
       "    overflow: auto;\n",
       "  }\n",
       "  table, th, td {\n",
       "    border: 1px solid black;\n",
       "    border-collapse: collapse;\n",
       "  }\n",
       "  th, td {\n",
       "    padding: 5px;\n",
       "  }\n",
       "  th {\n",
       "    text-align: left;\n",
       "  }\n",
       "</style><div class='table-result-container'><table class='table-result'><thead style='background-color: white'><tr><th>ReturnDate</th><th>TerritoryKey</th><th>ProductKey</th><th>ReturnQuantity</th></tr></thead><tbody><tr><td>2015-01-18</td><td>9</td><td>312</td><td>1</td></tr><tr><td>2015-01-18</td><td>10</td><td>310</td><td>1</td></tr><tr><td>2015-01-21</td><td>8</td><td>346</td><td>1</td></tr><tr><td>2015-01-22</td><td>4</td><td>311</td><td>1</td></tr><tr><td>2015-02-02</td><td>6</td><td>312</td><td>1</td></tr><tr><td>2015-02-15</td><td>1</td><td>312</td><td>1</td></tr><tr><td>2015-02-19</td><td>9</td><td>311</td><td>1</td></tr><tr><td>2015-02-24</td><td>8</td><td>314</td><td>1</td></tr><tr><td>2015-03-08</td><td>8</td><td>350</td><td>1</td></tr><tr><td>2015-03-13</td><td>9</td><td>350</td><td>1</td></tr></tbody></table></div>"
      ]
     },
     "metadata": {
      "application/vnd.databricks.v1+output": {
       "addedWidgets": {},
       "aggData": [],
       "aggError": "",
       "aggOverflow": false,
       "aggSchema": [],
       "aggSeriesLimitReached": false,
       "aggType": "",
       "arguments": {},
       "columnCustomDisplayInfos": {},
       "data": [
        [
         "2015-01-18",
         9,
         312,
         1
        ],
        [
         "2015-01-18",
         10,
         310,
         1
        ],
        [
         "2015-01-21",
         8,
         346,
         1
        ],
        [
         "2015-01-22",
         4,
         311,
         1
        ],
        [
         "2015-02-02",
         6,
         312,
         1
        ],
        [
         "2015-02-15",
         1,
         312,
         1
        ],
        [
         "2015-02-19",
         9,
         311,
         1
        ],
        [
         "2015-02-24",
         8,
         314,
         1
        ],
        [
         "2015-03-08",
         8,
         350,
         1
        ],
        [
         "2015-03-13",
         9,
         350,
         1
        ]
       ],
       "datasetInfos": [],
       "dbfsResultPath": null,
       "isJsonSchema": true,
       "metadata": {},
       "overflow": false,
       "plotOptions": {
        "customPlotOptions": {},
        "displayType": "table",
        "pivotAggregation": null,
        "pivotColumns": null,
        "xColumns": null,
        "yColumns": null
       },
       "removedWidgets": [],
       "schema": [
        {
         "metadata": "{\"__detected_date_formats\":\"M/d/yyyy\"}",
         "name": "ReturnDate",
         "type": "\"date\""
        },
        {
         "metadata": "{}",
         "name": "TerritoryKey",
         "type": "\"integer\""
        },
        {
         "metadata": "{}",
         "name": "ProductKey",
         "type": "\"integer\""
        },
        {
         "metadata": "{}",
         "name": "ReturnQuantity",
         "type": "\"integer\""
        }
       ],
       "type": "table"
      }
     },
     "output_type": "display_data"
    }
   ],
   "source": [
    "df_ret.limit(10).display()"
   ]
  },
  {
   "cell_type": "code",
   "execution_count": 0,
   "metadata": {
    "application/vnd.databricks.v1+cell": {
     "cellMetadata": {
      "byteLimit": 2048000,
      "rowLimit": 10000
     },
     "inputWidgets": {},
     "nuid": "b9d67fb2-3060-4d99-839d-b237603be5cf",
     "showTitle": false,
     "tableResultSettingsMap": {},
     "title": ""
    }
   },
   "outputs": [],
   "source": [
    "df_ret.write.format(\"parquet\")\\\n",
    "    .mode(\"append\")\\\n",
    "    .option(\"path\",\"abfss://silver@awspool2.dfs.core.windows.net/AdventureWorks_Returns\")\\\n",
    "    .save()"
   ]
  },
  {
   "cell_type": "markdown",
   "metadata": {
    "application/vnd.databricks.v1+cell": {
     "cellMetadata": {
      "byteLimit": 2048000,
      "rowLimit": 10000
     },
     "inputWidgets": {},
     "nuid": "91d75c2e-d610-4396-9b3d-eefc2a333f87",
     "showTitle": false,
     "tableResultSettingsMap": {},
     "title": ""
    }
   },
   "source": [
    "**Territories**"
   ]
  },
  {
   "cell_type": "code",
   "execution_count": 0,
   "metadata": {
    "application/vnd.databricks.v1+cell": {
     "cellMetadata": {
      "byteLimit": 2048000,
      "rowLimit": 10000
     },
     "inputWidgets": {},
     "nuid": "794d7980-10fc-48b2-b67f-1d96d901a7a8",
     "showTitle": false,
     "tableResultSettingsMap": {},
     "title": ""
    }
   },
   "outputs": [
    {
     "output_type": "display_data",
     "data": {
      "text/html": [
       "<style scoped>\n",
       "  .table-result-container {\n",
       "    max-height: 300px;\n",
       "    overflow: auto;\n",
       "  }\n",
       "  table, th, td {\n",
       "    border: 1px solid black;\n",
       "    border-collapse: collapse;\n",
       "  }\n",
       "  th, td {\n",
       "    padding: 5px;\n",
       "  }\n",
       "  th {\n",
       "    text-align: left;\n",
       "  }\n",
       "</style><div class='table-result-container'><table class='table-result'><thead style='background-color: white'><tr><th>SalesTerritoryKey</th><th>Region</th><th>Country</th><th>Continent</th></tr></thead><tbody><tr><td>1</td><td>Northwest</td><td>United States</td><td>North America</td></tr><tr><td>2</td><td>Northeast</td><td>United States</td><td>North America</td></tr><tr><td>3</td><td>Central</td><td>United States</td><td>North America</td></tr><tr><td>4</td><td>Southwest</td><td>United States</td><td>North America</td></tr><tr><td>5</td><td>Southeast</td><td>United States</td><td>North America</td></tr><tr><td>6</td><td>Canada</td><td>Canada</td><td>North America</td></tr><tr><td>7</td><td>France</td><td>France</td><td>Europe</td></tr><tr><td>8</td><td>Germany</td><td>Germany</td><td>Europe</td></tr><tr><td>9</td><td>Australia</td><td>Australia</td><td>Pacific</td></tr><tr><td>10</td><td>United Kingdom</td><td>United Kingdom</td><td>Europe</td></tr></tbody></table></div>"
      ]
     },
     "metadata": {
      "application/vnd.databricks.v1+output": {
       "addedWidgets": {},
       "aggData": [],
       "aggError": "",
       "aggOverflow": false,
       "aggSchema": [],
       "aggSeriesLimitReached": false,
       "aggType": "",
       "arguments": {},
       "columnCustomDisplayInfos": {},
       "data": [
        [
         1,
         "Northwest",
         "United States",
         "North America"
        ],
        [
         2,
         "Northeast",
         "United States",
         "North America"
        ],
        [
         3,
         "Central",
         "United States",
         "North America"
        ],
        [
         4,
         "Southwest",
         "United States",
         "North America"
        ],
        [
         5,
         "Southeast",
         "United States",
         "North America"
        ],
        [
         6,
         "Canada",
         "Canada",
         "North America"
        ],
        [
         7,
         "France",
         "France",
         "Europe"
        ],
        [
         8,
         "Germany",
         "Germany",
         "Europe"
        ],
        [
         9,
         "Australia",
         "Australia",
         "Pacific"
        ],
        [
         10,
         "United Kingdom",
         "United Kingdom",
         "Europe"
        ]
       ],
       "datasetInfos": [],
       "dbfsResultPath": null,
       "isJsonSchema": true,
       "metadata": {},
       "overflow": false,
       "plotOptions": {
        "customPlotOptions": {},
        "displayType": "table",
        "pivotAggregation": null,
        "pivotColumns": null,
        "xColumns": null,
        "yColumns": null
       },
       "removedWidgets": [],
       "schema": [
        {
         "metadata": "{}",
         "name": "SalesTerritoryKey",
         "type": "\"integer\""
        },
        {
         "metadata": "{}",
         "name": "Region",
         "type": "\"string\""
        },
        {
         "metadata": "{}",
         "name": "Country",
         "type": "\"string\""
        },
        {
         "metadata": "{}",
         "name": "Continent",
         "type": "\"string\""
        }
       ],
       "type": "table"
      }
     },
     "output_type": "display_data"
    }
   ],
   "source": [
    "df_ter.limit(10).display()"
   ]
  },
  {
   "cell_type": "code",
   "execution_count": 0,
   "metadata": {
    "application/vnd.databricks.v1+cell": {
     "cellMetadata": {
      "byteLimit": 2048000,
      "rowLimit": 10000
     },
     "inputWidgets": {},
     "nuid": "cffdb911-4f6a-495e-8d4c-b8fe81969917",
     "showTitle": false,
     "tableResultSettingsMap": {},
     "title": ""
    }
   },
   "outputs": [],
   "source": [
    "df_ter.write.format(\"parquet\")\\\n",
    "    .mode(\"append\")\\\n",
    "    .option(\"path\",\"abfss://silver@awspool2.dfs.core.windows.net/AdventureWorks_Territories\")\\\n",
    "    .save()"
   ]
  },
  {
   "cell_type": "markdown",
   "metadata": {
    "application/vnd.databricks.v1+cell": {
     "cellMetadata": {
      "byteLimit": 2048000,
      "rowLimit": 10000
     },
     "inputWidgets": {},
     "nuid": "64cf9fe5-6a37-44bf-8e5c-0107cc917573",
     "showTitle": false,
     "tableResultSettingsMap": {},
     "title": ""
    }
   },
   "source": [
    "**Sales**"
   ]
  },
  {
   "cell_type": "code",
   "execution_count": 0,
   "metadata": {
    "application/vnd.databricks.v1+cell": {
     "cellMetadata": {
      "byteLimit": 2048000,
      "rowLimit": 10000
     },
     "inputWidgets": {},
     "nuid": "d8d1b9ba-c15f-4a75-8115-ecac12144910",
     "showTitle": false,
     "tableResultSettingsMap": {},
     "title": ""
    }
   },
   "outputs": [
    {
     "output_type": "display_data",
     "data": {
      "text/html": [
       "<style scoped>\n",
       "  .table-result-container {\n",
       "    max-height: 300px;\n",
       "    overflow: auto;\n",
       "  }\n",
       "  table, th, td {\n",
       "    border: 1px solid black;\n",
       "    border-collapse: collapse;\n",
       "  }\n",
       "  th, td {\n",
       "    padding: 5px;\n",
       "  }\n",
       "  th {\n",
       "    text-align: left;\n",
       "  }\n",
       "</style><div class='table-result-container'><table class='table-result'><thead style='background-color: white'><tr><th>OrderDate</th><th>StockDate</th><th>OrderNumber</th><th>ProductKey</th><th>CustomerKey</th><th>TerritoryKey</th><th>OrderLineItem</th><th>OrderQuantity</th></tr></thead><tbody><tr><td>2017-01-01</td><td>2003-12-13</td><td>SO61285</td><td>529</td><td>23791</td><td>1</td><td>2</td><td>2</td></tr><tr><td>2017-01-01</td><td>2003-09-24</td><td>SO61285</td><td>214</td><td>23791</td><td>1</td><td>3</td><td>1</td></tr><tr><td>2017-01-01</td><td>2003-09-04</td><td>SO61285</td><td>540</td><td>23791</td><td>1</td><td>1</td><td>1</td></tr><tr><td>2017-01-01</td><td>2003-09-28</td><td>SO61301</td><td>529</td><td>16747</td><td>1</td><td>2</td><td>2</td></tr><tr><td>2017-01-01</td><td>2003-10-21</td><td>SO61301</td><td>377</td><td>16747</td><td>1</td><td>1</td><td>1</td></tr><tr><td>2017-01-01</td><td>2003-10-23</td><td>SO61301</td><td>540</td><td>16747</td><td>1</td><td>3</td><td>1</td></tr><tr><td>2017-01-01</td><td>2003-09-04</td><td>SO61269</td><td>215</td><td>11792</td><td>4</td><td>1</td><td>1</td></tr><tr><td>2017-01-01</td><td>2003-10-21</td><td>SO61269</td><td>229</td><td>11792</td><td>4</td><td>2</td><td>1</td></tr><tr><td>2017-01-01</td><td>2003-10-24</td><td>SO61286</td><td>528</td><td>11530</td><td>6</td><td>2</td><td>2</td></tr><tr><td>2017-01-01</td><td>2003-09-27</td><td>SO61286</td><td>536</td><td>11530</td><td>6</td><td>1</td><td>2</td></tr></tbody></table></div>"
      ]
     },
     "metadata": {
      "application/vnd.databricks.v1+output": {
       "addedWidgets": {},
       "aggData": [],
       "aggError": "",
       "aggOverflow": false,
       "aggSchema": [],
       "aggSeriesLimitReached": false,
       "aggType": "",
       "arguments": {},
       "columnCustomDisplayInfos": {},
       "data": [
        [
         "2017-01-01",
         "2003-12-13",
         "SO61285",
         529,
         23791,
         1,
         2,
         2
        ],
        [
         "2017-01-01",
         "2003-09-24",
         "SO61285",
         214,
         23791,
         1,
         3,
         1
        ],
        [
         "2017-01-01",
         "2003-09-04",
         "SO61285",
         540,
         23791,
         1,
         1,
         1
        ],
        [
         "2017-01-01",
         "2003-09-28",
         "SO61301",
         529,
         16747,
         1,
         2,
         2
        ],
        [
         "2017-01-01",
         "2003-10-21",
         "SO61301",
         377,
         16747,
         1,
         1,
         1
        ],
        [
         "2017-01-01",
         "2003-10-23",
         "SO61301",
         540,
         16747,
         1,
         3,
         1
        ],
        [
         "2017-01-01",
         "2003-09-04",
         "SO61269",
         215,
         11792,
         4,
         1,
         1
        ],
        [
         "2017-01-01",
         "2003-10-21",
         "SO61269",
         229,
         11792,
         4,
         2,
         1
        ],
        [
         "2017-01-01",
         "2003-10-24",
         "SO61286",
         528,
         11530,
         6,
         2,
         2
        ],
        [
         "2017-01-01",
         "2003-09-27",
         "SO61286",
         536,
         11530,
         6,
         1,
         2
        ]
       ],
       "datasetInfos": [],
       "dbfsResultPath": null,
       "isJsonSchema": true,
       "metadata": {},
       "overflow": false,
       "plotOptions": {
        "customPlotOptions": {},
        "displayType": "table",
        "pivotAggregation": null,
        "pivotColumns": null,
        "xColumns": null,
        "yColumns": null
       },
       "removedWidgets": [],
       "schema": [
        {
         "metadata": "{\"__detected_date_formats\":\"M/d/yyyy\"}",
         "name": "OrderDate",
         "type": "\"date\""
        },
        {
         "metadata": "{\"__detected_date_formats\":\"M/d/yyyy\"}",
         "name": "StockDate",
         "type": "\"date\""
        },
        {
         "metadata": "{}",
         "name": "OrderNumber",
         "type": "\"string\""
        },
        {
         "metadata": "{}",
         "name": "ProductKey",
         "type": "\"integer\""
        },
        {
         "metadata": "{}",
         "name": "CustomerKey",
         "type": "\"integer\""
        },
        {
         "metadata": "{}",
         "name": "TerritoryKey",
         "type": "\"integer\""
        },
        {
         "metadata": "{}",
         "name": "OrderLineItem",
         "type": "\"integer\""
        },
        {
         "metadata": "{}",
         "name": "OrderQuantity",
         "type": "\"integer\""
        }
       ],
       "type": "table"
      }
     },
     "output_type": "display_data"
    }
   ],
   "source": [
    "df_sales.limit(10).display()"
   ]
  },
  {
   "cell_type": "code",
   "execution_count": 0,
   "metadata": {
    "application/vnd.databricks.v1+cell": {
     "cellMetadata": {
      "byteLimit": 2048000,
      "rowLimit": 10000
     },
     "inputWidgets": {},
     "nuid": "eacb8101-8223-49d6-8f27-5180073546ec",
     "showTitle": false,
     "tableResultSettingsMap": {},
     "title": ""
    }
   },
   "outputs": [],
   "source": [
    "df_sales = df_sales.withColumn(\"StockDate\",to_timestamp(\"StockDate\"))\\\n",
    "                    .withColumn(\"OrderNumber\",regexp_replace(df_sales.OrderNumber,'S','T'))\\\n",
    "                    .withColumn(\"Multiply\",df_sales.OrderQuantity*df_sales.OrderLineItem)\n",
    "df_sales = df_sales.withColumn(\"Multiply\",df_sales.Multiply.cast(\"int\"))"
   ]
  },
  {
   "cell_type": "code",
   "execution_count": 0,
   "metadata": {
    "application/vnd.databricks.v1+cell": {
     "cellMetadata": {
      "byteLimit": 2048000,
      "rowLimit": 10000
     },
     "inputWidgets": {},
     "nuid": "29cf6b90-ad60-467d-8e4c-c844b50a70c6",
     "showTitle": false,
     "tableResultSettingsMap": {
      "0": {
       "dataGridStateBlob": "{\"version\":1,\"tableState\":{\"columnPinning\":{\"left\":[\"#row_number#\"],\"right\":[]},\"columnSizing\":{},\"columnVisibility\":{}},\"settings\":{\"columns\":{}},\"syncTimestamp\":1754736350124}",
       "filterBlob": null,
       "queryPlanFiltersBlob": null,
       "tableResultIndex": 0
      }
     },
     "title": ""
    }
   },
   "outputs": [
    {
     "output_type": "display_data",
     "data": {
      "text/html": [
       "<style scoped>\n",
       "  .table-result-container {\n",
       "    max-height: 300px;\n",
       "    overflow: auto;\n",
       "  }\n",
       "  table, th, td {\n",
       "    border: 1px solid black;\n",
       "    border-collapse: collapse;\n",
       "  }\n",
       "  th, td {\n",
       "    padding: 5px;\n",
       "  }\n",
       "  th {\n",
       "    text-align: left;\n",
       "  }\n",
       "</style><div class='table-result-container'><table class='table-result'><thead style='background-color: white'><tr><th>OrderDate</th><th>StockDate</th><th>OrderNumber</th><th>ProductKey</th><th>CustomerKey</th><th>TerritoryKey</th><th>OrderLineItem</th><th>OrderQuantity</th><th>Multiply</th></tr></thead><tbody><tr><td>2017-01-01</td><td>2003-12-13T00:00:00Z</td><td>TO61285</td><td>529</td><td>23791</td><td>1</td><td>2</td><td>2</td><td>4</td></tr><tr><td>2017-01-01</td><td>2003-09-24T00:00:00Z</td><td>TO61285</td><td>214</td><td>23791</td><td>1</td><td>3</td><td>1</td><td>3</td></tr><tr><td>2017-01-01</td><td>2003-09-04T00:00:00Z</td><td>TO61285</td><td>540</td><td>23791</td><td>1</td><td>1</td><td>1</td><td>1</td></tr><tr><td>2017-01-01</td><td>2003-09-28T00:00:00Z</td><td>TO61301</td><td>529</td><td>16747</td><td>1</td><td>2</td><td>2</td><td>4</td></tr><tr><td>2017-01-01</td><td>2003-10-21T00:00:00Z</td><td>TO61301</td><td>377</td><td>16747</td><td>1</td><td>1</td><td>1</td><td>1</td></tr><tr><td>2017-01-01</td><td>2003-10-23T00:00:00Z</td><td>TO61301</td><td>540</td><td>16747</td><td>1</td><td>3</td><td>1</td><td>3</td></tr><tr><td>2017-01-01</td><td>2003-09-04T00:00:00Z</td><td>TO61269</td><td>215</td><td>11792</td><td>4</td><td>1</td><td>1</td><td>1</td></tr><tr><td>2017-01-01</td><td>2003-10-21T00:00:00Z</td><td>TO61269</td><td>229</td><td>11792</td><td>4</td><td>2</td><td>1</td><td>2</td></tr><tr><td>2017-01-01</td><td>2003-10-24T00:00:00Z</td><td>TO61286</td><td>528</td><td>11530</td><td>6</td><td>2</td><td>2</td><td>4</td></tr><tr><td>2017-01-01</td><td>2003-09-27T00:00:00Z</td><td>TO61286</td><td>536</td><td>11530</td><td>6</td><td>1</td><td>2</td><td>2</td></tr></tbody></table></div>"
      ]
     },
     "metadata": {
      "application/vnd.databricks.v1+output": {
       "addedWidgets": {},
       "aggData": [],
       "aggError": "",
       "aggOverflow": false,
       "aggSchema": [],
       "aggSeriesLimitReached": false,
       "aggType": "",
       "arguments": {},
       "columnCustomDisplayInfos": {},
       "data": [
        [
         "2017-01-01",
         "2003-12-13T00:00:00Z",
         "TO61285",
         529,
         23791,
         1,
         2,
         2,
         4
        ],
        [
         "2017-01-01",
         "2003-09-24T00:00:00Z",
         "TO61285",
         214,
         23791,
         1,
         3,
         1,
         3
        ],
        [
         "2017-01-01",
         "2003-09-04T00:00:00Z",
         "TO61285",
         540,
         23791,
         1,
         1,
         1,
         1
        ],
        [
         "2017-01-01",
         "2003-09-28T00:00:00Z",
         "TO61301",
         529,
         16747,
         1,
         2,
         2,
         4
        ],
        [
         "2017-01-01",
         "2003-10-21T00:00:00Z",
         "TO61301",
         377,
         16747,
         1,
         1,
         1,
         1
        ],
        [
         "2017-01-01",
         "2003-10-23T00:00:00Z",
         "TO61301",
         540,
         16747,
         1,
         3,
         1,
         3
        ],
        [
         "2017-01-01",
         "2003-09-04T00:00:00Z",
         "TO61269",
         215,
         11792,
         4,
         1,
         1,
         1
        ],
        [
         "2017-01-01",
         "2003-10-21T00:00:00Z",
         "TO61269",
         229,
         11792,
         4,
         2,
         1,
         2
        ],
        [
         "2017-01-01",
         "2003-10-24T00:00:00Z",
         "TO61286",
         528,
         11530,
         6,
         2,
         2,
         4
        ],
        [
         "2017-01-01",
         "2003-09-27T00:00:00Z",
         "TO61286",
         536,
         11530,
         6,
         1,
         2,
         2
        ]
       ],
       "datasetInfos": [],
       "dbfsResultPath": null,
       "isJsonSchema": true,
       "metadata": {},
       "overflow": false,
       "plotOptions": {
        "customPlotOptions": {},
        "displayType": "table",
        "pivotAggregation": null,
        "pivotColumns": null,
        "xColumns": null,
        "yColumns": null
       },
       "removedWidgets": [],
       "schema": [
        {
         "metadata": "{\"__detected_date_formats\":\"M/d/yyyy\"}",
         "name": "OrderDate",
         "type": "\"date\""
        },
        {
         "metadata": "{}",
         "name": "StockDate",
         "type": "\"timestamp\""
        },
        {
         "metadata": "{}",
         "name": "OrderNumber",
         "type": "\"string\""
        },
        {
         "metadata": "{}",
         "name": "ProductKey",
         "type": "\"integer\""
        },
        {
         "metadata": "{}",
         "name": "CustomerKey",
         "type": "\"integer\""
        },
        {
         "metadata": "{}",
         "name": "TerritoryKey",
         "type": "\"integer\""
        },
        {
         "metadata": "{}",
         "name": "OrderLineItem",
         "type": "\"integer\""
        },
        {
         "metadata": "{}",
         "name": "OrderQuantity",
         "type": "\"integer\""
        },
        {
         "metadata": "{}",
         "name": "Multiply",
         "type": "\"integer\""
        }
       ],
       "type": "table"
      }
     },
     "output_type": "display_data"
    }
   ],
   "source": [
    "df_sales.limit(10).display()"
   ]
  },
  {
   "cell_type": "code",
   "execution_count": 0,
   "metadata": {
    "application/vnd.databricks.v1+cell": {
     "cellMetadata": {
      "byteLimit": 2048000,
      "rowLimit": 10000
     },
     "inputWidgets": {},
     "nuid": "5f82c447-1c9f-4734-86c6-31f656614693",
     "showTitle": false,
     "tableResultSettingsMap": {},
     "title": ""
    }
   },
   "outputs": [],
   "source": [
    "df_sales.write.format(\"parquet\")\\\n",
    "    .mode(\"append\")\\\n",
    "    .option(\"path\",\"abfss://silver@awspool2.dfs.core.windows.net/AdventureWorks_Sales\")\\\n",
    "    .save()"
   ]
  },
  {
   "cell_type": "markdown",
   "metadata": {
    "application/vnd.databricks.v1+cell": {
     "cellMetadata": {
      "byteLimit": 2048000,
      "rowLimit": 10000
     },
     "inputWidgets": {},
     "nuid": "382805fd-b9b5-48cb-9493-296e83db8f85",
     "showTitle": false,
     "tableResultSettingsMap": {},
     "title": ""
    }
   },
   "source": [
    "**SALES ANALYSIS**"
   ]
  },
  {
   "cell_type": "code",
   "execution_count": 0,
   "metadata": {
    "application/vnd.databricks.v1+cell": {
     "cellMetadata": {
      "byteLimit": 2048000,
      "rowLimit": 10000
     },
     "inputWidgets": {},
     "nuid": "4af3e791-e80e-4dc8-9083-961a2b20a9d9",
     "showTitle": false,
     "tableResultSettingsMap": {},
     "title": ""
    }
   },
   "outputs": [
    {
     "output_type": "display_data",
     "data": {
      "text/html": [
       "<style scoped>\n",
       "  .table-result-container {\n",
       "    max-height: 300px;\n",
       "    overflow: auto;\n",
       "  }\n",
       "  table, th, td {\n",
       "    border: 1px solid black;\n",
       "    border-collapse: collapse;\n",
       "  }\n",
       "  th, td {\n",
       "    padding: 5px;\n",
       "  }\n",
       "  th {\n",
       "    text-align: left;\n",
       "  }\n",
       "</style><div class='table-result-container'><table class='table-result'><thead style='background-color: white'><tr><th>OrderDate</th><th>TotalOrder</th></tr></thead><tbody><tr><td>2017-01-06</td><td>151</td></tr><tr><td>2017-01-27</td><td>142</td></tr><tr><td>2017-02-26</td><td>119</td></tr><tr><td>2017-01-24</td><td>173</td></tr><tr><td>2017-06-29</td><td>172</td></tr><tr><td>2017-02-16</td><td>124</td></tr><tr><td>2017-04-09</td><td>140</td></tr><tr><td>2017-02-28</td><td>162</td></tr><tr><td>2017-03-28</td><td>149</td></tr><tr><td>2017-06-30</td><td>136</td></tr><tr><td>2017-01-30</td><td>145</td></tr><tr><td>2017-05-11</td><td>164</td></tr><tr><td>2017-02-10</td><td>168</td></tr><tr><td>2017-04-25</td><td>176</td></tr><tr><td>2017-03-19</td><td>152</td></tr><tr><td>2017-05-26</td><td>175</td></tr><tr><td>2017-01-04</td><td>138</td></tr><tr><td>2017-06-28</td><td>215</td></tr><tr><td>2017-04-03</td><td>246</td></tr><tr><td>2017-06-14</td><td>258</td></tr><tr><td>2017-04-29</td><td>163</td></tr><tr><td>2017-02-07</td><td>161</td></tr><tr><td>2017-01-10</td><td>192</td></tr><tr><td>2017-03-17</td><td>138</td></tr><tr><td>2017-05-10</td><td>150</td></tr><tr><td>2017-01-21</td><td>131</td></tr><tr><td>2017-05-09</td><td>191</td></tr><tr><td>2017-04-07</td><td>160</td></tr><tr><td>2017-06-08</td><td>171</td></tr><tr><td>2017-01-05</td><td>141</td></tr><tr><td>2017-06-01</td><td>122</td></tr><tr><td>2017-04-02</td><td>168</td></tr><tr><td>2017-06-09</td><td>182</td></tr><tr><td>2017-04-11</td><td>137</td></tr><tr><td>2017-04-12</td><td>156</td></tr><tr><td>2017-01-13</td><td>123</td></tr><tr><td>2017-02-08</td><td>164</td></tr><tr><td>2017-03-13</td><td>191</td></tr><tr><td>2017-04-05</td><td>122</td></tr><tr><td>2017-04-20</td><td>165</td></tr><tr><td>2017-06-15</td><td>195</td></tr><tr><td>2017-02-25</td><td>103</td></tr><tr><td>2017-05-21</td><td>185</td></tr><tr><td>2017-03-16</td><td>107</td></tr><tr><td>2017-04-27</td><td>176</td></tr><tr><td>2017-05-27</td><td>148</td></tr><tr><td>2017-02-01</td><td>179</td></tr><tr><td>2017-01-26</td><td>156</td></tr><tr><td>2017-01-01</td><td>98</td></tr><tr><td>2017-06-19</td><td>194</td></tr><tr><td>2017-04-18</td><td>186</td></tr><tr><td>2017-01-20</td><td>195</td></tr><tr><td>2017-06-13</td><td>151</td></tr><tr><td>2017-06-25</td><td>189</td></tr><tr><td>2017-03-05</td><td>146</td></tr><tr><td>2017-03-21</td><td>177</td></tr><tr><td>2017-06-07</td><td>222</td></tr><tr><td>2017-06-02</td><td>137</td></tr><tr><td>2017-03-24</td><td>158</td></tr><tr><td>2017-04-30</td><td>169</td></tr><tr><td>2017-01-11</td><td>162</td></tr><tr><td>2017-02-12</td><td>163</td></tr><tr><td>2017-01-17</td><td>123</td></tr><tr><td>2017-02-24</td><td>152</td></tr><tr><td>2017-06-18</td><td>163</td></tr><tr><td>2017-05-28</td><td>170</td></tr><tr><td>2017-05-05</td><td>204</td></tr><tr><td>2017-05-19</td><td>171</td></tr><tr><td>2017-03-20</td><td>163</td></tr><tr><td>2017-04-15</td><td>181</td></tr><tr><td>2017-06-06</td><td>216</td></tr><tr><td>2017-01-19</td><td>131</td></tr><tr><td>2017-01-25</td><td>121</td></tr><tr><td>2017-04-26</td><td>153</td></tr><tr><td>2017-02-23</td><td>137</td></tr><tr><td>2017-03-30</td><td>157</td></tr><tr><td>2017-02-06</td><td>156</td></tr><tr><td>2017-03-29</td><td>136</td></tr><tr><td>2017-01-23</td><td>113</td></tr><tr><td>2017-01-08</td><td>168</td></tr><tr><td>2017-04-08</td><td>173</td></tr><tr><td>2017-06-17</td><td>215</td></tr><tr><td>2017-03-11</td><td>158</td></tr><tr><td>2017-03-06</td><td>137</td></tr><tr><td>2017-04-23</td><td>178</td></tr><tr><td>2017-02-22</td><td>125</td></tr><tr><td>2017-03-26</td><td>131</td></tr><tr><td>2017-05-07</td><td>188</td></tr><tr><td>2017-01-07</td><td>152</td></tr><tr><td>2017-02-05</td><td>172</td></tr><tr><td>2017-01-12</td><td>121</td></tr><tr><td>2017-03-18</td><td>142</td></tr><tr><td>2017-02-17</td><td>194</td></tr><tr><td>2017-01-31</td><td>148</td></tr><tr><td>2017-02-03</td><td>189</td></tr><tr><td>2017-05-22</td><td>152</td></tr><tr><td>2017-06-22</td><td>191</td></tr><tr><td>2017-06-03</td><td>177</td></tr><tr><td>2017-01-16</td><td>171</td></tr><tr><td>2017-04-22</td><td>161</td></tr><tr><td>2017-06-10</td><td>151</td></tr><tr><td>2017-06-11</td><td>233</td></tr><tr><td>2017-03-07</td><td>159</td></tr><tr><td>2017-05-14</td><td>186</td></tr><tr><td>2017-05-30</td><td>162</td></tr><tr><td>2017-06-21</td><td>218</td></tr><tr><td>2017-02-27</td><td>174</td></tr><tr><td>2017-03-27</td><td>185</td></tr><tr><td>2017-02-18</td><td>195</td></tr><tr><td>2017-05-08</td><td>194</td></tr><tr><td>2017-05-06</td><td>168</td></tr><tr><td>2017-06-26</td><td>187</td></tr><tr><td>2017-01-09</td><td>117</td></tr><tr><td>2017-06-16</td><td>133</td></tr><tr><td>2017-05-23</td><td>158</td></tr><tr><td>2017-04-06</td><td>172</td></tr><tr><td>2017-03-10</td><td>159</td></tr><tr><td>2017-05-03</td><td>172</td></tr><tr><td>2017-05-04</td><td>191</td></tr><tr><td>2017-02-21</td><td>167</td></tr><tr><td>2017-03-03</td><td>129</td></tr><tr><td>2017-03-23</td><td>155</td></tr><tr><td>2017-05-02</td><td>158</td></tr><tr><td>2017-03-22</td><td>141</td></tr><tr><td>2017-06-05</td><td>187</td></tr><tr><td>2017-05-17</td><td>170</td></tr><tr><td>2017-04-24</td><td>167</td></tr><tr><td>2017-06-23</td><td>161</td></tr><tr><td>2017-01-22</td><td>126</td></tr><tr><td>2017-02-02</td><td>148</td></tr><tr><td>2017-03-02</td><td>118</td></tr><tr><td>2017-03-12</td><td>167</td></tr><tr><td>2017-05-24</td><td>148</td></tr><tr><td>2017-01-15</td><td>156</td></tr><tr><td>2017-05-25</td><td>189</td></tr><tr><td>2017-05-18</td><td>136</td></tr><tr><td>2017-05-12</td><td>199</td></tr><tr><td>2017-03-31</td><td>131</td></tr><tr><td>2017-05-20</td><td>193</td></tr><tr><td>2017-01-02</td><td>135</td></tr><tr><td>2017-01-28</td><td>181</td></tr><tr><td>2017-03-09</td><td>179</td></tr><tr><td>2017-02-20</td><td>237</td></tr><tr><td>2017-01-18</td><td>159</td></tr><tr><td>2017-02-19</td><td>165</td></tr><tr><td>2017-03-04</td><td>144</td></tr><tr><td>2017-02-15</td><td>155</td></tr><tr><td>2017-02-13</td><td>150</td></tr><tr><td>2017-04-16</td><td>148</td></tr><tr><td>2017-01-03</td><td>138</td></tr><tr><td>2017-05-29</td><td>157</td></tr><tr><td>2017-04-19</td><td>218</td></tr><tr><td>2017-04-13</td><td>108</td></tr><tr><td>2017-04-04</td><td>156</td></tr><tr><td>2017-03-01</td><td>306</td></tr><tr><td>2017-03-25</td><td>144</td></tr><tr><td>2017-02-11</td><td>124</td></tr><tr><td>2017-06-12</td><td>153</td></tr><tr><td>2017-04-28</td><td>205</td></tr><tr><td>2017-05-31</td><td>192</td></tr><tr><td>2017-02-09</td><td>138</td></tr><tr><td>2017-05-16</td><td>190</td></tr><tr><td>2017-03-14</td><td>137</td></tr><tr><td>2017-03-08</td><td>136</td></tr><tr><td>2017-06-04</td><td>148</td></tr><tr><td>2017-04-17</td><td>168</td></tr><tr><td>2017-04-10</td><td>161</td></tr><tr><td>2017-06-27</td><td>172</td></tr><tr><td>2017-01-14</td><td>143</td></tr><tr><td>2017-05-01</td><td>220</td></tr><tr><td>2017-04-01</td><td>170</td></tr><tr><td>2017-06-24</td><td>196</td></tr><tr><td>2017-05-15</td><td>171</td></tr><tr><td>2017-02-14</td><td>135</td></tr><tr><td>2017-01-29</td><td>142</td></tr><tr><td>2017-05-13</td><td>164</td></tr><tr><td>2017-02-04</td><td>128</td></tr><tr><td>2017-03-15</td><td>141</td></tr><tr><td>2017-06-20</td><td>185</td></tr><tr><td>2017-04-14</td><td>166</td></tr><tr><td>2017-04-21</td><td>137</td></tr><tr><td>2016-03-01</td><td>8</td></tr><tr><td>2016-04-25</td><td>15</td></tr><tr><td>2016-05-03</td><td>15</td></tr><tr><td>2016-07-26</td><td>44</td></tr><tr><td>2016-08-15</td><td>93</td></tr><tr><td>2016-08-31</td><td>126</td></tr><tr><td>2016-10-03</td><td>130</td></tr><tr><td>2016-01-28</td><td>5</td></tr><tr><td>2016-07-17</td><td>39</td></tr><tr><td>2016-11-08</td><td>101</td></tr><tr><td>2016-12-19</td><td>169</td></tr><tr><td>2016-07-03</td><td>64</td></tr><tr><td>2016-08-23</td><td>89</td></tr><tr><td>2016-02-04</td><td>17</td></tr><tr><td>2016-05-26</td><td>10</td></tr><tr><td>2016-06-02</td><td>13</td></tr><tr><td>2016-01-13</td><td>12</td></tr><tr><td>2016-09-23</td><td>149</td></tr><tr><td>2016-01-01</td><td>8</td></tr><tr><td>2016-04-22</td><td>6</td></tr><tr><td>2016-06-16</td><td>7</td></tr><tr><td>2016-09-30</td><td>126</td></tr><tr><td>2016-01-19</td><td>5</td></tr><tr><td>2016-05-09</td><td>8</td></tr><tr><td>2016-07-19</td><td>37</td></tr><tr><td>2016-09-15</td><td>128</td></tr><tr><td>2016-02-08</td><td>11</td></tr><tr><td>2016-10-07</td><td>118</td></tr><tr><td>2016-12-12</td><td>188</td></tr><tr><td>2016-05-23</td><td>12</td></tr><tr><td>2016-09-26</td><td>114</td></tr><tr><td>2016-12-13</td><td>189</td></tr><tr><td>2016-02-03</td><td>9</td></tr><tr><td>2016-03-25</td><td>4</td></tr><tr><td>2016-08-26</td><td>122</td></tr><tr><td>2016-08-01</td><td>105</td></tr><tr><td>2016-09-09</td><td>153</td></tr><tr><td>2016-06-17</td><td>9</td></tr><tr><td>2016-09-27</td><td>145</td></tr><tr><td>2016-08-16</td><td>132</td></tr><tr><td>2016-10-23</td><td>142</td></tr><tr><td>2016-04-30</td><td>11</td></tr><tr><td>2016-07-21</td><td>21</td></tr><tr><td>2016-05-27</td><td>10</td></tr><tr><td>2016-07-02</td><td>37</td></tr><tr><td>2016-08-06</td><td>106</td></tr><tr><td>2016-10-20</td><td>126</td></tr><tr><td>2016-05-07</td><td>9</td></tr><tr><td>2016-04-26</td><td>9</td></tr><tr><td>2016-05-13</td><td>9</td></tr><tr><td>2016-05-31</td><td>16</td></tr><tr><td>2016-08-05</td><td>90</td></tr><tr><td>2016-02-22</td><td>11</td></tr><tr><td>2016-10-24</td><td>101</td></tr><tr><td>2016-10-27</td><td>102</td></tr><tr><td>2016-11-14</td><td>152</td></tr><tr><td>2016-03-22</td><td>7</td></tr><tr><td>2016-08-20</td><td>99</td></tr><tr><td>2016-09-05</td><td>112</td></tr><tr><td>2016-05-21</td><td>10</td></tr><tr><td>2016-12-15</td><td>194</td></tr><tr><td>2016-05-11</td><td>11</td></tr><tr><td>2016-11-24</td><td>182</td></tr><tr><td>2016-06-22</td><td>6</td></tr><tr><td>2016-11-25</td><td>104</td></tr><tr><td>2016-11-30</td><td>152</td></tr><tr><td>2016-05-28</td><td>12</td></tr><tr><td>2016-06-19</td><td>13</td></tr><tr><td>2016-03-11</td><td>8</td></tr><tr><td>2016-03-27</td><td>3</td></tr><tr><td>2016-06-08</td><td>17</td></tr><tr><td>2016-11-19</td><td>148</td></tr><tr><td>2016-12-20</td><td>156</td></tr><tr><td>2016-12-21</td><td>157</td></tr><tr><td>2016-06-15</td><td>14</td></tr><tr><td>2016-07-31</td><td>46</td></tr><tr><td>2016-08-03</td><td>126</td></tr><tr><td>2016-04-04</td><td>12</td></tr><tr><td>2016-06-13</td><td>9</td></tr><tr><td>2016-01-11</td><td>7</td></tr><tr><td>2016-12-22</td><td>103</td></tr><tr><td>2016-03-14</td><td>9</td></tr><tr><td>2016-04-16</td><td>7</td></tr><tr><td>2016-04-18</td><td>11</td></tr><tr><td>2016-08-12</td><td>148</td></tr><tr><td>2016-09-22</td><td>126</td></tr><tr><td>2016-10-17</td><td>120</td></tr><tr><td>2016-08-19</td><td>149</td></tr><tr><td>2016-04-11</td><td>12</td></tr><tr><td>2016-09-14</td><td>129</td></tr><tr><td>2016-06-29</td><td>7</td></tr><tr><td>2016-03-03</td><td>6</td></tr><tr><td>2016-01-05</td><td>7</td></tr><tr><td>2016-01-06</td><td>2</td></tr><tr><td>2016-06-27</td><td>13</td></tr><tr><td>2016-04-29</td><td>7</td></tr><tr><td>2016-08-10</td><td>88</td></tr><tr><td>2016-10-30</td><td>121</td></tr><tr><td>2016-01-20</td><td>7</td></tr><tr><td>2016-05-05</td><td>14</td></tr><tr><td>2016-02-11</td><td>4</td></tr><tr><td>2016-04-19</td><td>7</td></tr><tr><td>2016-09-12</td><td>162</td></tr><tr><td>2016-10-06</td><td>185</td></tr><tr><td>2016-02-09</td><td>10</td></tr><tr><td>2016-04-14</td><td>7</td></tr><tr><td>2016-01-29</td><td>8</td></tr><tr><td>2016-01-26</td><td>9</td></tr><tr><td>2016-08-13</td><td>129</td></tr><tr><td>2016-11-15</td><td>147</td></tr><tr><td>2016-02-15</td><td>11</td></tr><tr><td>2016-09-18</td><td>148</td></tr><tr><td>2016-12-03</td><td>178</td></tr><tr><td>2016-03-20</td><td>11</td></tr><tr><td>2016-07-13</td><td>44</td></tr><tr><td>2016-09-08</td><td>139</td></tr><tr><td>2016-10-21</td><td>125</td></tr><tr><td>2016-05-08</td><td>15</td></tr><tr><td>2016-09-01</td><td>83</td></tr><tr><td>2016-02-25</td><td>15</td></tr><tr><td>2016-03-16</td><td>7</td></tr><tr><td>2016-04-08</td><td>13</td></tr><tr><td>2016-12-25</td><td>163</td></tr><tr><td>2016-11-21</td><td>147</td></tr><tr><td>2016-12-31</td><td>195</td></tr><tr><td>2016-09-25</td><td>100</td></tr><tr><td>2016-03-19</td><td>11</td></tr><tr><td>2016-08-30</td><td>131</td></tr><tr><td>2016-10-29</td><td>109</td></tr><tr><td>2016-04-02</td><td>13</td></tr><tr><td>2016-08-07</td><td>140</td></tr><tr><td>2016-11-06</td><td>125</td></tr><tr><td>2016-10-26</td><td>154</td></tr><tr><td>2016-03-31</td><td>10</td></tr><tr><td>2016-09-02</td><td>140</td></tr><tr><td>2016-02-18</td><td>13</td></tr><tr><td>2016-07-10</td><td>34</td></tr><tr><td>2016-07-16</td><td>40</td></tr><tr><td>2016-12-30</td><td>158</td></tr><tr><td>2016-05-12</td><td>13</td></tr><tr><td>2016-12-17</td><td>165</td></tr><tr><td>2016-07-24</td><td>85</td></tr><tr><td>2016-02-28</td><td>8</td></tr><tr><td>2016-12-02</td><td>172</td></tr><tr><td>2016-01-24</td><td>7</td></tr><tr><td>2016-08-27</td><td>112</td></tr><tr><td>2016-10-09</td><td>142</td></tr><tr><td>2016-05-01</td><td>13</td></tr><tr><td>2016-08-18</td><td>137</td></tr><tr><td>2016-11-07</td><td>153</td></tr><tr><td>2016-12-18</td><td>182</td></tr><tr><td>2016-02-12</td><td>10</td></tr><tr><td>2016-04-20</td><td>9</td></tr><tr><td>2016-09-16</td><td>102</td></tr><tr><td>2016-11-04</td><td>136</td></tr><tr><td>2016-12-29</td><td>181</td></tr><tr><td>2016-03-02</td><td>10</td></tr><tr><td>2016-08-04</td><td>99</td></tr><tr><td>2016-12-27</td><td>131</td></tr><tr><td>2016-06-05</td><td>7</td></tr><tr><td>2016-06-14</td><td>11</td></tr><tr><td>2016-12-05</td><td>167</td></tr><tr><td>2016-04-13</td><td>18</td></tr><tr><td>2016-09-13</td><td>168</td></tr><tr><td>2016-10-14</td><td>143</td></tr><tr><td>2016-04-09</td><td>10</td></tr><tr><td>2016-07-29</td><td>64</td></tr><tr><td>2016-08-21</td><td>115</td></tr><tr><td>2016-08-22</td><td>62</td></tr><tr><td>2016-09-24</td><td>107</td></tr><tr><td>2016-05-02</td><td>11</td></tr><tr><td>2016-07-08</td><td>38</td></tr><tr><td>2016-08-29</td><td>147</td></tr><tr><td>2016-01-03</td><td>7</td></tr><tr><td>2016-07-04</td><td>58</td></tr><tr><td>2016-10-11</td><td>117</td></tr><tr><td>2016-03-24</td><td>5</td></tr><tr><td>2016-08-14</td><td>128</td></tr><tr><td>2016-11-23</td><td>116</td></tr><tr><td>2016-07-12</td><td>47</td></tr><tr><td>2016-12-11</td><td>178</td></tr><tr><td>2016-01-21</td><td>7</td></tr><tr><td>2016-04-17</td><td>16</td></tr><tr><td>2016-07-30</td><td>31</td></tr><tr><td>2016-03-04</td><td>6</td></tr><tr><td>2016-08-08</td><td>180</td></tr><tr><td>2016-01-27</td><td>3</td></tr><tr><td>2016-11-18</td><td>161</td></tr><tr><td>2016-04-01</td><td>11</td></tr><tr><td>2016-07-14</td><td>39</td></tr><tr><td>2016-11-01</td><td>119</td></tr><tr><td>2016-01-14</td><td>6</td></tr><tr><td>2016-06-18</td><td>8</td></tr><tr><td>2016-08-09</td><td>124</td></tr><tr><td>2016-03-21</td><td>5</td></tr><tr><td>2016-05-15</td><td>8</td></tr><tr><td>2016-06-10</td><td>14</td></tr><tr><td>2016-10-12</td><td>121</td></tr><tr><td>2016-02-19</td><td>10</td></tr><tr><td>2016-02-21</td><td>13</td></tr><tr><td>2016-03-26</td><td>8</td></tr><tr><td>2016-04-07</td><td>11</td></tr><tr><td>2016-11-28</td><td>153</td></tr><tr><td>2016-05-16</td><td>8</td></tr><tr><td>2016-11-17</td><td>139</td></tr><tr><td>2016-09-03</td><td>115</td></tr><tr><td>2016-10-16</td><td>89</td></tr><tr><td>2016-05-14</td><td>12</td></tr><tr><td>2016-06-23</td><td>9</td></tr><tr><td>2016-10-22</td><td>161</td></tr><tr><td>2016-08-02</td><td>104</td></tr><tr><td>2016-12-04</td><td>166</td></tr><tr><td>2016-02-13</td><td>10</td></tr><tr><td>2016-04-12</td><td>7</td></tr><tr><td>2016-07-27</td><td>40</td></tr><tr><td>2016-02-26</td><td>7</td></tr><tr><td>2016-05-10</td><td>6</td></tr><tr><td>2016-09-17</td><td>129</td></tr><tr><td>2016-05-17</td><td>8</td></tr><tr><td>2016-11-27</td><td>152</td></tr><tr><td>2016-04-03</td><td>5</td></tr><tr><td>2016-10-13</td><td>118</td></tr><tr><td>2016-02-02</td><td>10</td></tr><tr><td>2016-11-26</td><td>136</td></tr><tr><td>2016-12-06</td><td>193</td></tr><tr><td>2016-03-10</td><td>5</td></tr><tr><td>2016-06-24</td><td>10</td></tr><tr><td>2016-11-02</td><td>126</td></tr><tr><td>2016-12-14</td><td>150</td></tr><tr><td>2016-02-07</td><td>8</td></tr><tr><td>2016-09-19</td><td>170</td></tr><tr><td>2016-08-11</td><td>91</td></tr><tr><td>2016-10-10</td><td>129</td></tr><tr><td>2016-01-17</td><td>7</td></tr><tr><td>2016-10-19</td><td>112</td></tr><tr><td>2016-01-12</td><td>7</td></tr><tr><td>2016-06-09</td><td>6</td></tr><tr><td>2016-07-11</td><td>69</td></tr><tr><td>2016-11-10</td><td>140</td></tr><tr><td>2016-01-08</td><td>10</td></tr><tr><td>2016-05-04</td><td>9</td></tr><tr><td>2016-02-17</td><td>12</td></tr><tr><td>2016-02-23</td><td>3</td></tr><tr><td>2016-07-18</td><td>21</td></tr><tr><td>2016-11-05</td><td>119</td></tr><tr><td>2016-12-10</td><td>122</td></tr><tr><td>2016-09-10</td><td>118</td></tr><tr><td>2016-03-28</td><td>13</td></tr><tr><td>2016-05-30</td><td>15</td></tr><tr><td>2016-11-29</td><td>160</td></tr><tr><td>2016-04-15</td><td>9</td></tr><tr><td>2016-04-28</td><td>8</td></tr><tr><td>2016-12-09</td><td>148</td></tr><tr><td>2016-01-30</td><td>6</td></tr><tr><td>2016-03-15</td><td>5</td></tr><tr><td>2016-04-24</td><td>14</td></tr><tr><td>2016-04-23</td><td>6</td></tr><tr><td>2016-03-08</td><td>14</td></tr><tr><td>2016-06-26</td><td>8</td></tr><tr><td>2016-12-16</td><td>130</td></tr><tr><td>2016-03-06</td><td>6</td></tr><tr><td>2016-05-19</td><td>7</td></tr><tr><td>2016-07-07</td><td>45</td></tr><tr><td>2016-01-22</td><td>10</td></tr><tr><td>2016-02-10</td><td>5</td></tr><tr><td>2016-02-24</td><td>11</td></tr><tr><td>2016-07-01</td><td>35</td></tr><tr><td>2016-07-23</td><td>34</td></tr><tr><td>2016-01-02</td><td>12</td></tr><tr><td>2016-09-06</td><td>106</td></tr><tr><td>2016-01-31</td><td>8</td></tr><tr><td>2016-03-17</td><td>8</td></tr><tr><td>2016-04-05</td><td>10</td></tr><tr><td>2016-08-17</td><td>124</td></tr><tr><td>2016-02-05</td><td>8</td></tr><tr><td>2016-06-21</td><td>15</td></tr><tr><td>2016-08-24</td><td>166</td></tr><tr><td>2016-09-21</td><td>133</td></tr><tr><td>2016-10-08</td><td>180</td></tr><tr><td>2016-04-06</td><td>5</td></tr><tr><td>2016-05-24</td><td>15</td></tr><tr><td>2016-03-30</td><td>10</td></tr><tr><td>2016-10-28</td><td>119</td></tr><tr><td>2016-12-08</td><td>162</td></tr><tr><td>2016-06-03</td><td>8</td></tr><tr><td>2016-06-30</td><td>10</td></tr><tr><td>2016-07-06</td><td>24</td></tr><tr><td>2016-07-20</td><td>72</td></tr><tr><td>2016-03-13</td><td>6</td></tr><tr><td>2016-03-05</td><td>17</td></tr><tr><td>2016-03-07</td><td>9</td></tr><tr><td>2016-06-28</td><td>13</td></tr><tr><td>2016-12-24</td><td>170</td></tr><tr><td>2016-01-23</td><td>14</td></tr><tr><td>2016-10-05</td><td>148</td></tr><tr><td>2016-02-06</td><td>14</td></tr><tr><td>2016-03-12</td><td>19</td></tr><tr><td>2016-01-04</td><td>8</td></tr><tr><td>2016-05-20</td><td>9</td></tr><tr><td>2016-06-12</td><td>11</td></tr><tr><td>2016-07-05</td><td>39</td></tr><tr><td>2016-10-31</td><td>118</td></tr><tr><td>2016-11-13</td><td>136</td></tr><tr><td>2016-12-28</td><td>161</td></tr><tr><td>2016-02-14</td><td>10</td></tr><tr><td>2016-05-29</td><td>8</td></tr><tr><td>2016-11-12</td><td>132</td></tr><tr><td>2016-06-11</td><td>10</td></tr><tr><td>2016-09-28</td><td>121</td></tr><tr><td>2016-05-25</td><td>7</td></tr><tr><td>2016-01-15</td><td>10</td></tr><tr><td>2016-01-25</td><td>4</td></tr><tr><td>2016-12-01</td><td>167</td></tr><tr><td>2016-02-20</td><td>10</td></tr><tr><td>2016-06-25</td><td>9</td></tr><tr><td>2016-10-04</td><td>112</td></tr><tr><td>2016-02-01</td><td>10</td></tr><tr><td>2016-11-20</td><td>87</td></tr><tr><td>2016-01-16</td><td>11</td></tr><tr><td>2016-07-22</td><td>45</td></tr><tr><td>2016-11-11</td><td>85</td></tr><tr><td>2016-04-21</td><td>5</td></tr><tr><td>2016-08-25</td><td>152</td></tr><tr><td>2016-01-10</td><td>10</td></tr><tr><td>2016-03-09</td><td>5</td></tr><tr><td>2016-01-18</td><td>7</td></tr><tr><td>2016-05-22</td><td>12</td></tr><tr><td>2016-07-28</td><td>39</td></tr><tr><td>2016-09-20</td><td>136</td></tr><tr><td>2016-09-29</td><td>81</td></tr><tr><td>2016-02-16</td><td>4</td></tr><tr><td>2016-02-27</td><td>3</td></tr><tr><td>2016-01-07</td><td>9</td></tr><tr><td>2016-10-18</td><td>140</td></tr><tr><td>2016-10-25</td><td>124</td></tr><tr><td>2016-01-09</td><td>9</td></tr><tr><td>2016-04-10</td><td>6</td></tr><tr><td>2016-09-07</td><td>137</td></tr><tr><td>2016-10-01</td><td>127</td></tr><tr><td>2016-12-23</td><td>159</td></tr><tr><td>2016-05-18</td><td>2</td></tr><tr><td>2016-06-01</td><td>15</td></tr><tr><td>2016-06-04</td><td>8</td></tr><tr><td>2016-06-20</td><td>10</td></tr><tr><td>2016-09-04</td><td>136</td></tr><tr><td>2016-10-15</td><td>158</td></tr><tr><td>2016-12-26</td><td>175</td></tr><tr><td>2016-04-27</td><td>10</td></tr><tr><td>2016-07-25</td><td>39</td></tr><tr><td>2016-11-03</td><td>172</td></tr><tr><td>2016-05-06</td><td>15</td></tr><tr><td>2016-06-07</td><td>11</td></tr><tr><td>2016-08-28</td><td>122</td></tr><tr><td>2016-09-11</td><td>87</td></tr><tr><td>2016-03-18</td><td>15</td></tr><tr><td>2016-12-07</td><td>237</td></tr><tr><td>2016-07-09</td><td>58</td></tr><tr><td>2016-11-09</td><td>125</td></tr><tr><td>2016-03-29</td><td>10</td></tr><tr><td>2016-03-23</td><td>6</td></tr><tr><td>2016-06-06</td><td>11</td></tr><tr><td>2016-07-15</td><td>59</td></tr><tr><td>2016-11-22</td><td>170</td></tr><tr><td>2016-10-02</td><td>157</td></tr><tr><td>2016-11-16</td><td>117</td></tr><tr><td>2015-03-09</td><td>6</td></tr><tr><td>2015-05-19</td><td>6</td></tr><tr><td>2015-03-06</td><td>9</td></tr><tr><td>2015-04-09</td><td>5</td></tr><tr><td>2015-09-02</td><td>7</td></tr><tr><td>2015-12-22</td><td>12</td></tr><tr><td>2015-05-10</td><td>3</td></tr><tr><td>2015-09-28</td><td>2</td></tr><tr><td>2015-03-12</td><td>5</td></tr><tr><td>2015-03-16</td><td>5</td></tr><tr><td>2015-04-01</td><td>5</td></tr><tr><td>2015-04-24</td><td>3</td></tr><tr><td>2015-03-11</td><td>6</td></tr><tr><td>2015-06-15</td><td>6</td></tr><tr><td>2015-10-16</td><td>9</td></tr><tr><td>2015-11-02</td><td>4</td></tr><tr><td>2015-11-27</td><td>14</td></tr><tr><td>2015-12-31</td><td>7</td></tr><tr><td>2015-08-01</td><td>9</td></tr><tr><td>2015-04-19</td><td>4</td></tr><tr><td>2015-10-30</td><td>12</td></tr><tr><td>2015-12-29</td><td>14</td></tr><tr><td>2015-06-19</td><td>13</td></tr><tr><td>2015-10-13</td><td>13</td></tr><tr><td>2015-04-07</td><td>9</td></tr><tr><td>2015-08-24</td><td>10</td></tr><tr><td>2015-09-29</td><td>7</td></tr><tr><td>2015-01-20</td><td>6</td></tr><tr><td>2015-09-06</td><td>4</td></tr><tr><td>2015-09-21</td><td>5</td></tr><tr><td>2015-12-05</td><td>13</td></tr><tr><td>2015-04-28</td><td>7</td></tr><tr><td>2015-06-22</td><td>5</td></tr><tr><td>2015-11-21</td><td>7</td></tr><tr><td>2015-05-16</td><td>11</td></tr><tr><td>2015-12-30</td><td>7</td></tr><tr><td>2015-09-20</td><td>7</td></tr><tr><td>2015-02-25</td><td>5</td></tr><tr><td>2015-03-21</td><td>4</td></tr><tr><td>2015-09-15</td><td>4</td></tr><tr><td>2015-11-30</td><td>9</td></tr><tr><td>2015-02-03</td><td>7</td></tr><tr><td>2015-02-09</td><td>2</td></tr><tr><td>2015-02-17</td><td>4</td></tr><tr><td>2015-09-04</td><td>6</td></tr><tr><td>2015-05-25</td><td>9</td></tr><tr><td>2015-09-17</td><td>5</td></tr><tr><td>2015-02-04</td><td>7</td></tr><tr><td>2015-06-23</td><td>15</td></tr><tr><td>2015-02-07</td><td>6</td></tr><tr><td>2015-05-06</td><td>8</td></tr><tr><td>2015-02-01</td><td>5</td></tr><tr><td>2015-12-06</td><td>5</td></tr><tr><td>2015-07-21</td><td>10</td></tr><tr><td>2015-08-10</td><td>4</td></tr><tr><td>2015-09-10</td><td>9</td></tr><tr><td>2015-10-24</td><td>9</td></tr><tr><td>2015-02-10</td><td>9</td></tr><tr><td>2015-03-22</td><td>6</td></tr><tr><td>2015-04-18</td><td>7</td></tr><tr><td>2015-01-24</td><td>8</td></tr><tr><td>2015-04-08</td><td>3</td></tr><tr><td>2015-05-03</td><td>4</td></tr><tr><td>2015-09-07</td><td>2</td></tr><tr><td>2015-09-09</td><td>9</td></tr><tr><td>2015-11-15</td><td>2</td></tr><tr><td>2015-05-18</td><td>8</td></tr><tr><td>2015-06-05</td><td>6</td></tr><tr><td>2015-06-09</td><td>5</td></tr><tr><td>2015-12-17</td><td>11</td></tr><tr><td>2015-06-24</td><td>7</td></tr><tr><td>2015-07-06</td><td>10</td></tr><tr><td>2015-01-23</td><td>3</td></tr><tr><td>2015-08-21</td><td>10</td></tr><tr><td>2015-07-27</td><td>10</td></tr><tr><td>2015-05-23</td><td>7</td></tr><tr><td>2015-07-24</td><td>5</td></tr><tr><td>2015-08-02</td><td>8</td></tr><tr><td>2015-12-11</td><td>13</td></tr><tr><td>2015-04-22</td><td>4</td></tr><tr><td>2015-06-27</td><td>9</td></tr><tr><td>2015-11-17</td><td>6</td></tr><tr><td>2015-06-11</td><td>5</td></tr><tr><td>2015-11-06</td><td>8</td></tr><tr><td>2015-03-19</td><td>4</td></tr><tr><td>2015-08-17</td><td>10</td></tr><tr><td>2015-03-13</td><td>10</td></tr><tr><td>2015-05-21</td><td>6</td></tr><tr><td>2015-06-01</td><td>4</td></tr><tr><td>2015-11-08</td><td>7</td></tr><tr><td>2015-04-11</td><td>6</td></tr><tr><td>2015-11-28</td><td>6</td></tr><tr><td>2015-01-11</td><td>9</td></tr><tr><td>2015-09-16</td><td>5</td></tr><tr><td>2015-10-08</td><td>7</td></tr><tr><td>2015-10-28</td><td>6</td></tr><tr><td>2015-04-15</td><td>13</td></tr><tr><td>2015-08-08</td><td>8</td></tr><tr><td>2015-04-27</td><td>9</td></tr><tr><td>2015-04-16</td><td>7</td></tr><tr><td>2015-10-11</td><td>7</td></tr><tr><td>2015-08-19</td><td>11</td></tr><tr><td>2015-10-25</td><td>7</td></tr><tr><td>2015-11-07</td><td>5</td></tr><tr><td>2015-09-19</td><td>9</td></tr><tr><td>2015-11-25</td><td>8</td></tr><tr><td>2015-06-26</td><td>7</td></tr><tr><td>2015-07-12</td><td>7</td></tr><tr><td>2015-07-11</td><td>12</td></tr><tr><td>2015-10-12</td><td>11</td></tr><tr><td>2015-01-10</td><td>4</td></tr><tr><td>2015-01-22</td><td>9</td></tr><tr><td>2015-10-18</td><td>7</td></tr><tr><td>2015-11-22</td><td>4</td></tr><tr><td>2015-12-01</td><td>11</td></tr><tr><td>2015-03-15</td><td>10</td></tr><tr><td>2015-07-29</td><td>6</td></tr><tr><td>2015-12-08</td><td>11</td></tr><tr><td>2015-04-14</td><td>3</td></tr><tr><td>2015-01-29</td><td>4</td></tr><tr><td>2015-03-18</td><td>8</td></tr><tr><td>2015-04-29</td><td>11</td></tr><tr><td>2015-01-08</td><td>8</td></tr><tr><td>2015-01-26</td><td>4</td></tr><tr><td>2015-06-06</td><td>7</td></tr><tr><td>2015-03-01</td><td>6</td></tr><tr><td>2015-08-06</td><td>12</td></tr><tr><td>2015-12-12</td><td>17</td></tr><tr><td>2015-08-31</td><td>12</td></tr><tr><td>2015-07-10</td><td>7</td></tr><tr><td>2015-01-17</td><td>8</td></tr><tr><td>2015-07-18</td><td>7</td></tr><tr><td>2015-12-02</td><td>9</td></tr><tr><td>2015-04-20</td><td>11</td></tr><tr><td>2015-10-20</td><td>9</td></tr><tr><td>2015-12-26</td><td>8</td></tr><tr><td>2015-12-27</td><td>9</td></tr><tr><td>2015-05-09</td><td>6</td></tr><tr><td>2015-01-15</td><td>7</td></tr><tr><td>2015-07-15</td><td>4</td></tr><tr><td>2015-12-15</td><td>5</td></tr><tr><td>2015-01-25</td><td>4</td></tr><tr><td>2015-05-29</td><td>1</td></tr><tr><td>2015-11-04</td><td>1</td></tr><tr><td>2015-11-26</td><td>6</td></tr><tr><td>2015-12-04</td><td>3</td></tr><tr><td>2015-12-23</td><td>12</td></tr><tr><td>2015-02-11</td><td>12</td></tr><tr><td>2015-12-07</td><td>17</td></tr><tr><td>2015-01-14</td><td>9</td></tr><tr><td>2015-12-10</td><td>9</td></tr><tr><td>2015-05-11</td><td>4</td></tr><tr><td>2015-02-28</td><td>5</td></tr><tr><td>2015-03-05</td><td>3</td></tr><tr><td>2015-03-28</td><td>8</td></tr><tr><td>2015-10-07</td><td>6</td></tr><tr><td>2015-07-30</td><td>10</td></tr><tr><td>2015-04-23</td><td>10</td></tr><tr><td>2015-07-13</td><td>12</td></tr><tr><td>2015-08-30</td><td>8</td></tr><tr><td>2015-05-05</td><td>3</td></tr><tr><td>2015-09-22</td><td>5</td></tr><tr><td>2015-10-14</td><td>6</td></tr><tr><td>2015-02-20</td><td>5</td></tr><tr><td>2015-06-20</td><td>7</td></tr><tr><td>2015-07-01</td><td>8</td></tr><tr><td>2015-10-03</td><td>7</td></tr><tr><td>2015-12-24</td><td>12</td></tr><tr><td>2015-01-30</td><td>10</td></tr><tr><td>2015-02-14</td><td>8</td></tr><tr><td>2015-04-02</td><td>3</td></tr><tr><td>2015-06-25</td><td>4</td></tr><tr><td>2015-04-25</td><td>8</td></tr><tr><td>2015-07-08</td><td>6</td></tr><tr><td>2015-12-25</td><td>8</td></tr><tr><td>2015-05-14</td><td>6</td></tr><tr><td>2015-08-14</td><td>10</td></tr><tr><td>2015-01-03</td><td>8</td></tr><tr><td>2015-01-06</td><td>6</td></tr><tr><td>2015-10-27</td><td>3</td></tr><tr><td>2015-12-19</td><td>14</td></tr><tr><td>2015-03-24</td><td>12</td></tr><tr><td>2015-04-13</td><td>4</td></tr><tr><td>2015-02-24</td><td>9</td></tr><tr><td>2015-05-22</td><td>5</td></tr><tr><td>2015-07-17</td><td>11</td></tr><tr><td>2015-07-31</td><td>9</td></tr><tr><td>2015-09-03</td><td>8</td></tr><tr><td>2015-08-16</td><td>5</td></tr><tr><td>2015-09-12</td><td>7</td></tr><tr><td>2015-11-11</td><td>11</td></tr><tr><td>2015-04-06</td><td>5</td></tr><tr><td>2015-05-13</td><td>13</td></tr><tr><td>2015-09-05</td><td>3</td></tr><tr><td>2015-10-26</td><td>9</td></tr><tr><td>2015-06-17</td><td>6</td></tr><tr><td>2015-08-03</td><td>5</td></tr><tr><td>2015-08-20</td><td>12</td></tr><tr><td>2015-09-23</td><td>7</td></tr><tr><td>2015-03-02</td><td>7</td></tr><tr><td>2015-08-27</td><td>11</td></tr><tr><td>2015-09-14</td><td>9</td></tr><tr><td>2015-12-20</td><td>14</td></tr><tr><td>2015-08-22</td><td>10</td></tr><tr><td>2015-10-17</td><td>6</td></tr><tr><td>2015-04-03</td><td>9</td></tr><tr><td>2015-09-26</td><td>10</td></tr><tr><td>2015-10-21</td><td>9</td></tr><tr><td>2015-11-19</td><td>4</td></tr><tr><td>2015-10-01</td><td>8</td></tr><tr><td>2015-10-02</td><td>8</td></tr><tr><td>2015-05-12</td><td>8</td></tr><tr><td>2015-07-23</td><td>7</td></tr><tr><td>2015-05-02</td><td>5</td></tr><tr><td>2015-07-20</td><td>9</td></tr><tr><td>2015-12-14</td><td>16</td></tr><tr><td>2015-03-04</td><td>8</td></tr><tr><td>2015-03-23</td><td>5</td></tr><tr><td>2015-04-17</td><td>9</td></tr><tr><td>2015-08-09</td><td>8</td></tr><tr><td>2015-10-19</td><td>10</td></tr><tr><td>2015-12-09</td><td>7</td></tr><tr><td>2015-02-23</td><td>5</td></tr><tr><td>2015-03-14</td><td>4</td></tr><tr><td>2015-11-03</td><td>6</td></tr><tr><td>2015-06-04</td><td>6</td></tr><tr><td>2015-02-27</td><td>3</td></tr><tr><td>2015-07-28</td><td>5</td></tr><tr><td>2015-06-28</td><td>5</td></tr><tr><td>2015-02-13</td><td>6</td></tr><tr><td>2015-03-17</td><td>9</td></tr><tr><td>2015-04-12</td><td>11</td></tr><tr><td>2015-10-09</td><td>3</td></tr><tr><td>2015-06-03</td><td>3</td></tr><tr><td>2015-02-26</td><td>11</td></tr><tr><td>2015-06-07</td><td>8</td></tr><tr><td>2015-07-22</td><td>7</td></tr><tr><td>2015-09-24</td><td>9</td></tr><tr><td>2015-11-20</td><td>9</td></tr><tr><td>2015-03-26</td><td>9</td></tr><tr><td>2015-10-22</td><td>7</td></tr><tr><td>2015-05-24</td><td>8</td></tr><tr><td>2015-01-05</td><td>3</td></tr><tr><td>2015-06-21</td><td>9</td></tr><tr><td>2015-07-04</td><td>9</td></tr><tr><td>2015-07-26</td><td>5</td></tr><tr><td>2015-12-16</td><td>11</td></tr><tr><td>2015-05-28</td><td>5</td></tr><tr><td>2015-08-26</td><td>13</td></tr><tr><td>2015-02-19</td><td>5</td></tr><tr><td>2015-08-12</td><td>9</td></tr><tr><td>2015-02-02</td><td>6</td></tr><tr><td>2015-01-04</td><td>5</td></tr><tr><td>2015-09-13</td><td>11</td></tr><tr><td>2015-11-10</td><td>7</td></tr><tr><td>2015-04-26</td><td>4</td></tr><tr><td>2015-02-06</td><td>10</td></tr><tr><td>2015-09-30</td><td>9</td></tr><tr><td>2015-04-30</td><td>13</td></tr><tr><td>2015-10-29</td><td>6</td></tr><tr><td>2015-01-16</td><td>7</td></tr><tr><td>2015-03-20</td><td>9</td></tr><tr><td>2015-05-31</td><td>3</td></tr><tr><td>2015-07-09</td><td>5</td></tr><tr><td>2015-08-13</td><td>12</td></tr><tr><td>2015-02-15</td><td>6</td></tr><tr><td>2015-09-01</td><td>2</td></tr><tr><td>2015-09-27</td><td>3</td></tr><tr><td>2015-10-04</td><td>6</td></tr><tr><td>2015-10-31</td><td>5</td></tr><tr><td>2015-01-19</td><td>6</td></tr><tr><td>2015-11-13</td><td>4</td></tr><tr><td>2015-03-08</td><td>4</td></tr><tr><td>2015-09-08</td><td>9</td></tr><tr><td>2015-04-21</td><td>5</td></tr><tr><td>2015-06-30</td><td>6</td></tr><tr><td>2015-07-02</td><td>3</td></tr><tr><td>2015-08-07</td><td>11</td></tr><tr><td>2015-02-05</td><td>6</td></tr><tr><td>2015-02-16</td><td>3</td></tr><tr><td>2015-05-01</td><td>12</td></tr><tr><td>2015-07-16</td><td>6</td></tr><tr><td>2015-01-02</td><td>4</td></tr><tr><td>2015-01-21</td><td>7</td></tr><tr><td>2015-04-10</td><td>5</td></tr><tr><td>2015-10-23</td><td>7</td></tr><tr><td>2015-02-18</td><td>2</td></tr><tr><td>2015-06-13</td><td>4</td></tr><tr><td>2015-12-13</td><td>12</td></tr><tr><td>2015-01-13</td><td>3</td></tr><tr><td>2015-01-12</td><td>7</td></tr><tr><td>2015-11-29</td><td>6</td></tr><tr><td>2015-03-07</td><td>9</td></tr><tr><td>2015-07-19</td><td>7</td></tr><tr><td>2015-11-18</td><td>7</td></tr><tr><td>2015-05-26</td><td>5</td></tr><tr><td>2015-08-11</td><td>5</td></tr><tr><td>2015-12-21</td><td>3</td></tr><tr><td>2015-12-03</td><td>16</td></tr><tr><td>2015-06-12</td><td>12</td></tr><tr><td>2015-03-10</td><td>2</td></tr><tr><td>2015-07-25</td><td>9</td></tr><tr><td>2015-05-15</td><td>7</td></tr><tr><td>2015-10-05</td><td>3</td></tr><tr><td>2015-03-27</td><td>3</td></tr><tr><td>2015-05-04</td><td>11</td></tr><tr><td>2015-11-24</td><td>10</td></tr><tr><td>2015-07-14</td><td>9</td></tr><tr><td>2015-10-10</td><td>4</td></tr><tr><td>2015-02-12</td><td>3</td></tr><tr><td>2015-07-03</td><td>13</td></tr><tr><td>2015-09-11</td><td>8</td></tr><tr><td>2015-12-28</td><td>10</td></tr><tr><td>2015-02-22</td><td>10</td></tr><tr><td>2015-05-20</td><td>6</td></tr><tr><td>2015-08-04</td><td>8</td></tr><tr><td>2015-01-28</td><td>5</td></tr><tr><td>2015-03-31</td><td>4</td></tr><tr><td>2015-05-27</td><td>5</td></tr><tr><td>2015-08-05</td><td>7</td></tr><tr><td>2015-08-25</td><td>11</td></tr><tr><td>2015-06-14</td><td>4</td></tr><tr><td>2015-01-01</td><td>4</td></tr><tr><td>2015-02-21</td><td>1</td></tr><tr><td>2015-03-25</td><td>5</td></tr><tr><td>2015-01-18</td><td>6</td></tr><tr><td>2015-03-30</td><td>4</td></tr><tr><td>2015-07-05</td><td>10</td></tr><tr><td>2015-11-09</td><td>4</td></tr><tr><td>2015-03-29</td><td>6</td></tr><tr><td>2015-08-18</td><td>8</td></tr><tr><td>2015-01-09</td><td>4</td></tr><tr><td>2015-08-28</td><td>8</td></tr><tr><td>2015-01-27</td><td>5</td></tr><tr><td>2015-02-08</td><td>4</td></tr><tr><td>2015-05-08</td><td>10</td></tr><tr><td>2015-06-08</td><td>8</td></tr><tr><td>2015-12-18</td><td>10</td></tr><tr><td>2015-04-05</td><td>4</td></tr><tr><td>2015-06-16</td><td>2</td></tr><tr><td>2015-08-29</td><td>6</td></tr><tr><td>2015-08-23</td><td>5</td></tr><tr><td>2015-06-29</td><td>8</td></tr><tr><td>2015-11-01</td><td>6</td></tr><tr><td>2015-04-04</td><td>7</td></tr><tr><td>2015-06-02</td><td>12</td></tr><tr><td>2015-09-18</td><td>9</td></tr><tr><td>2015-10-15</td><td>6</td></tr><tr><td>2015-01-07</td><td>4</td></tr><tr><td>2015-03-03</td><td>8</td></tr><tr><td>2015-05-30</td><td>7</td></tr><tr><td>2015-09-25</td><td>6</td></tr><tr><td>2015-11-23</td><td>5</td></tr><tr><td>2015-05-07</td><td>5</td></tr><tr><td>2015-11-12</td><td>6</td></tr><tr><td>2015-11-14</td><td>5</td></tr><tr><td>2015-11-16</td><td>8</td></tr><tr><td>2015-06-18</td><td>11</td></tr><tr><td>2015-07-07</td><td>9</td></tr><tr><td>2015-01-31</td><td>7</td></tr><tr><td>2015-08-15</td><td>12</td></tr><tr><td>2015-10-06</td><td>7</td></tr><tr><td>2015-11-05</td><td>6</td></tr><tr><td>2015-05-17</td><td>9</td></tr><tr><td>2015-06-10</td><td>8</td></tr></tbody></table></div>"
      ]
     },
     "metadata": {
      "application/vnd.databricks.v1+output": {
       "addedWidgets": {},
       "aggData": [],
       "aggError": "",
       "aggOverflow": false,
       "aggSchema": [],
       "aggSeriesLimitReached": false,
       "aggType": "",
       "arguments": {},
       "columnCustomDisplayInfos": {},
       "data": [
        [
         "2017-01-06",
         151
        ],
        [
         "2017-01-27",
         142
        ],
        [
         "2017-02-26",
         119
        ],
        [
         "2017-01-24",
         173
        ],
        [
         "2017-06-29",
         172
        ],
        [
         "2017-02-16",
         124
        ],
        [
         "2017-04-09",
         140
        ],
        [
         "2017-02-28",
         162
        ],
        [
         "2017-03-28",
         149
        ],
        [
         "2017-06-30",
         136
        ],
        [
         "2017-01-30",
         145
        ],
        [
         "2017-05-11",
         164
        ],
        [
         "2017-02-10",
         168
        ],
        [
         "2017-04-25",
         176
        ],
        [
         "2017-03-19",
         152
        ],
        [
         "2017-05-26",
         175
        ],
        [
         "2017-01-04",
         138
        ],
        [
         "2017-06-28",
         215
        ],
        [
         "2017-04-03",
         246
        ],
        [
         "2017-06-14",
         258
        ],
        [
         "2017-04-29",
         163
        ],
        [
         "2017-02-07",
         161
        ],
        [
         "2017-01-10",
         192
        ],
        [
         "2017-03-17",
         138
        ],
        [
         "2017-05-10",
         150
        ],
        [
         "2017-01-21",
         131
        ],
        [
         "2017-05-09",
         191
        ],
        [
         "2017-04-07",
         160
        ],
        [
         "2017-06-08",
         171
        ],
        [
         "2017-01-05",
         141
        ],
        [
         "2017-06-01",
         122
        ],
        [
         "2017-04-02",
         168
        ],
        [
         "2017-06-09",
         182
        ],
        [
         "2017-04-11",
         137
        ],
        [
         "2017-04-12",
         156
        ],
        [
         "2017-01-13",
         123
        ],
        [
         "2017-02-08",
         164
        ],
        [
         "2017-03-13",
         191
        ],
        [
         "2017-04-05",
         122
        ],
        [
         "2017-04-20",
         165
        ],
        [
         "2017-06-15",
         195
        ],
        [
         "2017-02-25",
         103
        ],
        [
         "2017-05-21",
         185
        ],
        [
         "2017-03-16",
         107
        ],
        [
         "2017-04-27",
         176
        ],
        [
         "2017-05-27",
         148
        ],
        [
         "2017-02-01",
         179
        ],
        [
         "2017-01-26",
         156
        ],
        [
         "2017-01-01",
         98
        ],
        [
         "2017-06-19",
         194
        ],
        [
         "2017-04-18",
         186
        ],
        [
         "2017-01-20",
         195
        ],
        [
         "2017-06-13",
         151
        ],
        [
         "2017-06-25",
         189
        ],
        [
         "2017-03-05",
         146
        ],
        [
         "2017-03-21",
         177
        ],
        [
         "2017-06-07",
         222
        ],
        [
         "2017-06-02",
         137
        ],
        [
         "2017-03-24",
         158
        ],
        [
         "2017-04-30",
         169
        ],
        [
         "2017-01-11",
         162
        ],
        [
         "2017-02-12",
         163
        ],
        [
         "2017-01-17",
         123
        ],
        [
         "2017-02-24",
         152
        ],
        [
         "2017-06-18",
         163
        ],
        [
         "2017-05-28",
         170
        ],
        [
         "2017-05-05",
         204
        ],
        [
         "2017-05-19",
         171
        ],
        [
         "2017-03-20",
         163
        ],
        [
         "2017-04-15",
         181
        ],
        [
         "2017-06-06",
         216
        ],
        [
         "2017-01-19",
         131
        ],
        [
         "2017-01-25",
         121
        ],
        [
         "2017-04-26",
         153
        ],
        [
         "2017-02-23",
         137
        ],
        [
         "2017-03-30",
         157
        ],
        [
         "2017-02-06",
         156
        ],
        [
         "2017-03-29",
         136
        ],
        [
         "2017-01-23",
         113
        ],
        [
         "2017-01-08",
         168
        ],
        [
         "2017-04-08",
         173
        ],
        [
         "2017-06-17",
         215
        ],
        [
         "2017-03-11",
         158
        ],
        [
         "2017-03-06",
         137
        ],
        [
         "2017-04-23",
         178
        ],
        [
         "2017-02-22",
         125
        ],
        [
         "2017-03-26",
         131
        ],
        [
         "2017-05-07",
         188
        ],
        [
         "2017-01-07",
         152
        ],
        [
         "2017-02-05",
         172
        ],
        [
         "2017-01-12",
         121
        ],
        [
         "2017-03-18",
         142
        ],
        [
         "2017-02-17",
         194
        ],
        [
         "2017-01-31",
         148
        ],
        [
         "2017-02-03",
         189
        ],
        [
         "2017-05-22",
         152
        ],
        [
         "2017-06-22",
         191
        ],
        [
         "2017-06-03",
         177
        ],
        [
         "2017-01-16",
         171
        ],
        [
         "2017-04-22",
         161
        ],
        [
         "2017-06-10",
         151
        ],
        [
         "2017-06-11",
         233
        ],
        [
         "2017-03-07",
         159
        ],
        [
         "2017-05-14",
         186
        ],
        [
         "2017-05-30",
         162
        ],
        [
         "2017-06-21",
         218
        ],
        [
         "2017-02-27",
         174
        ],
        [
         "2017-03-27",
         185
        ],
        [
         "2017-02-18",
         195
        ],
        [
         "2017-05-08",
         194
        ],
        [
         "2017-05-06",
         168
        ],
        [
         "2017-06-26",
         187
        ],
        [
         "2017-01-09",
         117
        ],
        [
         "2017-06-16",
         133
        ],
        [
         "2017-05-23",
         158
        ],
        [
         "2017-04-06",
         172
        ],
        [
         "2017-03-10",
         159
        ],
        [
         "2017-05-03",
         172
        ],
        [
         "2017-05-04",
         191
        ],
        [
         "2017-02-21",
         167
        ],
        [
         "2017-03-03",
         129
        ],
        [
         "2017-03-23",
         155
        ],
        [
         "2017-05-02",
         158
        ],
        [
         "2017-03-22",
         141
        ],
        [
         "2017-06-05",
         187
        ],
        [
         "2017-05-17",
         170
        ],
        [
         "2017-04-24",
         167
        ],
        [
         "2017-06-23",
         161
        ],
        [
         "2017-01-22",
         126
        ],
        [
         "2017-02-02",
         148
        ],
        [
         "2017-03-02",
         118
        ],
        [
         "2017-03-12",
         167
        ],
        [
         "2017-05-24",
         148
        ],
        [
         "2017-01-15",
         156
        ],
        [
         "2017-05-25",
         189
        ],
        [
         "2017-05-18",
         136
        ],
        [
         "2017-05-12",
         199
        ],
        [
         "2017-03-31",
         131
        ],
        [
         "2017-05-20",
         193
        ],
        [
         "2017-01-02",
         135
        ],
        [
         "2017-01-28",
         181
        ],
        [
         "2017-03-09",
         179
        ],
        [
         "2017-02-20",
         237
        ],
        [
         "2017-01-18",
         159
        ],
        [
         "2017-02-19",
         165
        ],
        [
         "2017-03-04",
         144
        ],
        [
         "2017-02-15",
         155
        ],
        [
         "2017-02-13",
         150
        ],
        [
         "2017-04-16",
         148
        ],
        [
         "2017-01-03",
         138
        ],
        [
         "2017-05-29",
         157
        ],
        [
         "2017-04-19",
         218
        ],
        [
         "2017-04-13",
         108
        ],
        [
         "2017-04-04",
         156
        ],
        [
         "2017-03-01",
         306
        ],
        [
         "2017-03-25",
         144
        ],
        [
         "2017-02-11",
         124
        ],
        [
         "2017-06-12",
         153
        ],
        [
         "2017-04-28",
         205
        ],
        [
         "2017-05-31",
         192
        ],
        [
         "2017-02-09",
         138
        ],
        [
         "2017-05-16",
         190
        ],
        [
         "2017-03-14",
         137
        ],
        [
         "2017-03-08",
         136
        ],
        [
         "2017-06-04",
         148
        ],
        [
         "2017-04-17",
         168
        ],
        [
         "2017-04-10",
         161
        ],
        [
         "2017-06-27",
         172
        ],
        [
         "2017-01-14",
         143
        ],
        [
         "2017-05-01",
         220
        ],
        [
         "2017-04-01",
         170
        ],
        [
         "2017-06-24",
         196
        ],
        [
         "2017-05-15",
         171
        ],
        [
         "2017-02-14",
         135
        ],
        [
         "2017-01-29",
         142
        ],
        [
         "2017-05-13",
         164
        ],
        [
         "2017-02-04",
         128
        ],
        [
         "2017-03-15",
         141
        ],
        [
         "2017-06-20",
         185
        ],
        [
         "2017-04-14",
         166
        ],
        [
         "2017-04-21",
         137
        ],
        [
         "2016-03-01",
         8
        ],
        [
         "2016-04-25",
         15
        ],
        [
         "2016-05-03",
         15
        ],
        [
         "2016-07-26",
         44
        ],
        [
         "2016-08-15",
         93
        ],
        [
         "2016-08-31",
         126
        ],
        [
         "2016-10-03",
         130
        ],
        [
         "2016-01-28",
         5
        ],
        [
         "2016-07-17",
         39
        ],
        [
         "2016-11-08",
         101
        ],
        [
         "2016-12-19",
         169
        ],
        [
         "2016-07-03",
         64
        ],
        [
         "2016-08-23",
         89
        ],
        [
         "2016-02-04",
         17
        ],
        [
         "2016-05-26",
         10
        ],
        [
         "2016-06-02",
         13
        ],
        [
         "2016-01-13",
         12
        ],
        [
         "2016-09-23",
         149
        ],
        [
         "2016-01-01",
         8
        ],
        [
         "2016-04-22",
         6
        ],
        [
         "2016-06-16",
         7
        ],
        [
         "2016-09-30",
         126
        ],
        [
         "2016-01-19",
         5
        ],
        [
         "2016-05-09",
         8
        ],
        [
         "2016-07-19",
         37
        ],
        [
         "2016-09-15",
         128
        ],
        [
         "2016-02-08",
         11
        ],
        [
         "2016-10-07",
         118
        ],
        [
         "2016-12-12",
         188
        ],
        [
         "2016-05-23",
         12
        ],
        [
         "2016-09-26",
         114
        ],
        [
         "2016-12-13",
         189
        ],
        [
         "2016-02-03",
         9
        ],
        [
         "2016-03-25",
         4
        ],
        [
         "2016-08-26",
         122
        ],
        [
         "2016-08-01",
         105
        ],
        [
         "2016-09-09",
         153
        ],
        [
         "2016-06-17",
         9
        ],
        [
         "2016-09-27",
         145
        ],
        [
         "2016-08-16",
         132
        ],
        [
         "2016-10-23",
         142
        ],
        [
         "2016-04-30",
         11
        ],
        [
         "2016-07-21",
         21
        ],
        [
         "2016-05-27",
         10
        ],
        [
         "2016-07-02",
         37
        ],
        [
         "2016-08-06",
         106
        ],
        [
         "2016-10-20",
         126
        ],
        [
         "2016-05-07",
         9
        ],
        [
         "2016-04-26",
         9
        ],
        [
         "2016-05-13",
         9
        ],
        [
         "2016-05-31",
         16
        ],
        [
         "2016-08-05",
         90
        ],
        [
         "2016-02-22",
         11
        ],
        [
         "2016-10-24",
         101
        ],
        [
         "2016-10-27",
         102
        ],
        [
         "2016-11-14",
         152
        ],
        [
         "2016-03-22",
         7
        ],
        [
         "2016-08-20",
         99
        ],
        [
         "2016-09-05",
         112
        ],
        [
         "2016-05-21",
         10
        ],
        [
         "2016-12-15",
         194
        ],
        [
         "2016-05-11",
         11
        ],
        [
         "2016-11-24",
         182
        ],
        [
         "2016-06-22",
         6
        ],
        [
         "2016-11-25",
         104
        ],
        [
         "2016-11-30",
         152
        ],
        [
         "2016-05-28",
         12
        ],
        [
         "2016-06-19",
         13
        ],
        [
         "2016-03-11",
         8
        ],
        [
         "2016-03-27",
         3
        ],
        [
         "2016-06-08",
         17
        ],
        [
         "2016-11-19",
         148
        ],
        [
         "2016-12-20",
         156
        ],
        [
         "2016-12-21",
         157
        ],
        [
         "2016-06-15",
         14
        ],
        [
         "2016-07-31",
         46
        ],
        [
         "2016-08-03",
         126
        ],
        [
         "2016-04-04",
         12
        ],
        [
         "2016-06-13",
         9
        ],
        [
         "2016-01-11",
         7
        ],
        [
         "2016-12-22",
         103
        ],
        [
         "2016-03-14",
         9
        ],
        [
         "2016-04-16",
         7
        ],
        [
         "2016-04-18",
         11
        ],
        [
         "2016-08-12",
         148
        ],
        [
         "2016-09-22",
         126
        ],
        [
         "2016-10-17",
         120
        ],
        [
         "2016-08-19",
         149
        ],
        [
         "2016-04-11",
         12
        ],
        [
         "2016-09-14",
         129
        ],
        [
         "2016-06-29",
         7
        ],
        [
         "2016-03-03",
         6
        ],
        [
         "2016-01-05",
         7
        ],
        [
         "2016-01-06",
         2
        ],
        [
         "2016-06-27",
         13
        ],
        [
         "2016-04-29",
         7
        ],
        [
         "2016-08-10",
         88
        ],
        [
         "2016-10-30",
         121
        ],
        [
         "2016-01-20",
         7
        ],
        [
         "2016-05-05",
         14
        ],
        [
         "2016-02-11",
         4
        ],
        [
         "2016-04-19",
         7
        ],
        [
         "2016-09-12",
         162
        ],
        [
         "2016-10-06",
         185
        ],
        [
         "2016-02-09",
         10
        ],
        [
         "2016-04-14",
         7
        ],
        [
         "2016-01-29",
         8
        ],
        [
         "2016-01-26",
         9
        ],
        [
         "2016-08-13",
         129
        ],
        [
         "2016-11-15",
         147
        ],
        [
         "2016-02-15",
         11
        ],
        [
         "2016-09-18",
         148
        ],
        [
         "2016-12-03",
         178
        ],
        [
         "2016-03-20",
         11
        ],
        [
         "2016-07-13",
         44
        ],
        [
         "2016-09-08",
         139
        ],
        [
         "2016-10-21",
         125
        ],
        [
         "2016-05-08",
         15
        ],
        [
         "2016-09-01",
         83
        ],
        [
         "2016-02-25",
         15
        ],
        [
         "2016-03-16",
         7
        ],
        [
         "2016-04-08",
         13
        ],
        [
         "2016-12-25",
         163
        ],
        [
         "2016-11-21",
         147
        ],
        [
         "2016-12-31",
         195
        ],
        [
         "2016-09-25",
         100
        ],
        [
         "2016-03-19",
         11
        ],
        [
         "2016-08-30",
         131
        ],
        [
         "2016-10-29",
         109
        ],
        [
         "2016-04-02",
         13
        ],
        [
         "2016-08-07",
         140
        ],
        [
         "2016-11-06",
         125
        ],
        [
         "2016-10-26",
         154
        ],
        [
         "2016-03-31",
         10
        ],
        [
         "2016-09-02",
         140
        ],
        [
         "2016-02-18",
         13
        ],
        [
         "2016-07-10",
         34
        ],
        [
         "2016-07-16",
         40
        ],
        [
         "2016-12-30",
         158
        ],
        [
         "2016-05-12",
         13
        ],
        [
         "2016-12-17",
         165
        ],
        [
         "2016-07-24",
         85
        ],
        [
         "2016-02-28",
         8
        ],
        [
         "2016-12-02",
         172
        ],
        [
         "2016-01-24",
         7
        ],
        [
         "2016-08-27",
         112
        ],
        [
         "2016-10-09",
         142
        ],
        [
         "2016-05-01",
         13
        ],
        [
         "2016-08-18",
         137
        ],
        [
         "2016-11-07",
         153
        ],
        [
         "2016-12-18",
         182
        ],
        [
         "2016-02-12",
         10
        ],
        [
         "2016-04-20",
         9
        ],
        [
         "2016-09-16",
         102
        ],
        [
         "2016-11-04",
         136
        ],
        [
         "2016-12-29",
         181
        ],
        [
         "2016-03-02",
         10
        ],
        [
         "2016-08-04",
         99
        ],
        [
         "2016-12-27",
         131
        ],
        [
         "2016-06-05",
         7
        ],
        [
         "2016-06-14",
         11
        ],
        [
         "2016-12-05",
         167
        ],
        [
         "2016-04-13",
         18
        ],
        [
         "2016-09-13",
         168
        ],
        [
         "2016-10-14",
         143
        ],
        [
         "2016-04-09",
         10
        ],
        [
         "2016-07-29",
         64
        ],
        [
         "2016-08-21",
         115
        ],
        [
         "2016-08-22",
         62
        ],
        [
         "2016-09-24",
         107
        ],
        [
         "2016-05-02",
         11
        ],
        [
         "2016-07-08",
         38
        ],
        [
         "2016-08-29",
         147
        ],
        [
         "2016-01-03",
         7
        ],
        [
         "2016-07-04",
         58
        ],
        [
         "2016-10-11",
         117
        ],
        [
         "2016-03-24",
         5
        ],
        [
         "2016-08-14",
         128
        ],
        [
         "2016-11-23",
         116
        ],
        [
         "2016-07-12",
         47
        ],
        [
         "2016-12-11",
         178
        ],
        [
         "2016-01-21",
         7
        ],
        [
         "2016-04-17",
         16
        ],
        [
         "2016-07-30",
         31
        ],
        [
         "2016-03-04",
         6
        ],
        [
         "2016-08-08",
         180
        ],
        [
         "2016-01-27",
         3
        ],
        [
         "2016-11-18",
         161
        ],
        [
         "2016-04-01",
         11
        ],
        [
         "2016-07-14",
         39
        ],
        [
         "2016-11-01",
         119
        ],
        [
         "2016-01-14",
         6
        ],
        [
         "2016-06-18",
         8
        ],
        [
         "2016-08-09",
         124
        ],
        [
         "2016-03-21",
         5
        ],
        [
         "2016-05-15",
         8
        ],
        [
         "2016-06-10",
         14
        ],
        [
         "2016-10-12",
         121
        ],
        [
         "2016-02-19",
         10
        ],
        [
         "2016-02-21",
         13
        ],
        [
         "2016-03-26",
         8
        ],
        [
         "2016-04-07",
         11
        ],
        [
         "2016-11-28",
         153
        ],
        [
         "2016-05-16",
         8
        ],
        [
         "2016-11-17",
         139
        ],
        [
         "2016-09-03",
         115
        ],
        [
         "2016-10-16",
         89
        ],
        [
         "2016-05-14",
         12
        ],
        [
         "2016-06-23",
         9
        ],
        [
         "2016-10-22",
         161
        ],
        [
         "2016-08-02",
         104
        ],
        [
         "2016-12-04",
         166
        ],
        [
         "2016-02-13",
         10
        ],
        [
         "2016-04-12",
         7
        ],
        [
         "2016-07-27",
         40
        ],
        [
         "2016-02-26",
         7
        ],
        [
         "2016-05-10",
         6
        ],
        [
         "2016-09-17",
         129
        ],
        [
         "2016-05-17",
         8
        ],
        [
         "2016-11-27",
         152
        ],
        [
         "2016-04-03",
         5
        ],
        [
         "2016-10-13",
         118
        ],
        [
         "2016-02-02",
         10
        ],
        [
         "2016-11-26",
         136
        ],
        [
         "2016-12-06",
         193
        ],
        [
         "2016-03-10",
         5
        ],
        [
         "2016-06-24",
         10
        ],
        [
         "2016-11-02",
         126
        ],
        [
         "2016-12-14",
         150
        ],
        [
         "2016-02-07",
         8
        ],
        [
         "2016-09-19",
         170
        ],
        [
         "2016-08-11",
         91
        ],
        [
         "2016-10-10",
         129
        ],
        [
         "2016-01-17",
         7
        ],
        [
         "2016-10-19",
         112
        ],
        [
         "2016-01-12",
         7
        ],
        [
         "2016-06-09",
         6
        ],
        [
         "2016-07-11",
         69
        ],
        [
         "2016-11-10",
         140
        ],
        [
         "2016-01-08",
         10
        ],
        [
         "2016-05-04",
         9
        ],
        [
         "2016-02-17",
         12
        ],
        [
         "2016-02-23",
         3
        ],
        [
         "2016-07-18",
         21
        ],
        [
         "2016-11-05",
         119
        ],
        [
         "2016-12-10",
         122
        ],
        [
         "2016-09-10",
         118
        ],
        [
         "2016-03-28",
         13
        ],
        [
         "2016-05-30",
         15
        ],
        [
         "2016-11-29",
         160
        ],
        [
         "2016-04-15",
         9
        ],
        [
         "2016-04-28",
         8
        ],
        [
         "2016-12-09",
         148
        ],
        [
         "2016-01-30",
         6
        ],
        [
         "2016-03-15",
         5
        ],
        [
         "2016-04-24",
         14
        ],
        [
         "2016-04-23",
         6
        ],
        [
         "2016-03-08",
         14
        ],
        [
         "2016-06-26",
         8
        ],
        [
         "2016-12-16",
         130
        ],
        [
         "2016-03-06",
         6
        ],
        [
         "2016-05-19",
         7
        ],
        [
         "2016-07-07",
         45
        ],
        [
         "2016-01-22",
         10
        ],
        [
         "2016-02-10",
         5
        ],
        [
         "2016-02-24",
         11
        ],
        [
         "2016-07-01",
         35
        ],
        [
         "2016-07-23",
         34
        ],
        [
         "2016-01-02",
         12
        ],
        [
         "2016-09-06",
         106
        ],
        [
         "2016-01-31",
         8
        ],
        [
         "2016-03-17",
         8
        ],
        [
         "2016-04-05",
         10
        ],
        [
         "2016-08-17",
         124
        ],
        [
         "2016-02-05",
         8
        ],
        [
         "2016-06-21",
         15
        ],
        [
         "2016-08-24",
         166
        ],
        [
         "2016-09-21",
         133
        ],
        [
         "2016-10-08",
         180
        ],
        [
         "2016-04-06",
         5
        ],
        [
         "2016-05-24",
         15
        ],
        [
         "2016-03-30",
         10
        ],
        [
         "2016-10-28",
         119
        ],
        [
         "2016-12-08",
         162
        ],
        [
         "2016-06-03",
         8
        ],
        [
         "2016-06-30",
         10
        ],
        [
         "2016-07-06",
         24
        ],
        [
         "2016-07-20",
         72
        ],
        [
         "2016-03-13",
         6
        ],
        [
         "2016-03-05",
         17
        ],
        [
         "2016-03-07",
         9
        ],
        [
         "2016-06-28",
         13
        ],
        [
         "2016-12-24",
         170
        ],
        [
         "2016-01-23",
         14
        ],
        [
         "2016-10-05",
         148
        ],
        [
         "2016-02-06",
         14
        ],
        [
         "2016-03-12",
         19
        ],
        [
         "2016-01-04",
         8
        ],
        [
         "2016-05-20",
         9
        ],
        [
         "2016-06-12",
         11
        ],
        [
         "2016-07-05",
         39
        ],
        [
         "2016-10-31",
         118
        ],
        [
         "2016-11-13",
         136
        ],
        [
         "2016-12-28",
         161
        ],
        [
         "2016-02-14",
         10
        ],
        [
         "2016-05-29",
         8
        ],
        [
         "2016-11-12",
         132
        ],
        [
         "2016-06-11",
         10
        ],
        [
         "2016-09-28",
         121
        ],
        [
         "2016-05-25",
         7
        ],
        [
         "2016-01-15",
         10
        ],
        [
         "2016-01-25",
         4
        ],
        [
         "2016-12-01",
         167
        ],
        [
         "2016-02-20",
         10
        ],
        [
         "2016-06-25",
         9
        ],
        [
         "2016-10-04",
         112
        ],
        [
         "2016-02-01",
         10
        ],
        [
         "2016-11-20",
         87
        ],
        [
         "2016-01-16",
         11
        ],
        [
         "2016-07-22",
         45
        ],
        [
         "2016-11-11",
         85
        ],
        [
         "2016-04-21",
         5
        ],
        [
         "2016-08-25",
         152
        ],
        [
         "2016-01-10",
         10
        ],
        [
         "2016-03-09",
         5
        ],
        [
         "2016-01-18",
         7
        ],
        [
         "2016-05-22",
         12
        ],
        [
         "2016-07-28",
         39
        ],
        [
         "2016-09-20",
         136
        ],
        [
         "2016-09-29",
         81
        ],
        [
         "2016-02-16",
         4
        ],
        [
         "2016-02-27",
         3
        ],
        [
         "2016-01-07",
         9
        ],
        [
         "2016-10-18",
         140
        ],
        [
         "2016-10-25",
         124
        ],
        [
         "2016-01-09",
         9
        ],
        [
         "2016-04-10",
         6
        ],
        [
         "2016-09-07",
         137
        ],
        [
         "2016-10-01",
         127
        ],
        [
         "2016-12-23",
         159
        ],
        [
         "2016-05-18",
         2
        ],
        [
         "2016-06-01",
         15
        ],
        [
         "2016-06-04",
         8
        ],
        [
         "2016-06-20",
         10
        ],
        [
         "2016-09-04",
         136
        ],
        [
         "2016-10-15",
         158
        ],
        [
         "2016-12-26",
         175
        ],
        [
         "2016-04-27",
         10
        ],
        [
         "2016-07-25",
         39
        ],
        [
         "2016-11-03",
         172
        ],
        [
         "2016-05-06",
         15
        ],
        [
         "2016-06-07",
         11
        ],
        [
         "2016-08-28",
         122
        ],
        [
         "2016-09-11",
         87
        ],
        [
         "2016-03-18",
         15
        ],
        [
         "2016-12-07",
         237
        ],
        [
         "2016-07-09",
         58
        ],
        [
         "2016-11-09",
         125
        ],
        [
         "2016-03-29",
         10
        ],
        [
         "2016-03-23",
         6
        ],
        [
         "2016-06-06",
         11
        ],
        [
         "2016-07-15",
         59
        ],
        [
         "2016-11-22",
         170
        ],
        [
         "2016-10-02",
         157
        ],
        [
         "2016-11-16",
         117
        ],
        [
         "2015-03-09",
         6
        ],
        [
         "2015-05-19",
         6
        ],
        [
         "2015-03-06",
         9
        ],
        [
         "2015-04-09",
         5
        ],
        [
         "2015-09-02",
         7
        ],
        [
         "2015-12-22",
         12
        ],
        [
         "2015-05-10",
         3
        ],
        [
         "2015-09-28",
         2
        ],
        [
         "2015-03-12",
         5
        ],
        [
         "2015-03-16",
         5
        ],
        [
         "2015-04-01",
         5
        ],
        [
         "2015-04-24",
         3
        ],
        [
         "2015-03-11",
         6
        ],
        [
         "2015-06-15",
         6
        ],
        [
         "2015-10-16",
         9
        ],
        [
         "2015-11-02",
         4
        ],
        [
         "2015-11-27",
         14
        ],
        [
         "2015-12-31",
         7
        ],
        [
         "2015-08-01",
         9
        ],
        [
         "2015-04-19",
         4
        ],
        [
         "2015-10-30",
         12
        ],
        [
         "2015-12-29",
         14
        ],
        [
         "2015-06-19",
         13
        ],
        [
         "2015-10-13",
         13
        ],
        [
         "2015-04-07",
         9
        ],
        [
         "2015-08-24",
         10
        ],
        [
         "2015-09-29",
         7
        ],
        [
         "2015-01-20",
         6
        ],
        [
         "2015-09-06",
         4
        ],
        [
         "2015-09-21",
         5
        ],
        [
         "2015-12-05",
         13
        ],
        [
         "2015-04-28",
         7
        ],
        [
         "2015-06-22",
         5
        ],
        [
         "2015-11-21",
         7
        ],
        [
         "2015-05-16",
         11
        ],
        [
         "2015-12-30",
         7
        ],
        [
         "2015-09-20",
         7
        ],
        [
         "2015-02-25",
         5
        ],
        [
         "2015-03-21",
         4
        ],
        [
         "2015-09-15",
         4
        ],
        [
         "2015-11-30",
         9
        ],
        [
         "2015-02-03",
         7
        ],
        [
         "2015-02-09",
         2
        ],
        [
         "2015-02-17",
         4
        ],
        [
         "2015-09-04",
         6
        ],
        [
         "2015-05-25",
         9
        ],
        [
         "2015-09-17",
         5
        ],
        [
         "2015-02-04",
         7
        ],
        [
         "2015-06-23",
         15
        ],
        [
         "2015-02-07",
         6
        ],
        [
         "2015-05-06",
         8
        ],
        [
         "2015-02-01",
         5
        ],
        [
         "2015-12-06",
         5
        ],
        [
         "2015-07-21",
         10
        ],
        [
         "2015-08-10",
         4
        ],
        [
         "2015-09-10",
         9
        ],
        [
         "2015-10-24",
         9
        ],
        [
         "2015-02-10",
         9
        ],
        [
         "2015-03-22",
         6
        ],
        [
         "2015-04-18",
         7
        ],
        [
         "2015-01-24",
         8
        ],
        [
         "2015-04-08",
         3
        ],
        [
         "2015-05-03",
         4
        ],
        [
         "2015-09-07",
         2
        ],
        [
         "2015-09-09",
         9
        ],
        [
         "2015-11-15",
         2
        ],
        [
         "2015-05-18",
         8
        ],
        [
         "2015-06-05",
         6
        ],
        [
         "2015-06-09",
         5
        ],
        [
         "2015-12-17",
         11
        ],
        [
         "2015-06-24",
         7
        ],
        [
         "2015-07-06",
         10
        ],
        [
         "2015-01-23",
         3
        ],
        [
         "2015-08-21",
         10
        ],
        [
         "2015-07-27",
         10
        ],
        [
         "2015-05-23",
         7
        ],
        [
         "2015-07-24",
         5
        ],
        [
         "2015-08-02",
         8
        ],
        [
         "2015-12-11",
         13
        ],
        [
         "2015-04-22",
         4
        ],
        [
         "2015-06-27",
         9
        ],
        [
         "2015-11-17",
         6
        ],
        [
         "2015-06-11",
         5
        ],
        [
         "2015-11-06",
         8
        ],
        [
         "2015-03-19",
         4
        ],
        [
         "2015-08-17",
         10
        ],
        [
         "2015-03-13",
         10
        ],
        [
         "2015-05-21",
         6
        ],
        [
         "2015-06-01",
         4
        ],
        [
         "2015-11-08",
         7
        ],
        [
         "2015-04-11",
         6
        ],
        [
         "2015-11-28",
         6
        ],
        [
         "2015-01-11",
         9
        ],
        [
         "2015-09-16",
         5
        ],
        [
         "2015-10-08",
         7
        ],
        [
         "2015-10-28",
         6
        ],
        [
         "2015-04-15",
         13
        ],
        [
         "2015-08-08",
         8
        ],
        [
         "2015-04-27",
         9
        ],
        [
         "2015-04-16",
         7
        ],
        [
         "2015-10-11",
         7
        ],
        [
         "2015-08-19",
         11
        ],
        [
         "2015-10-25",
         7
        ],
        [
         "2015-11-07",
         5
        ],
        [
         "2015-09-19",
         9
        ],
        [
         "2015-11-25",
         8
        ],
        [
         "2015-06-26",
         7
        ],
        [
         "2015-07-12",
         7
        ],
        [
         "2015-07-11",
         12
        ],
        [
         "2015-10-12",
         11
        ],
        [
         "2015-01-10",
         4
        ],
        [
         "2015-01-22",
         9
        ],
        [
         "2015-10-18",
         7
        ],
        [
         "2015-11-22",
         4
        ],
        [
         "2015-12-01",
         11
        ],
        [
         "2015-03-15",
         10
        ],
        [
         "2015-07-29",
         6
        ],
        [
         "2015-12-08",
         11
        ],
        [
         "2015-04-14",
         3
        ],
        [
         "2015-01-29",
         4
        ],
        [
         "2015-03-18",
         8
        ],
        [
         "2015-04-29",
         11
        ],
        [
         "2015-01-08",
         8
        ],
        [
         "2015-01-26",
         4
        ],
        [
         "2015-06-06",
         7
        ],
        [
         "2015-03-01",
         6
        ],
        [
         "2015-08-06",
         12
        ],
        [
         "2015-12-12",
         17
        ],
        [
         "2015-08-31",
         12
        ],
        [
         "2015-07-10",
         7
        ],
        [
         "2015-01-17",
         8
        ],
        [
         "2015-07-18",
         7
        ],
        [
         "2015-12-02",
         9
        ],
        [
         "2015-04-20",
         11
        ],
        [
         "2015-10-20",
         9
        ],
        [
         "2015-12-26",
         8
        ],
        [
         "2015-12-27",
         9
        ],
        [
         "2015-05-09",
         6
        ],
        [
         "2015-01-15",
         7
        ],
        [
         "2015-07-15",
         4
        ],
        [
         "2015-12-15",
         5
        ],
        [
         "2015-01-25",
         4
        ],
        [
         "2015-05-29",
         1
        ],
        [
         "2015-11-04",
         1
        ],
        [
         "2015-11-26",
         6
        ],
        [
         "2015-12-04",
         3
        ],
        [
         "2015-12-23",
         12
        ],
        [
         "2015-02-11",
         12
        ],
        [
         "2015-12-07",
         17
        ],
        [
         "2015-01-14",
         9
        ],
        [
         "2015-12-10",
         9
        ],
        [
         "2015-05-11",
         4
        ],
        [
         "2015-02-28",
         5
        ],
        [
         "2015-03-05",
         3
        ],
        [
         "2015-03-28",
         8
        ],
        [
         "2015-10-07",
         6
        ],
        [
         "2015-07-30",
         10
        ],
        [
         "2015-04-23",
         10
        ],
        [
         "2015-07-13",
         12
        ],
        [
         "2015-08-30",
         8
        ],
        [
         "2015-05-05",
         3
        ],
        [
         "2015-09-22",
         5
        ],
        [
         "2015-10-14",
         6
        ],
        [
         "2015-02-20",
         5
        ],
        [
         "2015-06-20",
         7
        ],
        [
         "2015-07-01",
         8
        ],
        [
         "2015-10-03",
         7
        ],
        [
         "2015-12-24",
         12
        ],
        [
         "2015-01-30",
         10
        ],
        [
         "2015-02-14",
         8
        ],
        [
         "2015-04-02",
         3
        ],
        [
         "2015-06-25",
         4
        ],
        [
         "2015-04-25",
         8
        ],
        [
         "2015-07-08",
         6
        ],
        [
         "2015-12-25",
         8
        ],
        [
         "2015-05-14",
         6
        ],
        [
         "2015-08-14",
         10
        ],
        [
         "2015-01-03",
         8
        ],
        [
         "2015-01-06",
         6
        ],
        [
         "2015-10-27",
         3
        ],
        [
         "2015-12-19",
         14
        ],
        [
         "2015-03-24",
         12
        ],
        [
         "2015-04-13",
         4
        ],
        [
         "2015-02-24",
         9
        ],
        [
         "2015-05-22",
         5
        ],
        [
         "2015-07-17",
         11
        ],
        [
         "2015-07-31",
         9
        ],
        [
         "2015-09-03",
         8
        ],
        [
         "2015-08-16",
         5
        ],
        [
         "2015-09-12",
         7
        ],
        [
         "2015-11-11",
         11
        ],
        [
         "2015-04-06",
         5
        ],
        [
         "2015-05-13",
         13
        ],
        [
         "2015-09-05",
         3
        ],
        [
         "2015-10-26",
         9
        ],
        [
         "2015-06-17",
         6
        ],
        [
         "2015-08-03",
         5
        ],
        [
         "2015-08-20",
         12
        ],
        [
         "2015-09-23",
         7
        ],
        [
         "2015-03-02",
         7
        ],
        [
         "2015-08-27",
         11
        ],
        [
         "2015-09-14",
         9
        ],
        [
         "2015-12-20",
         14
        ],
        [
         "2015-08-22",
         10
        ],
        [
         "2015-10-17",
         6
        ],
        [
         "2015-04-03",
         9
        ],
        [
         "2015-09-26",
         10
        ],
        [
         "2015-10-21",
         9
        ],
        [
         "2015-11-19",
         4
        ],
        [
         "2015-10-01",
         8
        ],
        [
         "2015-10-02",
         8
        ],
        [
         "2015-05-12",
         8
        ],
        [
         "2015-07-23",
         7
        ],
        [
         "2015-05-02",
         5
        ],
        [
         "2015-07-20",
         9
        ],
        [
         "2015-12-14",
         16
        ],
        [
         "2015-03-04",
         8
        ],
        [
         "2015-03-23",
         5
        ],
        [
         "2015-04-17",
         9
        ],
        [
         "2015-08-09",
         8
        ],
        [
         "2015-10-19",
         10
        ],
        [
         "2015-12-09",
         7
        ],
        [
         "2015-02-23",
         5
        ],
        [
         "2015-03-14",
         4
        ],
        [
         "2015-11-03",
         6
        ],
        [
         "2015-06-04",
         6
        ],
        [
         "2015-02-27",
         3
        ],
        [
         "2015-07-28",
         5
        ],
        [
         "2015-06-28",
         5
        ],
        [
         "2015-02-13",
         6
        ],
        [
         "2015-03-17",
         9
        ],
        [
         "2015-04-12",
         11
        ],
        [
         "2015-10-09",
         3
        ],
        [
         "2015-06-03",
         3
        ],
        [
         "2015-02-26",
         11
        ],
        [
         "2015-06-07",
         8
        ],
        [
         "2015-07-22",
         7
        ],
        [
         "2015-09-24",
         9
        ],
        [
         "2015-11-20",
         9
        ],
        [
         "2015-03-26",
         9
        ],
        [
         "2015-10-22",
         7
        ],
        [
         "2015-05-24",
         8
        ],
        [
         "2015-01-05",
         3
        ],
        [
         "2015-06-21",
         9
        ],
        [
         "2015-07-04",
         9
        ],
        [
         "2015-07-26",
         5
        ],
        [
         "2015-12-16",
         11
        ],
        [
         "2015-05-28",
         5
        ],
        [
         "2015-08-26",
         13
        ],
        [
         "2015-02-19",
         5
        ],
        [
         "2015-08-12",
         9
        ],
        [
         "2015-02-02",
         6
        ],
        [
         "2015-01-04",
         5
        ],
        [
         "2015-09-13",
         11
        ],
        [
         "2015-11-10",
         7
        ],
        [
         "2015-04-26",
         4
        ],
        [
         "2015-02-06",
         10
        ],
        [
         "2015-09-30",
         9
        ],
        [
         "2015-04-30",
         13
        ],
        [
         "2015-10-29",
         6
        ],
        [
         "2015-01-16",
         7
        ],
        [
         "2015-03-20",
         9
        ],
        [
         "2015-05-31",
         3
        ],
        [
         "2015-07-09",
         5
        ],
        [
         "2015-08-13",
         12
        ],
        [
         "2015-02-15",
         6
        ],
        [
         "2015-09-01",
         2
        ],
        [
         "2015-09-27",
         3
        ],
        [
         "2015-10-04",
         6
        ],
        [
         "2015-10-31",
         5
        ],
        [
         "2015-01-19",
         6
        ],
        [
         "2015-11-13",
         4
        ],
        [
         "2015-03-08",
         4
        ],
        [
         "2015-09-08",
         9
        ],
        [
         "2015-04-21",
         5
        ],
        [
         "2015-06-30",
         6
        ],
        [
         "2015-07-02",
         3
        ],
        [
         "2015-08-07",
         11
        ],
        [
         "2015-02-05",
         6
        ],
        [
         "2015-02-16",
         3
        ],
        [
         "2015-05-01",
         12
        ],
        [
         "2015-07-16",
         6
        ],
        [
         "2015-01-02",
         4
        ],
        [
         "2015-01-21",
         7
        ],
        [
         "2015-04-10",
         5
        ],
        [
         "2015-10-23",
         7
        ],
        [
         "2015-02-18",
         2
        ],
        [
         "2015-06-13",
         4
        ],
        [
         "2015-12-13",
         12
        ],
        [
         "2015-01-13",
         3
        ],
        [
         "2015-01-12",
         7
        ],
        [
         "2015-11-29",
         6
        ],
        [
         "2015-03-07",
         9
        ],
        [
         "2015-07-19",
         7
        ],
        [
         "2015-11-18",
         7
        ],
        [
         "2015-05-26",
         5
        ],
        [
         "2015-08-11",
         5
        ],
        [
         "2015-12-21",
         3
        ],
        [
         "2015-12-03",
         16
        ],
        [
         "2015-06-12",
         12
        ],
        [
         "2015-03-10",
         2
        ],
        [
         "2015-07-25",
         9
        ],
        [
         "2015-05-15",
         7
        ],
        [
         "2015-10-05",
         3
        ],
        [
         "2015-03-27",
         3
        ],
        [
         "2015-05-04",
         11
        ],
        [
         "2015-11-24",
         10
        ],
        [
         "2015-07-14",
         9
        ],
        [
         "2015-10-10",
         4
        ],
        [
         "2015-02-12",
         3
        ],
        [
         "2015-07-03",
         13
        ],
        [
         "2015-09-11",
         8
        ],
        [
         "2015-12-28",
         10
        ],
        [
         "2015-02-22",
         10
        ],
        [
         "2015-05-20",
         6
        ],
        [
         "2015-08-04",
         8
        ],
        [
         "2015-01-28",
         5
        ],
        [
         "2015-03-31",
         4
        ],
        [
         "2015-05-27",
         5
        ],
        [
         "2015-08-05",
         7
        ],
        [
         "2015-08-25",
         11
        ],
        [
         "2015-06-14",
         4
        ],
        [
         "2015-01-01",
         4
        ],
        [
         "2015-02-21",
         1
        ],
        [
         "2015-03-25",
         5
        ],
        [
         "2015-01-18",
         6
        ],
        [
         "2015-03-30",
         4
        ],
        [
         "2015-07-05",
         10
        ],
        [
         "2015-11-09",
         4
        ],
        [
         "2015-03-29",
         6
        ],
        [
         "2015-08-18",
         8
        ],
        [
         "2015-01-09",
         4
        ],
        [
         "2015-08-28",
         8
        ],
        [
         "2015-01-27",
         5
        ],
        [
         "2015-02-08",
         4
        ],
        [
         "2015-05-08",
         10
        ],
        [
         "2015-06-08",
         8
        ],
        [
         "2015-12-18",
         10
        ],
        [
         "2015-04-05",
         4
        ],
        [
         "2015-06-16",
         2
        ],
        [
         "2015-08-29",
         6
        ],
        [
         "2015-08-23",
         5
        ],
        [
         "2015-06-29",
         8
        ],
        [
         "2015-11-01",
         6
        ],
        [
         "2015-04-04",
         7
        ],
        [
         "2015-06-02",
         12
        ],
        [
         "2015-09-18",
         9
        ],
        [
         "2015-10-15",
         6
        ],
        [
         "2015-01-07",
         4
        ],
        [
         "2015-03-03",
         8
        ],
        [
         "2015-05-30",
         7
        ],
        [
         "2015-09-25",
         6
        ],
        [
         "2015-11-23",
         5
        ],
        [
         "2015-05-07",
         5
        ],
        [
         "2015-11-12",
         6
        ],
        [
         "2015-11-14",
         5
        ],
        [
         "2015-11-16",
         8
        ],
        [
         "2015-06-18",
         11
        ],
        [
         "2015-07-07",
         9
        ],
        [
         "2015-01-31",
         7
        ],
        [
         "2015-08-15",
         12
        ],
        [
         "2015-10-06",
         7
        ],
        [
         "2015-11-05",
         6
        ],
        [
         "2015-05-17",
         9
        ],
        [
         "2015-06-10",
         8
        ]
       ],
       "datasetInfos": [],
       "dbfsResultPath": null,
       "isJsonSchema": true,
       "metadata": {},
       "overflow": false,
       "plotOptions": {
        "customPlotOptions": {},
        "displayType": "table",
        "pivotAggregation": null,
        "pivotColumns": null,
        "xColumns": null,
        "yColumns": null
       },
       "removedWidgets": [],
       "schema": [
        {
         "metadata": "{\"__detected_date_formats\":\"M/d/yyyy\"}",
         "name": "OrderDate",
         "type": "\"date\""
        },
        {
         "metadata": "{}",
         "name": "TotalOrder",
         "type": "\"long\""
        }
       ],
       "type": "table"
      }
     },
     "output_type": "display_data"
    },
    {
     "output_type": "display_data",
     "data": {
      "text/plain": [
       "Databricks visualization. Run in Databricks to view."
      ]
     },
     "metadata": {
      "application/vnd.databricks.v1.subcommand+json": {
       "baseErrorDetails": null,
       "bindings": {},
       "collapsed": false,
       "command": "%python\n__backend_agg_display_orig = display\n__backend_agg_dfs = []\ndef __backend_agg_display_new(df):\n    __backend_agg_df_modules = [\"pandas.core.frame\", \"databricks.koalas.frame\", \"pyspark.sql.dataframe\", \"pyspark.pandas.frame\", \"pyspark.sql.connect.dataframe\"]\n    if (type(df).__module__ in __backend_agg_df_modules and type(df).__name__ == 'DataFrame') or isinstance(df, list):\n        __backend_agg_dfs.append(df)\n\ndisplay = __backend_agg_display_new\n\ndef __backend_agg_user_code_fn():\n    import base64\n    exec(base64.standard_b64decode(\"ZGZfc2FsZXMuZ3JvdXBCeSgiT3JkZXJEYXRlIikuYWdnKGNvdW50KCJPcmRlck51bWJlciIpLmFsaWFzKCJUb3RhbE9yZGVyIikpLmRpc3BsYXkoKQ==\").decode())\n\ntry:\n    # run user code\n    __backend_agg_user_code_fn()\n\n    #reset display function\n    display = __backend_agg_display_orig\n\n    if len(__backend_agg_dfs) > 0:\n        # create a temp view\n        if type(__backend_agg_dfs[0]).__module__ == \"databricks.koalas.frame\":\n            # koalas dataframe\n            __backend_agg_dfs[0].to_spark().createOrReplaceTempView(\"DatabricksView55a8288\")\n        elif type(__backend_agg_dfs[0]).__module__ == \"pandas.core.frame\" or isinstance(__backend_agg_dfs[0], list):\n            # pandas dataframe\n            spark.createDataFrame(__backend_agg_dfs[0]).createOrReplaceTempView(\"DatabricksView55a8288\")\n        else:\n            __backend_agg_dfs[0].createOrReplaceTempView(\"DatabricksView55a8288\")\n        #run backend agg\n        display(spark.sql(\"\"\"WITH q AS (select * from DatabricksView55a8288) SELECT `OrderDate`,SUM(`TotalOrder`) `column_e2c1322a125` FROM q GROUP BY `OrderDate`\"\"\"))\n    else:\n        displayHTML(\"dataframe no longer exists. If you're using dataframe.display(), use display(dataframe) instead.\")\n\n\nfinally:\n    spark.sql(\"drop view if exists DatabricksView55a8288\")\n    display = __backend_agg_display_orig\n    del __backend_agg_display_new\n    del __backend_agg_display_orig\n    del __backend_agg_dfs\n    del __backend_agg_user_code_fn\n\n",
       "commandTitle": "Visualization 1",
       "commandType": "auto",
       "commandVersion": 0,
       "commentThread": [],
       "commentsVisible": false,
       "contentSha256Hex": null,
       "customPlotOptions": {
        "redashChart": [
         {
          "key": "type",
          "value": "CHART"
         },
         {
          "key": "options",
          "value": {
           "alignYAxesAtZero": true,
           "coefficient": 1,
           "columnConfigurationMap": {
            "x": {
             "column": "OrderDate",
             "id": "column_e2c1322a124"
            },
            "y": [
             {
              "column": "TotalOrder",
              "id": "column_e2c1322a125",
              "transform": "SUM"
             }
            ]
           },
           "dateTimeFormat": "DD/MM/YYYY HH:mm",
           "direction": {
            "type": "counterclockwise"
           },
           "error_y": {
            "type": "data",
            "visible": true
           },
           "globalSeriesType": "area",
           "legend": {
            "traceorder": "normal"
           },
           "missingValuesAsZero": true,
           "numberFormat": "0,0.[00000]",
           "percentFormat": "0[.]00%",
           "series": {
            "error_y": {
             "type": "data",
             "visible": true
            },
            "stacking": null
           },
           "seriesOptions": {
            "column_e2c1322a125": {
             "name": "TotalOrder",
             "type": "area",
             "yAxis": 0
            }
           },
           "showDataLabels": false,
           "sizemode": "diameter",
           "sortX": true,
           "sortY": true,
           "swappedAxes": false,
           "textFormat": "",
           "useAggregationsUi": true,
           "valuesOptions": {},
           "version": 2,
           "xAxis": {
            "labels": {
             "enabled": true
            },
            "type": "-"
           },
           "yAxis": [
            {
             "type": "-"
            },
            {
             "opposite": true,
             "type": "-"
            }
           ]
          }
         }
        ]
       },
       "datasetPreviewNameToCmdIdMap": {},
       "diffDeletes": [],
       "diffInserts": [],
       "displayType": "redashChart",
       "error": null,
       "errorDetails": null,
       "errorSummary": null,
       "errorTraceType": null,
       "finishTime": 0,
       "globalVars": {},
       "guid": "",
       "height": "auto",
       "hideCommandCode": false,
       "hideCommandResult": false,
       "iPythonMetadata": null,
       "inputWidgets": {},
       "isLockedInExamMode": false,
       "latestUser": "a user",
       "latestUserId": null,
       "listResultMetadata": null,
       "metadata": {
        "byteLimit": 2048000,
        "rowLimit": 10000
       },
       "nuid": "5e1f41ac-c663-4d05-95d0-772390ea7c17",
       "origId": 0,
       "parentHierarchy": [],
       "pivotAggregation": null,
       "pivotColumns": null,
       "position": 23.0,
       "resultDbfsErrorMessage": null,
       "resultDbfsStatus": "INLINED_IN_TREE",
       "results": null,
       "showCommandTitle": false,
       "startTime": 0,
       "state": "finished",
       "streamStates": {},
       "subcommandOptions": {
        "queryPlan": {
         "groups": [
          {
           "column": "OrderDate",
           "type": "column"
          }
         ],
         "selects": [
          {
           "column": "OrderDate",
           "type": "column"
          },
          {
           "alias": "column_e2c1322a125",
           "args": [
            {
             "column": "TotalOrder",
             "type": "column"
            }
           ],
           "function": "SUM",
           "type": "function"
          }
         ]
        }
       },
       "submitTime": 0,
       "subtype": "tableResultSubCmd.visualization",
       "tableResultIndex": 0,
       "tableResultSettingsMap": {},
       "useConsistentColors": false,
       "version": "CommandV1",
       "width": "auto",
       "workflows": [],
       "xColumns": null,
       "yColumns": null
      }
     },
     "output_type": "display_data"
    }
   ],
   "source": [
    "df_sales.groupBy(\"OrderDate\").agg(count(\"OrderNumber\").alias(\"TotalOrder\")).display()"
   ]
  },
  {
   "cell_type": "code",
   "execution_count": 0,
   "metadata": {
    "application/vnd.databricks.v1+cell": {
     "cellMetadata": {
      "byteLimit": 2048000,
      "rowLimit": 10000
     },
     "inputWidgets": {},
     "nuid": "11a4eadf-7b7d-4da7-9c77-30dcfbba399b",
     "showTitle": false,
     "tableResultSettingsMap": {},
     "title": ""
    }
   },
   "outputs": [
    {
     "output_type": "display_data",
     "data": {
      "text/html": [
       "<style scoped>\n",
       "  .table-result-container {\n",
       "    max-height: 300px;\n",
       "    overflow: auto;\n",
       "  }\n",
       "  table, th, td {\n",
       "    border: 1px solid black;\n",
       "    border-collapse: collapse;\n",
       "  }\n",
       "  th, td {\n",
       "    padding: 5px;\n",
       "  }\n",
       "  th {\n",
       "    text-align: left;\n",
       "  }\n",
       "</style><div class='table-result-container'><table class='table-result'><thead style='background-color: white'><tr><th>ProductCategoryKey</th><th>CategoryName</th></tr></thead><tbody><tr><td>1</td><td>Bikes</td></tr><tr><td>2</td><td>Components</td></tr><tr><td>3</td><td>Clothing</td></tr><tr><td>4</td><td>Accessories</td></tr></tbody></table></div>"
      ]
     },
     "metadata": {
      "application/vnd.databricks.v1+output": {
       "addedWidgets": {},
       "aggData": [],
       "aggError": "",
       "aggOverflow": false,
       "aggSchema": [],
       "aggSeriesLimitReached": false,
       "aggType": "",
       "arguments": {},
       "columnCustomDisplayInfos": {},
       "data": [
        [
         1,
         "Bikes"
        ],
        [
         2,
         "Components"
        ],
        [
         3,
         "Clothing"
        ],
        [
         4,
         "Accessories"
        ]
       ],
       "datasetInfos": [],
       "dbfsResultPath": null,
       "isJsonSchema": true,
       "metadata": {},
       "overflow": false,
       "plotOptions": {
        "customPlotOptions": {},
        "displayType": "table",
        "pivotAggregation": null,
        "pivotColumns": null,
        "xColumns": null,
        "yColumns": null
       },
       "removedWidgets": [],
       "schema": [
        {
         "metadata": "{}",
         "name": "ProductCategoryKey",
         "type": "\"integer\""
        },
        {
         "metadata": "{}",
         "name": "CategoryName",
         "type": "\"string\""
        }
       ],
       "type": "table"
      }
     },
     "output_type": "display_data"
    }
   ],
   "source": [
    "df_procat.limit(10).display()"
   ]
  },
  {
   "cell_type": "code",
   "execution_count": 0,
   "metadata": {
    "application/vnd.databricks.v1+cell": {
     "cellMetadata": {
      "byteLimit": 2048000,
      "rowLimit": 10000
     },
     "inputWidgets": {},
     "nuid": "b0729c6f-515a-451d-bd49-9b2fca36510b",
     "showTitle": false,
     "tableResultSettingsMap": {},
     "title": ""
    }
   },
   "outputs": [],
   "source": [
    "df_subcat.createOrReplaceTempView(\"dim_product_subcategories\")\n",
    "df_pro.createOrReplaceTempView(\"dim_products\")\n",
    "df_sales.createOrReplaceTempView(\"fact_sales\")"
   ]
  },
  {
   "cell_type": "code",
   "execution_count": 0,
   "metadata": {
    "application/vnd.databricks.v1+cell": {
     "cellMetadata": {
      "byteLimit": 2048000,
      "rowLimit": 10000
     },
     "inputWidgets": {},
     "nuid": "f89df65e-8335-45e1-b89f-80b46bcf4c19",
     "showTitle": false,
     "tableResultSettingsMap": {
      "0": {
       "dataGridStateBlob": "{\"version\":1,\"tableState\":{\"columnPinning\":{\"left\":[\"#row_number#\"],\"right\":[]},\"columnSizing\":{},\"columnVisibility\":{}},\"settings\":{\"columns\":{}},\"syncTimestamp\":1754737414494}",
       "filterBlob": null,
       "queryPlanFiltersBlob": null,
       "tableResultIndex": 0
      }
     },
     "title": ""
    }
   },
   "outputs": [
    {
     "output_type": "display_data",
     "data": {
      "text/html": [
       "<style scoped>\n",
       "  .table-result-container {\n",
       "    max-height: 300px;\n",
       "    overflow: auto;\n",
       "  }\n",
       "  table, th, td {\n",
       "    border: 1px solid black;\n",
       "    border-collapse: collapse;\n",
       "  }\n",
       "  th, td {\n",
       "    padding: 5px;\n",
       "  }\n",
       "  th {\n",
       "    text-align: left;\n",
       "  }\n",
       "</style><div class='table-result-container'><table class='table-result'><thead style='background-color: white'><tr><th>subcategoryname</th><th>TotalSales</th></tr></thead><tbody><tr><td>Mountain Bikes</td><td>4706</td></tr><tr><td>Hydration Packs</td><td>695</td></tr><tr><td>Road Bikes</td><td>7099</td></tr><tr><td>Bottles and Cages</td><td>4485</td></tr><tr><td>Vests</td><td>521</td></tr><tr><td>Helmets</td><td>6034</td></tr><tr><td>Jerseys</td><td>3113</td></tr><tr><td>Gloves</td><td>1332</td></tr><tr><td>Touring Bikes</td><td>2124</td></tr><tr><td>Bike Racks</td><td>302</td></tr><tr><td>Fenders</td><td>1975</td></tr><tr><td>Caps</td><td>2062</td></tr><tr><td>Shorts</td><td>944</td></tr><tr><td>Bike Stands</td><td>234</td></tr><tr><td>Tires and Tubes</td><td>9084</td></tr><tr><td>Cleaners</td><td>850</td></tr><tr><td>Socks</td><td>538</td></tr></tbody></table></div>"
      ]
     },
     "metadata": {
      "application/vnd.databricks.v1+output": {
       "addedWidgets": {},
       "aggData": [],
       "aggError": "",
       "aggOverflow": false,
       "aggSchema": [],
       "aggSeriesLimitReached": false,
       "aggType": "",
       "arguments": {},
       "columnCustomDisplayInfos": {},
       "data": [
        [
         "Mountain Bikes",
         4706
        ],
        [
         "Hydration Packs",
         695
        ],
        [
         "Road Bikes",
         7099
        ],
        [
         "Bottles and Cages",
         4485
        ],
        [
         "Vests",
         521
        ],
        [
         "Helmets",
         6034
        ],
        [
         "Jerseys",
         3113
        ],
        [
         "Gloves",
         1332
        ],
        [
         "Touring Bikes",
         2124
        ],
        [
         "Bike Racks",
         302
        ],
        [
         "Fenders",
         1975
        ],
        [
         "Caps",
         2062
        ],
        [
         "Shorts",
         944
        ],
        [
         "Bike Stands",
         234
        ],
        [
         "Tires and Tubes",
         9084
        ],
        [
         "Cleaners",
         850
        ],
        [
         "Socks",
         538
        ]
       ],
       "datasetInfos": [],
       "dbfsResultPath": null,
       "isJsonSchema": true,
       "metadata": {},
       "overflow": false,
       "plotOptions": {
        "customPlotOptions": {},
        "displayType": "table",
        "pivotAggregation": null,
        "pivotColumns": null,
        "xColumns": null,
        "yColumns": null
       },
       "removedWidgets": [],
       "schema": [
        {
         "metadata": "{}",
         "name": "subcategoryname",
         "type": "\"string\""
        },
        {
         "metadata": "{}",
         "name": "TotalSales",
         "type": "\"long\""
        }
       ],
       "type": "table"
      }
     },
     "output_type": "display_data"
    },
    {
     "output_type": "display_data",
     "data": {
      "text/plain": [
       "Databricks visualization. Run in Databricks to view."
      ]
     },
     "metadata": {
      "application/vnd.databricks.v1.subcommand+json": {
       "baseErrorDetails": null,
       "bindings": {},
       "collapsed": false,
       "command": "%python\n__backend_agg_display_orig = display\n__backend_agg_dfs = []\ndef __backend_agg_display_new(df):\n    __backend_agg_df_modules = [\"pandas.core.frame\", \"databricks.koalas.frame\", \"pyspark.sql.dataframe\", \"pyspark.pandas.frame\", \"pyspark.sql.connect.dataframe\"]\n    if (type(df).__module__ in __backend_agg_df_modules and type(df).__name__ == 'DataFrame') or isinstance(df, list):\n        __backend_agg_dfs.append(df)\n\ndisplay = __backend_agg_display_new\n\ndef __backend_agg_user_code_fn():\n    import base64\n    exec(base64.standard_b64decode(\"c3Bhcmsuc3FsKCcnJwogICAgICAgICAgc2VsZWN0CiAgICAgICAgICBjLnN1YmNhdGVnb3J5bmFtZSwKICAgICAgICAgIGNvdW50KGRpc3RpbmN0IGEuT3JkZXJOdW1iZXIpIGFzIFRvdGFsU2FsZXMKCiAgICAgICAgICBmcm9tCiAgICAgICAgICAgIGZhY3Rfc2FsZXMgYQogICAgICAgICAgbGVmdCBqb2luCiAgICAgICAgICAgIGRpbV9wcm9kdWN0cyBiCiAgICAgICAgICBvbgogICAgICAgICAgICBhLlByb2R1Y3RLZXk9Yi5Qcm9kdWN0S2V5CiAgICAgICAgICBsZWZ0IGpvaW4KICAgICAgICAgICAgZGltX3Byb2R1Y3Rfc3ViY2F0ZWdvcmllcyBjCiAgICAgICAgICBvbiBiLlByb2R1Y3RTdWJjYXRlZ29yeUtleT1jLlByb2R1Y3RTdWJjYXRlZ29yeUtleQogICAgICAgICAgZ3JvdXAgYnkgYy5zdWJjYXRlZ29yeW5hbWUKICAgICAgICAgICcnJykuZGlzcGxheSgp\").decode())\n\ntry:\n    # run user code\n    __backend_agg_user_code_fn()\n\n    #reset display function\n    display = __backend_agg_display_orig\n\n    if len(__backend_agg_dfs) > 0:\n        # create a temp view\n        if type(__backend_agg_dfs[0]).__module__ == \"databricks.koalas.frame\":\n            # koalas dataframe\n            __backend_agg_dfs[0].to_spark().createOrReplaceTempView(\"DatabricksViewc0ec7f8\")\n        elif type(__backend_agg_dfs[0]).__module__ == \"pandas.core.frame\" or isinstance(__backend_agg_dfs[0], list):\n            # pandas dataframe\n            spark.createDataFrame(__backend_agg_dfs[0]).createOrReplaceTempView(\"DatabricksViewc0ec7f8\")\n        else:\n            __backend_agg_dfs[0].createOrReplaceTempView(\"DatabricksViewc0ec7f8\")\n        #run backend agg\n        display(spark.sql(\"\"\"WITH q AS (select * from DatabricksViewc0ec7f8) SELECT `subcategoryname`,SUM(`TotalSales`) `column_e2c1322a141` FROM q GROUP BY `subcategoryname`\"\"\"))\n    else:\n        displayHTML(\"dataframe no longer exists. If you're using dataframe.display(), use display(dataframe) instead.\")\n\n\nfinally:\n    spark.sql(\"drop view if exists DatabricksViewc0ec7f8\")\n    display = __backend_agg_display_orig\n    del __backend_agg_display_new\n    del __backend_agg_display_orig\n    del __backend_agg_dfs\n    del __backend_agg_user_code_fn\n\n",
       "commandTitle": "Visualization 1",
       "commandType": "auto",
       "commandVersion": 0,
       "commentThread": [],
       "commentsVisible": false,
       "contentSha256Hex": null,
       "customPlotOptions": {
        "redashChart": [
         {
          "key": "type",
          "value": "CHART"
         },
         {
          "key": "options",
          "value": {
           "alignYAxesAtZero": true,
           "coefficient": 1,
           "columnConfigurationMap": {
            "x": {
             "column": "subcategoryname",
             "id": "column_e2c1322a140"
            },
            "y": [
             {
              "column": "TotalSales",
              "id": "column_e2c1322a141",
              "transform": "SUM"
             }
            ]
           },
           "dateTimeFormat": "DD/MM/YYYY HH:mm",
           "direction": {
            "type": "counterclockwise"
           },
           "error_y": {
            "type": "data",
            "visible": true
           },
           "globalSeriesType": "column",
           "isAggregationOn": true,
           "legend": {
            "traceorder": "normal"
           },
           "missingValuesAsZero": true,
           "numberFormat": "0,0.[00000]",
           "percentFormat": "0[.]00%",
           "series": {
            "error_y": {
             "type": "data",
             "visible": true
            },
            "stacking": null
           },
           "seriesOptions": {
            "column_e2c1322a141": {
             "color": "#FF3621",
             "name": "TotalSales",
             "type": "column",
             "yAxis": 0
            }
           },
           "showDataLabels": false,
           "sizemode": "diameter",
           "sortX": true,
           "sortY": true,
           "swappedAxes": true,
           "textFormat": "",
           "useAggregationsUi": true,
           "valuesOptions": {},
           "version": 2,
           "xAxis": {
            "labels": {
             "enabled": true
            },
            "type": "-"
           },
           "yAxis": [
            {
             "type": "-"
            },
            {
             "opposite": true,
             "type": "-"
            }
           ]
          }
         }
        ]
       },
       "datasetPreviewNameToCmdIdMap": {},
       "diffDeletes": [],
       "diffInserts": [],
       "displayType": "redashChart",
       "error": null,
       "errorDetails": null,
       "errorSummary": null,
       "errorTraceType": null,
       "finishTime": 0,
       "globalVars": {},
       "guid": "",
       "height": "auto",
       "hideCommandCode": false,
       "hideCommandResult": false,
       "iPythonMetadata": null,
       "inputWidgets": {},
       "isLockedInExamMode": false,
       "latestUser": "a user",
       "latestUserId": null,
       "listResultMetadata": null,
       "metadata": {
        "byteLimit": 2048000,
        "rowLimit": 10000
       },
       "nuid": "c5d2f583-a560-4243-beb6-395c17c0800c",
       "origId": 0,
       "parentHierarchy": [],
       "pivotAggregation": null,
       "pivotColumns": null,
       "position": 26.0,
       "resultDbfsErrorMessage": null,
       "resultDbfsStatus": "INLINED_IN_TREE",
       "results": null,
       "showCommandTitle": false,
       "startTime": 0,
       "state": "finished",
       "streamStates": {},
       "subcommandOptions": {
        "queryPlan": {
         "groups": [
          {
           "column": "subcategoryname",
           "type": "column"
          }
         ],
         "selects": [
          {
           "column": "subcategoryname",
           "type": "column"
          },
          {
           "alias": "column_e2c1322a141",
           "args": [
            {
             "column": "TotalSales",
             "type": "column"
            }
           ],
           "function": "SUM",
           "type": "function"
          }
         ]
        }
       },
       "submitTime": 0,
       "subtype": "tableResultSubCmd.visualization",
       "tableResultIndex": 0,
       "tableResultSettingsMap": {},
       "useConsistentColors": false,
       "version": "CommandV1",
       "width": "auto",
       "workflows": [],
       "xColumns": null,
       "yColumns": null
      }
     },
     "output_type": "display_data"
    }
   ],
   "source": [
    "spark.sql('''\n",
    "          select\n",
    "          c.subcategoryname,\n",
    "          count(distinct a.OrderNumber) as TotalSales\n",
    "\n",
    "          from\n",
    "            fact_sales a\n",
    "          left join\n",
    "            dim_products b\n",
    "          on\n",
    "            a.ProductKey=b.ProductKey\n",
    "          left join\n",
    "            dim_product_subcategories c\n",
    "          on b.ProductSubcategoryKey=c.ProductSubcategoryKey\n",
    "          group by c.subcategoryname\n",
    "          ''').display()"
   ]
  },
  {
   "cell_type": "code",
   "execution_count": 0,
   "metadata": {
    "application/vnd.databricks.v1+cell": {
     "cellMetadata": {
      "byteLimit": 2048000,
      "rowLimit": 10000
     },
     "inputWidgets": {},
     "nuid": "88bb9f37-0d55-4a87-b554-0364f5e3a521",
     "showTitle": false,
     "tableResultSettingsMap": {},
     "title": ""
    }
   },
   "outputs": [],
   "source": []
  }
 ],
 "metadata": {
  "application/vnd.databricks.v1+notebook": {
   "computePreferences": null,
   "dashboards": [],
   "environmentMetadata": {
    "base_environment": "",
    "environment_version": "2"
   },
   "inputWidgetPreferences": null,
   "language": "python",
   "notebookMetadata": {
    "mostRecentlyExecutedCommandWithImplicitDF": {
     "commandId": 6927632923713517,
     "dataframes": [
      "_sqldf"
     ]
    },
    "pythonIndentUnit": 4
   },
   "notebookName": "Silver_Layer",
   "widgets": {}
  },
  "language_info": {
   "name": "python"
  }
 },
 "nbformat": 4,
 "nbformat_minor": 0
}